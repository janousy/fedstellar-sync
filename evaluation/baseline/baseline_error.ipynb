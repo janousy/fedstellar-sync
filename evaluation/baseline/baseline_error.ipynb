{
 "cells": [
  {
   "cell_type": "code",
   "execution_count": 32,
   "metadata": {
    "collapsed": true,
    "ExecuteTime": {
     "end_time": "2023-07-12T11:53:34.299619Z",
     "start_time": "2023-07-12T11:53:34.274038900Z"
    }
   },
   "outputs": [],
   "source": [
    "N_ROUNDS = 11"
   ]
  },
  {
   "cell_type": "code",
   "execution_count": 43,
   "outputs": [],
   "source": [
    "import pandas as pd\n",
    "import matplotlib.pyplot as plt\n",
    "import numpy as np\n",
    "import matplotlib\n",
    "matplotlib.use('Agg')\n",
    "import dataframe_image as dfi\n",
    "from attacks import helper\n",
    "import os\n",
    "from pathlib import Path\n",
    "pd.set_option('display.max_columns', None)\n",
    "\n",
    "fmnist_b = pd.read_csv('data/wandb_export_2023-07-12_baseline_fashionmnist_f1.csv')\n",
    "mnist_b = pd.read_csv('data/wandb_export_2023-07-12_baseline_mnist_f1.csv')\n",
    "cifar10_b = pd.read_csv('data/wandb_export_2023-07-12_baseline_cifar10_f1.csv')\n",
    "\n",
    "datasets = [mnist_b, fmnist_b, cifar10_b]"
   ],
   "metadata": {
    "collapsed": false,
    "ExecuteTime": {
     "end_time": "2023-07-12T12:22:55.087095200Z",
     "start_time": "2023-07-12T12:22:55.074500600Z"
    }
   }
  },
  {
   "cell_type": "code",
   "execution_count": 44,
   "outputs": [
    {
     "data": {
      "text/plain": "               MNIST FashionMNIST CIFAR10\nFedAvg           NaN      NaN        NaN \nFlTrust          NaN      NaN        NaN \nKrum             NaN      NaN        NaN \nSentinel         NaN      NaN        NaN \nSentinelGlobal   NaN      NaN        NaN \nTrimmedMean      NaN      NaN        NaN ",
      "text/html": "<div>\n<style scoped>\n    .dataframe tbody tr th:only-of-type {\n        vertical-align: middle;\n    }\n\n    .dataframe tbody tr th {\n        vertical-align: top;\n    }\n\n    .dataframe thead th {\n        text-align: right;\n    }\n</style>\n<table border=\"1\" class=\"dataframe\">\n  <thead>\n    <tr style=\"text-align: center;\">\n      <th></th>\n      <th>MNIST</th>\n      <th>FashionMNIST</th>\n      <th>CIFAR10</th>\n    </tr>\n  </thead>\n  <tbody>\n    <tr>\n      <th>FedAvg</th>\n      <td>NaN</td>\n      <td>NaN</td>\n      <td>NaN</td>\n    </tr>\n    <tr>\n      <th>FlTrust</th>\n      <td>NaN</td>\n      <td>NaN</td>\n      <td>NaN</td>\n    </tr>\n    <tr>\n      <th>Krum</th>\n      <td>NaN</td>\n      <td>NaN</td>\n      <td>NaN</td>\n    </tr>\n    <tr>\n      <th>Sentinel</th>\n      <td>NaN</td>\n      <td>NaN</td>\n      <td>NaN</td>\n    </tr>\n    <tr>\n      <th>SentinelGlobal</th>\n      <td>NaN</td>\n      <td>NaN</td>\n      <td>NaN</td>\n    </tr>\n    <tr>\n      <th>TrimmedMean</th>\n      <td>NaN</td>\n      <td>NaN</td>\n      <td>NaN</td>\n    </tr>\n  </tbody>\n</table>\n</div>"
     },
     "execution_count": 44,
     "metadata": {},
     "output_type": "execute_result"
    }
   ],
   "source": [
    "aggregation_list = [\"Krum\", \"FedAvg\", \"TrimmedMean\", \"FlTrust\", \"Sentinel\", \"SentinelGlobal\"]\n",
    "aggregation_list.sort()\n",
    "dataset_list = [\"MNIST\", \"FashionMNIST\", \"CIFAR10\"]\n",
    "overview_error = pd.DataFrame(data=None, index=aggregation_list, columns=dataset_list, dtype=None, copy=None)\n",
    "\n",
    "overview_error"
   ],
   "metadata": {
    "collapsed": false,
    "ExecuteTime": {
     "end_time": "2023-07-12T12:22:55.976663Z",
     "start_time": "2023-07-12T12:22:55.960583400Z"
    }
   }
  },
  {
   "cell_type": "code",
   "execution_count": 45,
   "outputs": [],
   "source": [
    "for aggregator in aggregation_list:\n",
    "    mnist_b_agg = mnist_b.filter(regex=(f'{aggregator}_'))\n",
    "    mnist_max_agg_name = mnist_b_agg.filter(regex='__MAX').columns[0]\n",
    "    mnist_min_agg_name = mnist_b_agg.filter(regex='__MIN').columns[0]\n",
    "    mnist_b[f'{aggregator}_ERROR'] = mnist_b_agg[mnist_max_agg_name] - mnist_b_agg[mnist_min_agg_name]\n",
    "\n",
    "for aggregator in aggregation_list:\n",
    "    fmnist_b_agg = fmnist_b.filter(regex=(f'{aggregator}_'))\n",
    "    fmnist_max_agg_name = fmnist_b_agg.filter(regex='__MAX').columns[0]\n",
    "    fmnist_min_agg_name = fmnist_b_agg.filter(regex='__MIN').columns[0]\n",
    "    fmnist_b[f'{aggregator}_ERROR'] = fmnist_b[fmnist_max_agg_name] - fmnist_b[fmnist_min_agg_name]\n",
    "\n",
    "for aggregator in aggregation_list:\n",
    "    cifar10_b_agg = cifar10_b.filter(regex=(f'{aggregator}_'))\n",
    "    cifar10_max_agg_name = cifar10_b_agg.filter(regex='__MAX').columns[0]\n",
    "    cifar10_min_agg_name = cifar10_b_agg.filter(regex='__MIN').columns[0]\n",
    "    cifar10_b[f'{aggregator}_ERROR'] = cifar10_b[cifar10_max_agg_name] - cifar10_b[cifar10_min_agg_name]"
   ],
   "metadata": {
    "collapsed": false,
    "ExecuteTime": {
     "end_time": "2023-07-12T12:22:56.866300200Z",
     "start_time": "2023-07-12T12:22:56.832372900Z"
    }
   }
  },
  {
   "cell_type": "code",
   "execution_count": 46,
   "outputs": [],
   "source": [
    "mnist_f1 = mnist_b[mnist_b.columns.drop(list(mnist_b.filter(regex='__MAX')))]\n",
    "mnist_f1 = mnist_f1[mnist_f1.columns.drop(list(mnist_f1.filter(regex='__MIN')))]\n",
    "\n",
    "tmp = pd.DataFrame(index=range(0,N_ROUNDS), columns=aggregation_list)\n",
    "for aggregator in aggregation_list:\n",
    "    vals = mnist_f1.filter(regex=(f'{aggregator}_ERROR')).dropna()\n",
    "    vals = vals.reset_index().iloc[:, 1]\n",
    "    assert len(vals) == N_ROUNDS\n",
    "    tmp[aggregator] = vals\n",
    "tmp = tmp.reindex(sorted(tmp.columns), axis=1)\n",
    "tmp = tmp.transpose()\n",
    "overview_error['MNIST'] = tmp[10]"
   ],
   "metadata": {
    "collapsed": false,
    "ExecuteTime": {
     "end_time": "2023-07-12T12:22:58.896600100Z",
     "start_time": "2023-07-12T12:22:58.874125800Z"
    }
   }
  },
  {
   "cell_type": "code",
   "execution_count": 47,
   "outputs": [],
   "source": [
    "fmnist_f1 = fmnist_b[fmnist_b.columns.drop(list(fmnist_b.filter(regex='__MAX')))]\n",
    "fmnist_f1 = fmnist_b[fmnist_b.columns.drop(list(fmnist_b.filter(regex='__MIN')))]\n",
    "\n",
    "tmp = pd.DataFrame(index=range(0,N_ROUNDS), columns=aggregation_list)\n",
    "for aggregator in aggregation_list:\n",
    "    vals = fmnist_b.filter(regex=(f'{aggregator}_ERROR')).dropna()\n",
    "    vals = vals.reset_index().iloc[:, 1]\n",
    "    tmp[aggregator] = vals\n",
    "    assert len(vals) == N_ROUNDS\n",
    "tmp = tmp.reindex(sorted(tmp.columns), axis=1)\n",
    "tmp = tmp.transpose()\n",
    "overview_error['FashionMNIST'] = tmp[10]"
   ],
   "metadata": {
    "collapsed": false,
    "ExecuteTime": {
     "end_time": "2023-07-12T12:22:59.232418900Z",
     "start_time": "2023-07-12T12:22:59.200468200Z"
    }
   }
  },
  {
   "cell_type": "code",
   "execution_count": 48,
   "outputs": [],
   "source": [
    "cifar10_f1 = cifar10_b[cifar10_b.columns.drop(list(cifar10_b.filter(regex='__MAX')))]\n",
    "cifar10_f1 = cifar10_f1[cifar10_f1.columns.drop(list(cifar10_f1.filter(regex='__MIN')))]\n",
    "\n",
    "tmp = pd.DataFrame(index=range(0,N_ROUNDS), columns=aggregation_list)\n",
    "for aggregator in aggregation_list:\n",
    "    vals = cifar10_f1.filter(regex=(f'{aggregator}_ERROR')).dropna()\n",
    "    vals = vals.reset_index().iloc[:, 1]\n",
    "    assert len(vals) == N_ROUNDS\n",
    "    tmp[aggregator] = vals\n",
    "tmp = tmp.reindex(sorted(tmp.columns), axis=1)\n",
    "tmp = tmp.transpose()\n",
    "overview_error['CIFAR10'] = tmp[10]"
   ],
   "metadata": {
    "collapsed": false,
    "ExecuteTime": {
     "end_time": "2023-07-12T12:22:59.640754900Z",
     "start_time": "2023-07-12T12:22:59.609410600Z"
    }
   }
  },
  {
   "cell_type": "code",
   "execution_count": 49,
   "outputs": [
    {
     "data": {
      "text/plain": "                  MNIST   FashionMNIST   CIFAR10\nFedAvg          0.074547    0.054585    0.043727\nFlTrust         0.074287    0.044983    0.050824\nKrum            0.092504    0.041928    0.057379\nSentinel        0.082352    0.049930    0.036738\nSentinelGlobal  0.077599    0.047320    0.042838\nTrimmedMean     0.077734    0.050720    0.035592",
      "text/html": "<div>\n<style scoped>\n    .dataframe tbody tr th:only-of-type {\n        vertical-align: middle;\n    }\n\n    .dataframe tbody tr th {\n        vertical-align: top;\n    }\n\n    .dataframe thead th {\n        text-align: right;\n    }\n</style>\n<table border=\"1\" class=\"dataframe\">\n  <thead>\n    <tr style=\"text-align: center;\">\n      <th></th>\n      <th>MNIST</th>\n      <th>FashionMNIST</th>\n      <th>CIFAR10</th>\n    </tr>\n  </thead>\n  <tbody>\n    <tr>\n      <th>FedAvg</th>\n      <td>0.074547</td>\n      <td>0.054585</td>\n      <td>0.043727</td>\n    </tr>\n    <tr>\n      <th>FlTrust</th>\n      <td>0.074287</td>\n      <td>0.044983</td>\n      <td>0.050824</td>\n    </tr>\n    <tr>\n      <th>Krum</th>\n      <td>0.092504</td>\n      <td>0.041928</td>\n      <td>0.057379</td>\n    </tr>\n    <tr>\n      <th>Sentinel</th>\n      <td>0.082352</td>\n      <td>0.049930</td>\n      <td>0.036738</td>\n    </tr>\n    <tr>\n      <th>SentinelGlobal</th>\n      <td>0.077599</td>\n      <td>0.047320</td>\n      <td>0.042838</td>\n    </tr>\n    <tr>\n      <th>TrimmedMean</th>\n      <td>0.077734</td>\n      <td>0.050720</td>\n      <td>0.035592</td>\n    </tr>\n  </tbody>\n</table>\n</div>"
     },
     "execution_count": 49,
     "metadata": {},
     "output_type": "execute_result"
    }
   ],
   "source": [
    "overview_error"
   ],
   "metadata": {
    "collapsed": false,
    "ExecuteTime": {
     "end_time": "2023-07-12T12:23:00.991592600Z",
     "start_time": "2023-07-12T12:23:00.976352400Z"
    }
   }
  },
  {
   "cell_type": "code",
   "execution_count": 50,
   "outputs": [],
   "source": [
    "pd.set_option('colheader_justify', 'center')\n",
    "overview_error_style = overview_error.style.set_caption(f'F1 SEM\\n')\n",
    "# overview_error_style.highlight_min(props='font-weight: bold')\n",
    "#tbl_style = overview_style.set_table_styles([dict(selector='th', props=[('text-align', 'center')])])\n",
    "#tbl_style.set_properties(**{'text-align': 'center'}).hide_index()\n",
    "dfi.export(overview_error_style, \"figures/baseline_overview_error.png\", dpi=300)"
   ],
   "metadata": {
    "collapsed": false,
    "ExecuteTime": {
     "end_time": "2023-07-12T12:23:02.068134800Z",
     "start_time": "2023-07-12T12:23:01.629709300Z"
    }
   }
  },
  {
   "cell_type": "code",
   "execution_count": null,
   "outputs": [],
   "source": [],
   "metadata": {
    "collapsed": false
   }
  }
 ],
 "metadata": {
  "kernelspec": {
   "display_name": "Python 3",
   "language": "python",
   "name": "python3"
  },
  "language_info": {
   "codemirror_mode": {
    "name": "ipython",
    "version": 2
   },
   "file_extension": ".py",
   "mimetype": "text/x-python",
   "name": "python",
   "nbconvert_exporter": "python",
   "pygments_lexer": "ipython2",
   "version": "2.7.6"
  }
 },
 "nbformat": 4,
 "nbformat_minor": 0
}
