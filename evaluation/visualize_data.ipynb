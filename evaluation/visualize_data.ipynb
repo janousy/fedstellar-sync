{
 "cells": [
  {
   "cell_type": "code",
   "execution_count": 2,
   "outputs": [
    {
     "name": "stdout",
     "output_type": "stream",
     "text": [
      "Requirement already satisfied: pyzmq<25 in c:\\users\\janos.laptop-42clk60g\\anaconda3\\envs\\ds\\lib\\site-packages (24.0.1)\n",
      "Requirement already satisfied: jupyter_client<8 in c:\\users\\janos.laptop-42clk60g\\anaconda3\\envs\\ds\\lib\\site-packages (7.4.9)\n",
      "Collecting tornado>=6.2\n",
      "  Using cached tornado-6.3.2-cp38-abi3-win_amd64.whl (428 kB)\n",
      "Requirement already satisfied: jupyter-core>=4.9.2 in c:\\users\\janos.laptop-42clk60g\\anaconda3\\envs\\ds\\lib\\site-packages (from jupyter_client<8) (5.3.0)\n",
      "Requirement already satisfied: traitlets in c:\\users\\janos.laptop-42clk60g\\anaconda3\\envs\\ds\\lib\\site-packages (from jupyter_client<8) (5.9.0)\n",
      "Requirement already satisfied: entrypoints in c:\\users\\janos.laptop-42clk60g\\anaconda3\\envs\\ds\\lib\\site-packages (from jupyter_client<8) (0.4)\n",
      "Requirement already satisfied: nest-asyncio>=1.5.4 in c:\\users\\janos.laptop-42clk60g\\anaconda3\\envs\\ds\\lib\\site-packages (from jupyter_client<8) (1.5.6)\n",
      "Requirement already satisfied: python-dateutil>=2.8.2 in c:\\users\\janos.laptop-42clk60g\\anaconda3\\envs\\ds\\lib\\site-packages (from jupyter_client<8) (2.8.2)\n",
      "Requirement already satisfied: platformdirs>=2.5 in c:\\users\\janos.laptop-42clk60g\\anaconda3\\envs\\ds\\lib\\site-packages (from jupyter-core>=4.9.2->jupyter_client<8) (3.5.3)\n",
      "Requirement already satisfied: pywin32>=300 in c:\\users\\janos.laptop-42clk60g\\anaconda3\\envs\\ds\\lib\\site-packages (from jupyter-core>=4.9.2->jupyter_client<8) (306)\n",
      "Requirement already satisfied: six>=1.5 in c:\\users\\janos.laptop-42clk60g\\anaconda3\\envs\\ds\\lib\\site-packages (from python-dateutil>=2.8.2->jupyter_client<8) (1.16.0)\n",
      "Installing collected packages: tornado\n",
      "  Attempting uninstall: tornado\n",
      "    Found existing installation: tornado 6.1\n",
      "    Uninstalling tornado-6.1:\n",
      "      Successfully uninstalled tornado-6.1\n",
      "Successfully installed tornado-6.3.2\n"
     ]
    }
   ],
   "source": [
    "!pip install --upgrade \"pyzmq<25\" \"jupyter_client<8\""
   ],
   "metadata": {
    "collapsed": false,
    "ExecuteTime": {
     "end_time": "2023-06-26T16:24:54.471409700Z",
     "start_time": "2023-06-26T16:24:51.872147Z"
    }
   }
  },
  {
   "cell_type": "code",
   "execution_count": 5,
   "outputs": [],
   "source": [
    "import pandas as pd\n",
    "import matplotlib.pyplot as plt\n",
    "import dataframe_image as dfi\n",
    "from scripts import helper\n",
    "import os\n",
    "from pathlib import Path\n",
    "\n",
    "import os\n",
    "import pandas as pd"
   ],
   "metadata": {
    "collapsed": false,
    "ExecuteTime": {
     "end_time": "2023-06-30T08:43:02.569331700Z",
     "start_time": "2023-06-30T08:42:57.779292900Z"
    }
   }
  },
  {
   "cell_type": "code",
   "execution_count": 12,
   "outputs": [
    {
     "data": {
      "text/plain": "0.005130441205578309"
     },
     "execution_count": 12,
     "metadata": {},
     "output_type": "execute_result"
    }
   ],
   "source": [
    "df_tmp = pd.read_csv('wandb_export_2023-06-27_fmnist_lf-targeted.csv')\n",
    "df_fedavg = df_tmp[df_tmp[\"aggregator_args.algorithm\"] == \"FedAvg\"]\n",
    "\n",
    "f1 = df_fedavg[\"Test/F1Score\"]\n",
    "\n",
    "f1.sem()"
   ],
   "metadata": {
    "collapsed": false,
    "ExecuteTime": {
     "end_time": "2023-06-28T09:04:16.001882500Z",
     "start_time": "2023-06-28T09:04:15.948924800Z"
    }
   }
  },
  {
   "cell_type": "code",
   "execution_count": 25,
   "outputs": [],
   "source": [
    "import matplotlib.pyplot as plt\n",
    "\n",
    "def get_plot_by_node_percent(data=None, fig=None, y_col=None, y_err=None, plt_title='No Title'):\n",
    "\n",
    "    data.reset_index()\n",
    "    df_mean = data.loc[: ,['aggregator_args.algorithm', 'adversarial_args.attack_env.poisoned_node_percent', y_col[0], y_err[0]]]\n",
    "\n",
    "    #df_mean = data[['aggregator_args.algorithm', 'adversarial_args.attack_env.poisoned_node_percent', y_col, y_err]]\n",
    "\n",
    "    # fig = plt.figure(figsize=(8, 6))\n",
    "    fig = plt.figure()\n",
    "    marker_styles = ['+', 'x', 'o']\n",
    "    line_styles = ['-', '--', '-.', ':', '-']\n",
    "    ax = None\n",
    "\n",
    "    # Plot each aggregator's data\n",
    "    for i, (aggregator, data) in enumerate(df_mean.groupby('aggregator_args.algorithm')):\n",
    "        df_mean_agg = df_mean[df_mean['aggregator_args.algorithm'] == aggregator]\n",
    "        ax = df_mean_agg.plot(x='adversarial_args.attack_env.poisoned_node_percent',\n",
    "                              y=y_col,\n",
    "                              yerr=y_err,\n",
    "                              marker=marker_styles[i % len(marker_styles)],\n",
    "                              markersize=6,\n",
    "                              linestyle=line_styles[i % len(line_styles)],\n",
    "                              linewidth=1,\n",
    "                              label=aggregator,\n",
    "                              ax=ax)\n",
    "\n",
    "    # Set plot title and labels\n",
    "    plt.title(plt_title, fontsize=10)\n",
    "    plt.xlabel(\"Poisoned Node Percent\", fontsize=10)\n",
    "    plt.ylabel(y_col, fontsize=10)\n",
    "    plt.ylim(0, 1)\n",
    "\n",
    "    # Set legend\n",
    "    plt.legend(fontsize=10)\n",
    "\n",
    "    # Set grid\n",
    "    plt.grid(True, linestyle='--', alpha=0.5)\n",
    "\n",
    "    # Increase tick font sizes\n",
    "    plt.xticks(fontsize=10)\n",
    "    plt.yticks(fontsize=10)\n",
    "\n",
    "    return fig\n",
    "\n",
    "\n",
    "def print_test():\n",
    "    print(\"test\")\n"
   ],
   "metadata": {
    "collapsed": false,
    "ExecuteTime": {
     "end_time": "2023-06-26T18:44:28.543656500Z",
     "start_time": "2023-06-26T18:44:28.515798700Z"
    }
   }
  },
  {
   "cell_type": "code",
   "execution_count": 26,
   "outputs": [],
   "source": [
    "root = os.path.abspath('')\n",
    "\n",
    "data_file = \"test_lf_untargeted.csv\"\n",
    "dataset = \"mnist\"\n",
    "attack_name = \"label_flipping_untargeted\"\n",
    "metric = 'Test/F1Score' # Test/F1Score', Test/ASR-targeted, Test/ASR-backdoor\n",
    "raw_data = pd.read_csv(os.path.join(root, 'test_lf_untargeted.csv'))\n",
    "\n",
    "metric_save = metric.replace(\"/\", \"-\")\n",
    "prefix = f'{dataset}_{attack_name}_{metric_save}'"
   ],
   "metadata": {
    "collapsed": false,
    "ExecuteTime": {
     "end_time": "2023-06-26T18:44:28.923342400Z",
     "start_time": "2023-06-26T18:44:28.869808100Z"
    }
   }
  },
  {
   "cell_type": "code",
   "execution_count": 27,
   "metadata": {
    "collapsed": true,
    "ExecuteTime": {
     "end_time": "2023-06-26T18:44:29.300177700Z",
     "start_time": "2023-06-26T18:44:29.222386200Z"
    }
   },
   "outputs": [
    {
     "name": "stdout",
     "output_type": "stream",
     "text": [
      "[ 30  50 100]\n",
      "[10 50 80]\n"
     ]
    }
   ],
   "source": [
    "raw_data['adversarial_args.attack_env.poisoned_sample_percent'] = raw_data['Group'].str.extract(r'-S(.*)_R')\n",
    "raw_data['adversarial_args.attack_env.poisoned_sample_percent'].unique()\n",
    "fixed_data = raw_data.astype({'adversarial_args.attack_env.poisoned_sample_percent': 'int64'})\n",
    "# Sanity check\n",
    "print(fixed_data[\"adversarial_args.attack_env.poisoned_sample_percent\"].unique())\n",
    "print(fixed_data[\"adversarial_args.attack_env.poisoned_node_percent\"].unique())\n",
    "\n",
    "benign = fixed_data[fixed_data['adversarial_args.attacks'] == 'No Attack']\n",
    "df_unfinished = fixed_data[fixed_data['Round'] != 10]\n",
    "if len(df_unfinished) > 0:\n",
    "    print(df_unfinished)\n",
    "    exit(0)\n",
    "\n",
    "mean_benign = pd.pivot_table(benign, index=[\"aggregator_args.algorithm\",\n",
    "                                            \"adversarial_args.attack_env.attack\",\n",
    "                                            \"adversarial_args.attack_env.poisoned_node_percent\",\n",
    "                                            \"adversarial_args.attack_env.poisoned_sample_percent\",],\n",
    "                             values=[\"Test/Accuracy\",\"Test/F1Score\", \"Test/ASR-targeted\", \"Test/ASR-backdoor\"], aggfunc = ['mean', 'sem'] , dropna=False)\n",
    "mean_benign = mean_benign.reset_index()\n",
    "num_attack_configs = len(mean_benign.index)"
   ]
  },
  {
   "cell_type": "code",
   "execution_count": 28,
   "outputs": [],
   "source": [
    "overview_mean = mean_benign.pivot(columns=[\"adversarial_args.attack_env.poisoned_node_percent\", \"adversarial_args.attack_env.poisoned_sample_percent\"],\n",
    "                                  index=[\"aggregator_args.algorithm\"],\n",
    "                                  values=('mean', metric))\n",
    "\n",
    "overview_sem = mean_benign.pivot(columns=[\"adversarial_args.attack_env.poisoned_node_percent\", \"adversarial_args.attack_env.poisoned_sample_percent\"],\n",
    "                                 index=[\"aggregator_args.algorithm\"],\n",
    "                                 values=('sem', metric))\n",
    "\n",
    "overview_mean = overview_mean.rename(columns={'adversarial_args.attack_env.poisoned_node_percent': 'poisoned_node_percent'})\n",
    "overview_sem = overview_sem.rename(columns={'adversarial_args.attack_env.poisoned_node_percent': 'poisoned_node_percent'})\n",
    "overview_mean_style = overview_mean.style.set_caption(f'{attack_name}: Mean {metric}')\n",
    "if metric in [\"Test/Accuracy\",\"Test/F1Score\"]:\n",
    "    overview_mean_style.highlight_max()\n",
    "else:\n",
    "    overview_mean_style.highlight_min()\n",
    "\n",
    "overview_sem_style = overview_sem.style.set_caption(f'{attack_name}: SEM {metric}')\n",
    "overview_sem_style.highlight_max()\n",
    "\n",
    "mean_file_name = f'{prefix}-_mean_overview.png'\n",
    "sem_file_name = f'{prefix}-_sem_overview.png'"
   ],
   "metadata": {
    "collapsed": false,
    "ExecuteTime": {
     "end_time": "2023-06-26T18:44:29.469952400Z",
     "start_time": "2023-06-26T18:44:29.440252700Z"
    }
   }
  },
  {
   "cell_type": "code",
   "execution_count": 44,
   "outputs": [
    {
     "name": "stdout",
     "output_type": "stream",
     "text": [
      "            sem\n",
      "   Test/F1Score\n",
      "0      0.009146\n",
      "3      0.013794\n",
      "6      0.024923\n",
      "9      0.012889\n",
      "12     0.012717\n",
      "15     0.004262\n",
      "18     0.009579\n",
      "21     0.015729\n",
      "24     0.010076\n",
      "27     0.008447\n",
      "30     0.014237\n",
      "33     0.009170\n",
      "36     0.008203\n",
      "39     0.006663\n",
      "42     0.028927\n"
     ]
    },
    {
     "data": {
      "text/plain": "<Figure size 640x480 with 0 Axes>"
     },
     "metadata": {},
     "output_type": "display_data"
    },
    {
     "data": {
      "text/plain": "<Figure size 640x480 with 1 Axes>",
      "image/png": "[encoded data removed]"
     },
     "metadata": {},
     "output_type": "display_data"
    }
   ],
   "source": [
    "sample_percents = mean_benign['adversarial_args.attack_env.poisoned_sample_percent'].unique()\n",
    "for percent in sample_percents:\n",
    "    data_by_percent = mean_benign[mean_benign['adversarial_args.attack_env.poisoned_sample_percent'] == percent]\n",
    "    plt_title = \"Poisoned Sample Percent: \" + str(percent)\n",
    "    # percent_f1 = helper.get_plot_by_node_percent(data=data_by_percent, y_col='Test/F1Score', plt_title=str(percent))\n",
    "    #percent_acc = get_plot_by_node_percent(data=data_by_percent, y_col=('mean', metric), y_err=('sem', metric), plt_title=plt_title)\n",
    "\n",
    "    y_col=('mean', metric)\n",
    "    y_err=('sem', metric)\n",
    "    data = data_by_percent\n",
    "    data.reset_index()\n",
    "    df_mean = data.loc[: ,['aggregator_args.algorithm', 'adversarial_args.attack_env.poisoned_node_percent', y_col[0], y_err[0]]]\n",
    "\n",
    "    error = df_mean[[y_err]]\n",
    "    print(error)\n",
    "\n",
    "    #df_mean = data[['aggregator_args.algorithm', 'adversarial_args.attack_env.poisoned_node_percent', y_col, y_err]]\n",
    "\n",
    "    # fig = plt.figure(figsize=(8, 6))\n",
    "    fig = plt.figure()\n",
    "    marker_styles = ['+', 'x', 'o']\n",
    "    line_styles = ['-', '--', '-.', ':', '-']\n",
    "    ax = None\n",
    "\n",
    "    # Plot each aggregator's data\n",
    "    for i, (aggregator, data) in enumerate(df_mean.groupby('aggregator_args.algorithm')):\n",
    "        df_mean_agg = df_mean[df_mean['aggregator_args.algorithm'] == aggregator]\n",
    "        ax = df_mean_agg.plot(x='adversarial_args.attack_env.poisoned_node_percent',\n",
    "                          y=y_col,\n",
    "                          yerr=error,\n",
    "                          marker=marker_styles[i % len(marker_styles)],\n",
    "                          markersize=6,\n",
    "                          linestyle=line_styles[i % len(line_styles)],\n",
    "                          linewidth=1,\n",
    "                          capsize=4,\n",
    "                          label=aggregator,\n",
    "                          ax=ax)\n",
    "\n",
    "    # Set plot title and labels\n",
    "    plt.title(plt_title, fontsize=10)\n",
    "    plt.xlabel(\"Poisoned Node Percent\", fontsize=10)\n",
    "    plt.ylabel(y_col, fontsize=10)\n",
    "    plt.ylim(0, 1)\n",
    "\n",
    "    # Set legend\n",
    "    plt.legend(fontsize=10)\n",
    "\n",
    "    # Set grid\n",
    "    plt.grid(True, linestyle='--', alpha=0.5)\n",
    "\n",
    "    # Increase tick font sizes\n",
    "    plt.xticks(fontsize=10)\n",
    "    plt.yticks(fontsize=10)\n",
    "\n",
    "    file_name = f'{prefix}-{percent}.png'\n"
   ],
   "metadata": {
    "collapsed": false,
    "ExecuteTime": {
     "end_time": "2023-06-26T19:12:51.198608Z",
     "start_time": "2023-06-26T19:12:50.906696100Z"
    }
   }
  },
  {
   "cell_type": "code",
   "execution_count": 36,
   "outputs": [
    {
     "ename": "TypeError",
     "evalue": "DataFrame.transform() missing 1 required positional argument: 'func'",
     "output_type": "error",
     "traceback": [
      "\u001B[1;31m---------------------------------------------------------------------------\u001B[0m",
      "\u001B[1;31mTypeError\u001B[0m                                 Traceback (most recent call last)",
      "Cell \u001B[1;32mIn[36], line 4\u001B[0m\n\u001B[0;32m      1\u001B[0m df_mean \u001B[38;5;241m=\u001B[39m data\u001B[38;5;241m.\u001B[39mloc[: ,[\u001B[38;5;124m'\u001B[39m\u001B[38;5;124maggregator_args.algorithm\u001B[39m\u001B[38;5;124m'\u001B[39m, \u001B[38;5;124m'\u001B[39m\u001B[38;5;124madversarial_args.attack_env.poisoned_node_percent\u001B[39m\u001B[38;5;124m'\u001B[39m, y_col[\u001B[38;5;241m0\u001B[39m], y_err[\u001B[38;5;241m0\u001B[39m]]]\n\u001B[0;32m      2\u001B[0m df_mean_agg \u001B[38;5;241m=\u001B[39m df_mean[df_mean[\u001B[38;5;124m'\u001B[39m\u001B[38;5;124maggregator_args.algorithm\u001B[39m\u001B[38;5;124m'\u001B[39m] \u001B[38;5;241m==\u001B[39m \u001B[38;5;124m'\u001B[39m\u001B[38;5;124mFedAvg\u001B[39m\u001B[38;5;124m'\u001B[39m]\n\u001B[1;32m----> 4\u001B[0m \u001B[43mdf_mean_agg\u001B[49m\u001B[43m[\u001B[49m\u001B[43m[\u001B[49m\u001B[43m(\u001B[49m\u001B[38;5;124;43m'\u001B[39;49m\u001B[38;5;124;43msem\u001B[39;49m\u001B[38;5;124;43m'\u001B[39;49m\u001B[43m,\u001B[49m\u001B[43m \u001B[49m\u001B[38;5;124;43m'\u001B[39;49m\u001B[38;5;124;43mTest/F1Score\u001B[39;49m\u001B[38;5;124;43m'\u001B[39;49m\u001B[43m)\u001B[49m\u001B[43m]\u001B[49m\u001B[43m]\u001B[49m\u001B[38;5;241;43m.\u001B[39;49m\u001B[43mtransform\u001B[49m\u001B[43m(\u001B[49m\u001B[43m)\u001B[49m\n",
      "\u001B[1;31mTypeError\u001B[0m: DataFrame.transform() missing 1 required positional argument: 'func'"
     ]
    }
   ],
   "source": [
    "df_mean = data.loc[: ,['aggregator_args.algorithm', 'adversarial_args.attack_env.poisoned_node_percent', y_col[0], y_err[0]]]\n",
    "df_mean_agg = df_mean[df_mean['aggregator_args.algorithm'] == 'FedAvg']"
   ],
   "metadata": {
    "collapsed": false,
    "ExecuteTime": {
     "end_time": "2023-06-26T18:49:55.539757300Z",
     "start_time": "2023-06-26T18:49:55.489331200Z"
    }
   }
  },
  {
   "cell_type": "code",
   "execution_count": 40,
   "outputs": [
    {
     "data": {
      "text/plain": "array([[0.00914612],\n       [0.01379356],\n       [0.02492303]])"
     },
     "execution_count": 40,
     "metadata": {},
     "output_type": "execute_result"
    }
   ],
   "source": [
    "df_mean_agg[[('sem', 'Test/F1Score')]].to_numpy()"
   ],
   "metadata": {
    "collapsed": false,
    "ExecuteTime": {
     "end_time": "2023-06-26T19:05:52.011058100Z",
     "start_time": "2023-06-26T19:05:51.987463700Z"
    }
   }
  },
  {
   "cell_type": "code",
   "execution_count": 37,
   "outputs": [
    {
     "data": {
      "text/plain": "          mean\n  Test/F1Score\n0     0.954829\n3     0.948337\n6     0.923028",
      "text/html": "<div>\n<style scoped>\n    .dataframe tbody tr th:only-of-type {\n        vertical-align: middle;\n    }\n\n    .dataframe tbody tr th {\n        vertical-align: top;\n    }\n\n    .dataframe thead tr th {\n        text-align: left;\n    }\n</style>\n<table border=\"1\" class=\"dataframe\">\n  <thead>\n    <tr>\n      <th></th>\n      <th>mean</th>\n    </tr>\n    <tr>\n      <th></th>\n      <th>Test/F1Score</th>\n    </tr>\n  </thead>\n  <tbody>\n    <tr>\n      <th>0</th>\n      <td>0.954829</td>\n    </tr>\n    <tr>\n      <th>3</th>\n      <td>0.948337</td>\n    </tr>\n    <tr>\n      <th>6</th>\n      <td>0.923028</td>\n    </tr>\n  </tbody>\n</table>\n</div>"
     },
     "execution_count": 37,
     "metadata": {},
     "output_type": "execute_result"
    }
   ],
   "source": [
    "df_mean_agg[[('mean', 'Test/F1Score')]]"
   ],
   "metadata": {
    "collapsed": false,
    "ExecuteTime": {
     "end_time": "2023-06-26T18:50:26.734703100Z",
     "start_time": "2023-06-26T18:50:26.709775400Z"
    }
   }
  },
  {
   "cell_type": "code",
   "execution_count": 11,
   "outputs": [
    {
     "data": {
      "text/plain": "0     0.954829\n3     0.948337\n6     0.923028\n9     0.906115\n12    0.869992\n15    0.604557\n18    0.934473\n21    0.949704\n24    0.957719\n27    0.956336\n30    0.950644\n33    0.953668\n36    0.949602\n39    0.970341\n42    0.947220\nName: (mean, Test/F1Score), dtype: float64"
     },
     "execution_count": 11,
     "metadata": {},
     "output_type": "execute_result"
    }
   ],
   "source": [
    "data_by_percent.reset_index()\n",
    "df_mean = data_by_percent.loc[: ,['aggregator_args.algorithm', 'adversarial_args.attack_env.poisoned_node_percent', 'mean', 'sem']]\n",
    "df_mean[('mean',metric)]"
   ],
   "metadata": {
    "collapsed": false,
    "ExecuteTime": {
     "end_time": "2023-06-26T16:35:01.157162500Z",
     "start_time": "2023-06-26T16:35:01.094555800Z"
    }
   }
  },
  {
   "cell_type": "code",
   "execution_count": null,
   "outputs": [],
   "source": [
    "data_by_percent.xs('mean', level=0, axis=1)"
   ],
   "metadata": {
    "collapsed": false
   }
  },
  {
   "cell_type": "code",
   "execution_count": null,
   "outputs": [],
   "source": [
    "data_by_percent.xs(('mean', metric), axis=1)"
   ],
   "metadata": {
    "collapsed": false
   }
  },
  {
   "cell_type": "code",
   "execution_count": null,
   "outputs": [],
   "source": [
    "data_by_percent.index"
   ],
   "metadata": {
    "collapsed": false
   }
  },
  {
   "cell_type": "code",
   "execution_count": null,
   "outputs": [],
   "source": [
    "data_by_percent.columns\n",
    "\n",
    "data_by_percent.columns.get_level_values(0)"
   ],
   "metadata": {
    "collapsed": false
   }
  },
  {
   "cell_type": "code",
   "execution_count": null,
   "outputs": [],
   "source": [
    "data_by_percent.loc[: ,(slice('sem', metric))]"
   ],
   "metadata": {
    "collapsed": false
   }
  },
  {
   "cell_type": "code",
   "execution_count": null,
   "outputs": [],
   "source": [
    "data_by_percent.loc[:, ('mean', metric):('sem', metric)]"
   ],
   "metadata": {
    "collapsed": false
   }
  },
  {
   "cell_type": "code",
   "execution_count": null,
   "outputs": [],
   "source": [
    "data_by_percent.reset_index()"
   ],
   "metadata": {
    "collapsed": false
   }
  },
  {
   "cell_type": "code",
   "execution_count": null,
   "outputs": [],
   "source": [
    "data_by_percent.columns.get_level_values(1)"
   ],
   "metadata": {
    "collapsed": false
   }
  },
  {
   "cell_type": "code",
   "execution_count": null,
   "outputs": [],
   "source": [
    "df_mean = data_by_percent[[('mean', metric), ('sem', metric)]]"
   ],
   "metadata": {
    "collapsed": false
   }
  },
  {
   "cell_type": "code",
   "execution_count": null,
   "outputs": [],
   "source": [
    "df_mean"
   ],
   "metadata": {
    "collapsed": false
   }
  },
  {
   "cell_type": "code",
   "execution_count": null,
   "outputs": [],
   "source": [
    "data_by_percent.g"
   ],
   "metadata": {
    "collapsed": false
   }
  },
  {
   "cell_type": "code",
   "execution_count": 17,
   "outputs": [
    {
     "name": "stdout",
     "output_type": "stream",
     "text": [
      "C:\\Users\\janos.LAPTOP-42CLK60G\\Repos\\fedstellar-robust\\evaluation\n",
      "C:\\Users\\janos.LAPTOP-42CLK60G\\Repos\\fedstellar-robust\\evaluation\\data\\fmnist\\label_flipping_untargeted\n"
     ]
    }
   ],
   "source": [
    "from pathlib import Path\n",
    "\n",
    "dataset = \"fmnist\"\n",
    "attack_name = \"label_flipping_untargeted\"\n",
    "agg_error = 'sem'  # lowercase\n",
    "\n",
    "ROOT_DIR = Path.cwd()\n",
    "print(ROOT_DIR)\n",
    "\n",
    "DATA_PATH = ROOT_DIR.joinpath('data', dataset, attack_name)\n",
    "print(DATA_PATH)\n",
    "\n",
    "FILE_PATH = list(DATA_PATH.glob('*.csv'))"
   ],
   "metadata": {
    "collapsed": false,
    "ExecuteTime": {
     "end_time": "2023-06-30T08:49:08.702751800Z",
     "start_time": "2023-06-30T08:49:08.682629900Z"
    }
   }
  },
  {
   "cell_type": "code",
   "execution_count": 18,
   "outputs": [
    {
     "name": "stdout",
     "output_type": "stream",
     "text": [
      "[WindowsPath('C:/Users/janos.LAPTOP-42CLK60G/Repos/fedstellar-robust/evaluation/data/fmnist/label_flipping_untargeted/wandb_export_2023-06-27_fmnist_lf-untargeted.csv')]\n"
     ]
    }
   ],
   "source": [
    "print(FILE_PATH)"
   ],
   "metadata": {
    "collapsed": false,
    "ExecuteTime": {
     "end_time": "2023-06-30T08:49:10.488092300Z",
     "start_time": "2023-06-30T08:49:10.456038400Z"
    }
   }
  },
  {
   "cell_type": "code",
   "execution_count": 20,
   "outputs": [],
   "source": [
    "df = pd.read_csv(FILE_PATH[0])"
   ],
   "metadata": {
    "collapsed": false,
    "ExecuteTime": {
     "end_time": "2023-06-30T08:49:33.241730700Z",
     "start_time": "2023-06-30T08:49:33.067699500Z"
    }
   }
  },
  {
   "cell_type": "code",
   "execution_count": 21,
   "outputs": [
    {
     "data": {
      "text/plain": "              Name     State Notes     User  Tags                   Created  \\\n0    participant_0  finished     -  janousy   NaN  2023-06-18T14:01:35.000Z   \n1    participant_6  finished     -  janousy   NaN  2023-06-18T14:00:42.000Z   \n2    participant_1  finished     -  janousy   NaN  2023-06-18T14:00:42.000Z   \n3    participant_4  finished     -  janousy   NaN  2023-06-18T14:00:42.000Z   \n4    participant_5  finished     -  janousy   NaN  2023-06-18T14:00:41.000Z   \n..             ...       ...   ...      ...   ...                       ...   \n445  participant_2  finished     -  janousy   NaN  2023-06-17T18:59:50.000Z   \n446  participant_7  finished     -  janousy   NaN  2023-06-17T18:59:50.000Z   \n447  participant_6  finished     -  janousy   NaN  2023-06-17T18:59:50.000Z   \n448  participant_5  finished     -  janousy   NaN  2023-06-17T18:59:50.000Z   \n449  participant_3  finished     -  janousy   NaN  2023-06-17T18:59:49.000Z   \n\n     Runtime  Sweep        ID  \\\n0       1307    NaN  zrjp151t   \n1       1360    NaN  kio2d95t   \n2       1359    NaN  iagg9cse   \n3       1358    NaN  269zyvqp   \n4       1361    NaN  zhnmgsl2   \n..       ...    ...       ...   \n445     1287    NaN  aa98gerk   \n446     1285    NaN  6sdlomn5   \n447     1289    NaN  1yes1qpc   \n448     1286    NaN  1huo0h91   \n449     1285    NaN  f2gexe3g   \n\n                                                 Group  ...  \\\n0    FASHIONMNIST_1_MLP_Sentinel_fully_LabelFlippin...  ...   \n1    FASHIONMNIST_1_MLP_Sentinel_fully_LabelFlippin...  ...   \n2    FASHIONMNIST_1_MLP_Sentinel_fully_LabelFlippin...  ...   \n3    FASHIONMNIST_1_MLP_Sentinel_fully_LabelFlippin...  ...   \n4    FASHIONMNIST_1_MLP_Sentinel_fully_LabelFlippin...  ...   \n..                                                 ...  ...   \n445  FASHIONMNIST_1_MLP_Krum_fully_LabelFlipping_0_...  ...   \n446  FASHIONMNIST_1_MLP_Krum_fully_LabelFlipping_0_...  ...   \n447  FASHIONMNIST_1_MLP_Krum_fully_LabelFlipping_0_...  ...   \n448  FASHIONMNIST_1_MLP_Krum_fully_LabelFlipping_0_...  ...   \n449  FASHIONMNIST_1_MLP_Krum_fully_LabelFlipping_0_...  ...   \n\n     val_loss_192.168.50.8:46946 val_loss_192.168.50.8:46956  \\\n0                            NaN                         NaN   \n1                            NaN                         NaN   \n2                            NaN                         NaN   \n3                            NaN                         NaN   \n4                            NaN                         NaN   \n..                           ...                         ...   \n445                          NaN                         NaN   \n446                          NaN                         NaN   \n447                          NaN                         NaN   \n448                          NaN                         NaN   \n449                          NaN                         NaN   \n\n    val_loss_192.168.50.9:46517 val_loss_192.168.50.9:46877  \\\n0                      0.414456                         NaN   \n1                     18.209547                         NaN   \n2                     15.297274                         NaN   \n3                     16.264524                         NaN   \n4                      0.318584                         NaN   \n..                          ...                         ...   \n445                         NaN                         NaN   \n446                         NaN                         NaN   \n447                         NaN                         NaN   \n448                         NaN                         NaN   \n449                         NaN                         NaN   \n\n     val_loss_192.168.50.9:46897  val_loss_192.168.50.9:46907  \\\n0                            NaN                          NaN   \n1                            NaN                          NaN   \n2                            NaN                          NaN   \n3                            NaN                          NaN   \n4                            NaN                          NaN   \n..                           ...                          ...   \n445                          NaN                          NaN   \n446                          NaN                          NaN   \n447                          NaN                          NaN   \n448                          NaN                          NaN   \n449                          NaN                          NaN   \n\n     val_loss_192.168.50.9:46917  val_loss_192.168.50.9:46927  \\\n0                            NaN                          NaN   \n1                            NaN                          NaN   \n2                            NaN                          NaN   \n3                            NaN                          NaN   \n4                            NaN                          NaN   \n..                           ...                          ...   \n445                          NaN                          NaN   \n446                          NaN                          NaN   \n447                          NaN                          NaN   \n448                          NaN                          NaN   \n449                          NaN                          NaN   \n\n     val_loss_192.168.50.9:46947 val_loss_192.168.50.9:46957  \n0                            NaN                         NaN  \n1                            NaN                         NaN  \n2                            NaN                         NaN  \n3                            NaN                         NaN  \n4                            NaN                         NaN  \n..                           ...                         ...  \n445                          NaN                         NaN  \n446                          NaN                         NaN  \n447                          NaN                         NaN  \n448                          NaN                         NaN  \n449                          NaN                         NaN  \n\n[450 rows x 407 columns]",
      "text/html": "<div>\n<style scoped>\n    .dataframe tbody tr th:only-of-type {\n        vertical-align: middle;\n    }\n\n    .dataframe tbody tr th {\n        vertical-align: top;\n    }\n\n    .dataframe thead th {\n        text-align: right;\n    }\n</style>\n<table border=\"1\" class=\"dataframe\">\n  <thead>\n    <tr style=\"text-align: right;\">\n      <th></th>\n      <th>Name</th>\n      <th>State</th>\n      <th>Notes</th>\n      <th>User</th>\n      <th>Tags</th>\n      <th>Created</th>\n      <th>Runtime</th>\n      <th>Sweep</th>\n      <th>ID</th>\n      <th>Group</th>\n      <th>...</th>\n      <th>val_loss_192.168.50.8:46946</th>\n      <th>val_loss_192.168.50.8:46956</th>\n      <th>val_loss_192.168.50.9:46517</th>\n      <th>val_loss_192.168.50.9:46877</th>\n      <th>val_loss_192.168.50.9:46897</th>\n      <th>val_loss_192.168.50.9:46907</th>\n      <th>val_loss_192.168.50.9:46917</th>\n      <th>val_loss_192.168.50.9:46927</th>\n      <th>val_loss_192.168.50.9:46947</th>\n      <th>val_loss_192.168.50.9:46957</th>\n    </tr>\n  </thead>\n  <tbody>\n    <tr>\n      <th>0</th>\n      <td>participant_0</td>\n      <td>finished</td>\n      <td>-</td>\n      <td>janousy</td>\n      <td>NaN</td>\n      <td>2023-06-18T14:01:35.000Z</td>\n      <td>1307</td>\n      <td>NaN</td>\n      <td>zrjp151t</td>\n      <td>FASHIONMNIST_1_MLP_Sentinel_fully_LabelFlippin...</td>\n      <td>...</td>\n      <td>NaN</td>\n      <td>NaN</td>\n      <td>0.414456</td>\n      <td>NaN</td>\n      <td>NaN</td>\n      <td>NaN</td>\n      <td>NaN</td>\n      <td>NaN</td>\n      <td>NaN</td>\n      <td>NaN</td>\n    </tr>\n    <tr>\n      <th>1</th>\n      <td>participant_6</td>\n      <td>finished</td>\n      <td>-</td>\n      <td>janousy</td>\n      <td>NaN</td>\n      <td>2023-06-18T14:00:42.000Z</td>\n      <td>1360</td>\n      <td>NaN</td>\n      <td>kio2d95t</td>\n      <td>FASHIONMNIST_1_MLP_Sentinel_fully_LabelFlippin...</td>\n      <td>...</td>\n      <td>NaN</td>\n      <td>NaN</td>\n      <td>18.209547</td>\n      <td>NaN</td>\n      <td>NaN</td>\n      <td>NaN</td>\n      <td>NaN</td>\n      <td>NaN</td>\n      <td>NaN</td>\n      <td>NaN</td>\n    </tr>\n    <tr>\n      <th>2</th>\n      <td>participant_1</td>\n      <td>finished</td>\n      <td>-</td>\n      <td>janousy</td>\n      <td>NaN</td>\n      <td>2023-06-18T14:00:42.000Z</td>\n      <td>1359</td>\n      <td>NaN</td>\n      <td>iagg9cse</td>\n      <td>FASHIONMNIST_1_MLP_Sentinel_fully_LabelFlippin...</td>\n      <td>...</td>\n      <td>NaN</td>\n      <td>NaN</td>\n      <td>15.297274</td>\n      <td>NaN</td>\n      <td>NaN</td>\n      <td>NaN</td>\n      <td>NaN</td>\n      <td>NaN</td>\n      <td>NaN</td>\n      <td>NaN</td>\n    </tr>\n    <tr>\n      <th>3</th>\n      <td>participant_4</td>\n      <td>finished</td>\n      <td>-</td>\n      <td>janousy</td>\n      <td>NaN</td>\n      <td>2023-06-18T14:00:42.000Z</td>\n      <td>1358</td>\n      <td>NaN</td>\n      <td>269zyvqp</td>\n      <td>FASHIONMNIST_1_MLP_Sentinel_fully_LabelFlippin...</td>\n      <td>...</td>\n      <td>NaN</td>\n      <td>NaN</td>\n      <td>16.264524</td>\n      <td>NaN</td>\n      <td>NaN</td>\n      <td>NaN</td>\n      <td>NaN</td>\n      <td>NaN</td>\n      <td>NaN</td>\n      <td>NaN</td>\n    </tr>\n    <tr>\n      <th>4</th>\n      <td>participant_5</td>\n      <td>finished</td>\n      <td>-</td>\n      <td>janousy</td>\n      <td>NaN</td>\n      <td>2023-06-18T14:00:41.000Z</td>\n      <td>1361</td>\n      <td>NaN</td>\n      <td>zhnmgsl2</td>\n      <td>FASHIONMNIST_1_MLP_Sentinel_fully_LabelFlippin...</td>\n      <td>...</td>\n      <td>NaN</td>\n      <td>NaN</td>\n      <td>0.318584</td>\n      <td>NaN</td>\n      <td>NaN</td>\n      <td>NaN</td>\n      <td>NaN</td>\n      <td>NaN</td>\n      <td>NaN</td>\n      <td>NaN</td>\n    </tr>\n    <tr>\n      <th>...</th>\n      <td>...</td>\n      <td>...</td>\n      <td>...</td>\n      <td>...</td>\n      <td>...</td>\n      <td>...</td>\n      <td>...</td>\n      <td>...</td>\n      <td>...</td>\n      <td>...</td>\n      <td>...</td>\n      <td>...</td>\n      <td>...</td>\n      <td>...</td>\n      <td>...</td>\n      <td>...</td>\n      <td>...</td>\n      <td>...</td>\n      <td>...</td>\n      <td>...</td>\n      <td>...</td>\n    </tr>\n    <tr>\n      <th>445</th>\n      <td>participant_2</td>\n      <td>finished</td>\n      <td>-</td>\n      <td>janousy</td>\n      <td>NaN</td>\n      <td>2023-06-17T18:59:50.000Z</td>\n      <td>1287</td>\n      <td>NaN</td>\n      <td>aa98gerk</td>\n      <td>FASHIONMNIST_1_MLP_Krum_fully_LabelFlipping_0_...</td>\n      <td>...</td>\n      <td>NaN</td>\n      <td>NaN</td>\n      <td>NaN</td>\n      <td>NaN</td>\n      <td>NaN</td>\n      <td>NaN</td>\n      <td>NaN</td>\n      <td>NaN</td>\n      <td>NaN</td>\n      <td>NaN</td>\n    </tr>\n    <tr>\n      <th>446</th>\n      <td>participant_7</td>\n      <td>finished</td>\n      <td>-</td>\n      <td>janousy</td>\n      <td>NaN</td>\n      <td>2023-06-17T18:59:50.000Z</td>\n      <td>1285</td>\n      <td>NaN</td>\n      <td>6sdlomn5</td>\n      <td>FASHIONMNIST_1_MLP_Krum_fully_LabelFlipping_0_...</td>\n      <td>...</td>\n      <td>NaN</td>\n      <td>NaN</td>\n      <td>NaN</td>\n      <td>NaN</td>\n      <td>NaN</td>\n      <td>NaN</td>\n      <td>NaN</td>\n      <td>NaN</td>\n      <td>NaN</td>\n      <td>NaN</td>\n    </tr>\n    <tr>\n      <th>447</th>\n      <td>participant_6</td>\n      <td>finished</td>\n      <td>-</td>\n      <td>janousy</td>\n      <td>NaN</td>\n      <td>2023-06-17T18:59:50.000Z</td>\n      <td>1289</td>\n      <td>NaN</td>\n      <td>1yes1qpc</td>\n      <td>FASHIONMNIST_1_MLP_Krum_fully_LabelFlipping_0_...</td>\n      <td>...</td>\n      <td>NaN</td>\n      <td>NaN</td>\n      <td>NaN</td>\n      <td>NaN</td>\n      <td>NaN</td>\n      <td>NaN</td>\n      <td>NaN</td>\n      <td>NaN</td>\n      <td>NaN</td>\n      <td>NaN</td>\n    </tr>\n    <tr>\n      <th>448</th>\n      <td>participant_5</td>\n      <td>finished</td>\n      <td>-</td>\n      <td>janousy</td>\n      <td>NaN</td>\n      <td>2023-06-17T18:59:50.000Z</td>\n      <td>1286</td>\n      <td>NaN</td>\n      <td>1huo0h91</td>\n      <td>FASHIONMNIST_1_MLP_Krum_fully_LabelFlipping_0_...</td>\n      <td>...</td>\n      <td>NaN</td>\n      <td>NaN</td>\n      <td>NaN</td>\n      <td>NaN</td>\n      <td>NaN</td>\n      <td>NaN</td>\n      <td>NaN</td>\n      <td>NaN</td>\n      <td>NaN</td>\n      <td>NaN</td>\n    </tr>\n    <tr>\n      <th>449</th>\n      <td>participant_3</td>\n      <td>finished</td>\n      <td>-</td>\n      <td>janousy</td>\n      <td>NaN</td>\n      <td>2023-06-17T18:59:49.000Z</td>\n      <td>1285</td>\n      <td>NaN</td>\n      <td>f2gexe3g</td>\n      <td>FASHIONMNIST_1_MLP_Krum_fully_LabelFlipping_0_...</td>\n      <td>...</td>\n      <td>NaN</td>\n      <td>NaN</td>\n      <td>NaN</td>\n      <td>NaN</td>\n      <td>NaN</td>\n      <td>NaN</td>\n      <td>NaN</td>\n      <td>NaN</td>\n      <td>NaN</td>\n      <td>NaN</td>\n    </tr>\n  </tbody>\n</table>\n<p>450 rows × 407 columns</p>\n</div>"
     },
     "execution_count": 21,
     "metadata": {},
     "output_type": "execute_result"
    }
   ],
   "source": [
    "df"
   ],
   "metadata": {
    "collapsed": false,
    "ExecuteTime": {
     "end_time": "2023-06-30T08:49:34.613392300Z",
     "start_time": "2023-06-30T08:49:34.557729600Z"
    }
   }
  },
  {
   "cell_type": "code",
   "execution_count": null,
   "outputs": [],
   "source": [],
   "metadata": {
    "collapsed": false
   }
  }
 ],
 "metadata": {
  "kernelspec": {
   "display_name": "Python 3",
   "language": "python",
   "name": "python3"
  },
  "language_info": {
   "codemirror_mode": {
    "name": "ipython",
    "version": 2
   },
   "file_extension": ".py",
   "mimetype": "text/x-python",
   "name": "python",
   "nbconvert_exporter": "python",
   "pygments_lexer": "ipython2",
   "version": "2.7.6"
  }
 },
 "nbformat": 4,
 "nbformat_minor": 0
}
