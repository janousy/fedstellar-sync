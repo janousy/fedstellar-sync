{
 "cells": [
  {
   "cell_type": "code",
   "execution_count": 91,
   "outputs": [],
   "source": [
    "import wandb\n",
    "import pandas as pd\n",
    "import math\n",
    "import matplotlib.pyplot as plt\n",
    "import os\n",
    "from matplotlib.lines import Line2D"
   ],
   "metadata": {
    "collapsed": false,
    "ExecuteTime": {
     "end_time": "2023-07-18T12:02:54.653609200Z",
     "start_time": "2023-07-18T12:02:54.639100900Z"
    }
   }
  },
  {
   "cell_type": "code",
   "execution_count": 92,
   "outputs": [
    {
     "name": "stdout",
     "output_type": "stream",
     "text": [
      "Name: wandb\n",
      "Version: 0.15.4\n",
      "Summary: A CLI and library for interacting with the Weights and Biases API.\n",
      "Home-page: https://github.com/wandb/wandb\n",
      "Author: Weights & Biases\n",
      "Author-email: support@wandb.com\n",
      "License: MIT license\n",
      "Location: c:\\users\\janos.laptop-42clk60g\\anaconda3\\envs\\ds\\lib\\site-packages\n",
      "Requires: appdirs, Click, docker-pycreds, GitPython, pathtools, protobuf, psutil, PyYAML, requests, sentry-sdk, setproctitle, setuptools\n",
      "Required-by: \n"
     ]
    }
   ],
   "source": [
    "!pip show wandb"
   ],
   "metadata": {
    "collapsed": false,
    "ExecuteTime": {
     "end_time": "2023-07-18T12:02:56.886266Z",
     "start_time": "2023-07-18T12:02:54.935993700Z"
    }
   }
  },
  {
   "cell_type": "code",
   "execution_count": 161,
   "outputs": [
    {
     "name": "stdout",
     "output_type": "stream",
     "text": [
      "Writing figure to: C:\\Users\\janos.LAPTOP-42CLK60G\\Repos\\fedstellar-robust\\evaluation\\metrics\\resources\\tmp_figures\n"
     ]
    }
   ],
   "source": [
    "api = wandb.Api()\n",
    "\n",
    "FONT_SIZE = 12\n",
    "\n",
    "metric_name = \"val_loss\"\n",
    "metric_label = \"Validation Loss\"\n",
    "entity = \"janousy\"\n",
    "project = \"fedstellar-cifar10-lf-targeted\"\n",
    "# group = \"FASHIONMNIST_1_MLP_Sentinel_fully_ModelPoisoning_0_N50-S0_R80_salt_20230710_084210\"\n",
    "SAVE_PATH = os.path.join(os.getcwd(), \"tmp_figures\")\n",
    "print(\"Writing figure to: \" + SAVE_PATH)\n",
    "file_name = metric_label\n",
    "\n",
    "isExist = os.path.exists(SAVE_PATH)\n",
    "if not isExist:\n",
    "    os.makedirs(SAVE_PATH)\n",
    "\n",
    "\n",
    "#'attack_env.poisoned_sample_percent': 100,\n"
   ],
   "metadata": {
    "collapsed": false,
    "ExecuteTime": {
     "end_time": "2023-07-19T09:09:48.021756300Z",
     "start_time": "2023-07-19T09:09:48.009645900Z"
    }
   }
  },
  {
   "cell_type": "code",
   "execution_count": 162,
   "outputs": [
    {
     "name": "stdout",
     "output_type": "stream",
     "text": [
      "participant_0\n",
      "CIFAR10_1_simplemobilenet_SentinelGlobal_fully_LabelFlipping_1_N80-S100_R0_salt_20230714_135825\n",
      "participant_0\n",
      "CIFAR10_1_simplemobilenet_Sentinel_fully_LabelFlipping_1_N80-S100_R0_salt_20230712_212847\n",
      "participant_0\n",
      "CIFAR10_1_simplemobilenet_FlTrust_fully_LabelFlipping_1_N80-S100_R0_salt_20230712_194716\n",
      "participant_0\n",
      "CIFAR10_1_simplemobilenet_TrimmedMean_fully_LabelFlipping_1_N80-S100_R0_salt_20230712_180422\n",
      "participant_0\n",
      "CIFAR10_1_simplemobilenet_FedAvg_fully_LabelFlipping_1_N80-S100_R0_salt_20230712_160915\n",
      "participant_0\n",
      "CIFAR10_1_simplemobilenet_Krum_fully_LabelFlipping_1_N80-S100_R0_salt_20230712_142751\n"
     ]
    }
   ],
   "source": [
    "aggregation_list = [\"Krum\", \"FedAvg\", \"TrimmedMean\", \"FlTrust\", \"Sentinel\", \"SentinelGlobal\"]\n",
    "metrics_list = ['CPU', 'Memory', 'Traffic']\n",
    "final_metrics = pd.DataFrame(data=None, index=aggregation_list, columns=metrics_list, dtype=None, copy=None)\n",
    "final_metrics_error = pd.DataFrame(data=None, index=aggregation_list, columns=metrics_list, dtype=None, copy=None)\n",
    "\n",
    "# filter by attack\n",
    "runs = api.runs(f'{entity}/{project}', filters={'config.attack_env.poisoned_node_percent': 80,\n",
    "                                                'config.attack_env.poisoned_sample_percent': 100,\n",
    "                                                'description': 'participant_0',\n",
    "                                                })\n",
    "assert len(runs) == 6\n",
    "for run in runs:\n",
    "    print(run.description)\n",
    "    print(run.group)\n",
    "    # cpu_util = run.scan_history(keys=[\"CPU Utilization (%)\"])\n",
    "    # history = run.scan_history(keys=metric_keys)\n",
    "    system_metrics = run.history(stream=\"events\")\n",
    "    mean_all_cpus = system_metrics[(list(system_metrics.filter(regex='system.gpu.*.cpu_percent')))].mean()\n",
    "    max_cpu = mean_all_cpus.max()\n",
    "    min_cpu = mean_all_cpus.min()\n",
    "    mean_cpu = mean_all_cpus.min()\n",
    "    err_cpu = (max_cpu - min_cpu) / 2\n",
    "    mean_ram = system_metrics['system.proc.memory.rssMB'].mean()\n",
    "    max_ram = system_metrics['system.proc.memory.rssMB'].max()\n",
    "    min_ram = system_metrics['system.proc.memory.rssMB'].min()\n",
    "    err_ram = (max_ram - min_ram) / 2\n",
    "    bytes_sent = system_metrics['system.network.sent'].mean()\n",
    "    agg_metrics = [mean_cpu, mean_ram, bytes_sent]\n",
    "    agg_error = [err_cpu, err_ram, 0]\n",
    "    agg = run.config['aggregator_args']['algorithm']\n",
    "    final_metrics.loc[agg] = agg_metrics\n",
    "    final_metrics_error.loc[agg] = agg_error"
   ],
   "metadata": {
    "collapsed": false,
    "ExecuteTime": {
     "end_time": "2023-07-19T09:09:50.176729800Z",
     "start_time": "2023-07-19T09:09:48.428667100Z"
    }
   }
  },
  {
   "cell_type": "code",
   "execution_count": 163,
   "outputs": [
    {
     "data": {
      "text/plain": "    system.network.sent  system.gpu.0.powerPercent  system.network.recv  \\\n0              82544.87                      11.97             93828.80   \n1             236948.73                      11.94            252480.00   \n2            5236540.27                      40.10            468932.87   \n3            6840296.00                      58.91           1978343.40   \n4           11234473.40                      66.07           6083440.47   \n5           14929983.73                      60.53          10211303.07   \n6           17925308.73                      67.26          12609679.80   \n7           22335678.27                      67.00          17088251.00   \n8           26026454.47                      61.69          20479838.20   \n9           29374512.80                      64.72          22879239.47   \n10          33404541.07                      58.98          27927849.47   \n11          35349058.13                      58.57          30499253.27   \n12          39035221.93                      66.59          33664360.47   \n13          43065951.53                      59.36          38071380.20   \n14          45702854.93                      63.15          40120974.27   \n15          50097888.73                      65.80          44690692.67   \n16          53758088.20                      59.48          48122858.27   \n17          55684128.07                      67.52          50354085.33   \n18          61526734.86                      44.04          56063815.14   \n\n    system.gpu.1.temp  system.cpu.9.cpu_percent  system.disk  \\\n0               49.40                      2.07         53.8   \n1               49.00                      2.13         53.8   \n2               49.07                     59.35         53.8   \n3               49.00                     77.51         53.8   \n4               49.00                     86.68         53.8   \n5               49.00                     68.00         53.8   \n6               49.00                     84.31         53.8   \n7               49.20                     73.71         53.8   \n8               50.00                     70.43         53.8   \n9               50.00                     87.50         53.8   \n10              50.00                     66.26         53.8   \n11              50.00                     63.90         53.8   \n12              50.00                     89.27         53.8   \n13              50.00                     65.04         53.8   \n14              50.00                     82.65         53.8   \n15              50.60                     75.40         53.8   \n16              51.00                     63.51         53.8   \n17              51.00                     91.05         53.8   \n18              51.00                      9.27         53.8   \n\n    system.cpu.1.cpu_percent  system.gpu.0.powerWatts  \\\n0                       8.69                    38.31   \n1                       1.80                    38.21   \n2                      52.19                   128.15   \n3                      74.94                   188.70   \n4                      86.74                   211.44   \n5                      63.60                   193.68   \n6                      83.09                   215.23   \n7                      73.39                   214.40   \n8                      68.55                   197.40   \n9                      89.46                   207.06   \n10                     68.88                   188.76   \n11                     65.46                   187.42   \n12                     88.12                   213.08   \n13                     68.45                   189.95   \n14                     82.83                   202.08   \n15                     76.88                   210.69   \n16                     64.37                   190.33   \n17                     91.09                   216.07   \n18                      7.96                   140.92   \n\n    system.cpu.7.cpu_percent  _wandb  ...  system.cpu.0.cpu_percent  \\\n0                       2.76    True  ...                      2.98   \n1                       2.50    True  ...                      1.93   \n2                      56.65    True  ...                     54.74   \n3                      74.84    True  ...                     74.57   \n4                      86.46    True  ...                     85.77   \n5                      69.43    True  ...                     65.56   \n6                      83.85    True  ...                     83.51   \n7                      72.95    True  ...                     76.77   \n8                      69.57    True  ...                     69.05   \n9                      87.24    True  ...                     87.35   \n10                     67.67    True  ...                     67.48   \n11                     66.53    True  ...                     63.45   \n12                     88.99    True  ...                     89.03   \n13                     64.15    True  ...                     65.83   \n14                     83.13    True  ...                     84.82   \n15                     78.41    True  ...                     75.67   \n16                     63.31    True  ...                     60.51   \n17                     89.78    True  ...                     90.60   \n18                     12.56    True  ...                      4.83   \n\n    system.cpu.13.cpu_percent  system.proc.memory.percent  \\\n0                        1.73                        1.13   \n1                        1.87                        1.13   \n2                       56.01                        2.37   \n3                       73.73                        3.44   \n4                       86.89                        3.47   \n5                       66.41                        3.47   \n6                       82.99                        3.48   \n7                       75.39                        3.48   \n8                       69.97                        3.48   \n9                       87.33                        3.48   \n10                      67.31                        3.48   \n11                      64.99                        3.48   \n12                      90.29                        3.49   \n13                      65.74                        3.49   \n14                      83.75                        3.49   \n15                      74.43                        3.49   \n16                      61.59                        3.49   \n17                      90.49                        3.49   \n18                       7.17                        3.55   \n\n    system.gpu.1.powerWatts  system.cpu.10.cpu_percent  \\\n0                     23.90                       2.14   \n1                     23.98                       1.93   \n2                     25.30                      53.65   \n3                     25.10                      72.70   \n4                     25.35                      86.34   \n5                     25.04                      66.69   \n6                     25.47                      81.68   \n7                     25.29                      75.11   \n8                     25.09                      67.29   \n9                     25.47                      85.38   \n10                    25.01                      66.68   \n11                    25.01                      66.91   \n12                    25.36                      87.56   \n13                    24.98                      62.02   \n14                    25.36                      81.56   \n15                    25.51                      75.94   \n16                    25.10                      64.08   \n17                    25.73                      91.29   \n18                    24.48                      11.84   \n\n    system.gpu.1.powerPercent  system.gpu.0.memoryAllocated    _timestamp  \\\n0                        7.47                          2.18  1.689165e+09   \n1                        7.49                          2.18  1.689165e+09   \n2                        7.91                         30.69  1.689165e+09   \n3                        7.84                         49.53  1.689165e+09   \n4                        7.92                         53.70  1.689165e+09   \n5                        7.83                         45.40  1.689165e+09   \n6                        7.96                         51.21  1.689165e+09   \n7                        7.90                         51.03  1.689165e+09   \n8                        7.84                         45.63  1.689165e+09   \n9                        7.96                         54.45  1.689165e+09   \n10                       7.82                         47.36  1.689165e+09   \n11                       7.82                         45.71  1.689165e+09   \n12                       7.93                         56.41  1.689165e+09   \n13                       7.81                         45.51  1.689165e+09   \n14                       7.92                         50.36  1.689165e+09   \n15                       7.97                         52.76  1.689165e+09   \n16                       7.84                         44.57  1.689165e+09   \n17                       8.04                         54.96  1.689166e+09   \n18                       7.65                         31.45  1.689166e+09   \n\n    system.cpu.8.cpu_percent  system.cpu.14.cpu_percent  \n0                       1.84                       2.44  \n1                       1.97                       3.03  \n2                      53.05                      56.13  \n3                      73.17                      74.94  \n4                      84.67                      87.15  \n5                      64.80                      64.88  \n6                      83.53                      81.32  \n7                      72.73                      75.13  \n8                      69.23                      67.99  \n9                      86.69                      89.31  \n10                     65.92                      66.97  \n11                     68.81                      66.07  \n12                     89.53                      88.38  \n13                     66.79                      63.37  \n14                     81.34                      82.45  \n15                     76.44                      74.87  \n16                     62.70                      63.51  \n17                     90.53                      90.03  \n18                     10.57                       8.47  \n\n[19 rows x 40 columns]",
      "text/html": "<div>\n<style scoped>\n    .dataframe tbody tr th:only-of-type {\n        vertical-align: middle;\n    }\n\n    .dataframe tbody tr th {\n        vertical-align: top;\n    }\n\n    .dataframe thead th {\n        text-align: right;\n    }\n</style>\n<table border=\"1\" class=\"dataframe\">\n  <thead>\n    <tr style=\"text-align: right;\">\n      <th></th>\n      <th>system.network.sent</th>\n      <th>system.gpu.0.powerPercent</th>\n      <th>system.network.recv</th>\n      <th>system.gpu.1.temp</th>\n      <th>system.cpu.9.cpu_percent</th>\n      <th>system.disk</th>\n      <th>system.cpu.1.cpu_percent</th>\n      <th>system.gpu.0.powerWatts</th>\n      <th>system.cpu.7.cpu_percent</th>\n      <th>_wandb</th>\n      <th>...</th>\n      <th>system.cpu.0.cpu_percent</th>\n      <th>system.cpu.13.cpu_percent</th>\n      <th>system.proc.memory.percent</th>\n      <th>system.gpu.1.powerWatts</th>\n      <th>system.cpu.10.cpu_percent</th>\n      <th>system.gpu.1.powerPercent</th>\n      <th>system.gpu.0.memoryAllocated</th>\n      <th>_timestamp</th>\n      <th>system.cpu.8.cpu_percent</th>\n      <th>system.cpu.14.cpu_percent</th>\n    </tr>\n  </thead>\n  <tbody>\n    <tr>\n      <th>0</th>\n      <td>82544.87</td>\n      <td>11.97</td>\n      <td>93828.80</td>\n      <td>49.40</td>\n      <td>2.07</td>\n      <td>53.8</td>\n      <td>8.69</td>\n      <td>38.31</td>\n      <td>2.76</td>\n      <td>True</td>\n      <td>...</td>\n      <td>2.98</td>\n      <td>1.73</td>\n      <td>1.13</td>\n      <td>23.90</td>\n      <td>2.14</td>\n      <td>7.47</td>\n      <td>2.18</td>\n      <td>1.689165e+09</td>\n      <td>1.84</td>\n      <td>2.44</td>\n    </tr>\n    <tr>\n      <th>1</th>\n      <td>236948.73</td>\n      <td>11.94</td>\n      <td>252480.00</td>\n      <td>49.00</td>\n      <td>2.13</td>\n      <td>53.8</td>\n      <td>1.80</td>\n      <td>38.21</td>\n      <td>2.50</td>\n      <td>True</td>\n      <td>...</td>\n      <td>1.93</td>\n      <td>1.87</td>\n      <td>1.13</td>\n      <td>23.98</td>\n      <td>1.93</td>\n      <td>7.49</td>\n      <td>2.18</td>\n      <td>1.689165e+09</td>\n      <td>1.97</td>\n      <td>3.03</td>\n    </tr>\n    <tr>\n      <th>2</th>\n      <td>5236540.27</td>\n      <td>40.10</td>\n      <td>468932.87</td>\n      <td>49.07</td>\n      <td>59.35</td>\n      <td>53.8</td>\n      <td>52.19</td>\n      <td>128.15</td>\n      <td>56.65</td>\n      <td>True</td>\n      <td>...</td>\n      <td>54.74</td>\n      <td>56.01</td>\n      <td>2.37</td>\n      <td>25.30</td>\n      <td>53.65</td>\n      <td>7.91</td>\n      <td>30.69</td>\n      <td>1.689165e+09</td>\n      <td>53.05</td>\n      <td>56.13</td>\n    </tr>\n    <tr>\n      <th>3</th>\n      <td>6840296.00</td>\n      <td>58.91</td>\n      <td>1978343.40</td>\n      <td>49.00</td>\n      <td>77.51</td>\n      <td>53.8</td>\n      <td>74.94</td>\n      <td>188.70</td>\n      <td>74.84</td>\n      <td>True</td>\n      <td>...</td>\n      <td>74.57</td>\n      <td>73.73</td>\n      <td>3.44</td>\n      <td>25.10</td>\n      <td>72.70</td>\n      <td>7.84</td>\n      <td>49.53</td>\n      <td>1.689165e+09</td>\n      <td>73.17</td>\n      <td>74.94</td>\n    </tr>\n    <tr>\n      <th>4</th>\n      <td>11234473.40</td>\n      <td>66.07</td>\n      <td>6083440.47</td>\n      <td>49.00</td>\n      <td>86.68</td>\n      <td>53.8</td>\n      <td>86.74</td>\n      <td>211.44</td>\n      <td>86.46</td>\n      <td>True</td>\n      <td>...</td>\n      <td>85.77</td>\n      <td>86.89</td>\n      <td>3.47</td>\n      <td>25.35</td>\n      <td>86.34</td>\n      <td>7.92</td>\n      <td>53.70</td>\n      <td>1.689165e+09</td>\n      <td>84.67</td>\n      <td>87.15</td>\n    </tr>\n    <tr>\n      <th>5</th>\n      <td>14929983.73</td>\n      <td>60.53</td>\n      <td>10211303.07</td>\n      <td>49.00</td>\n      <td>68.00</td>\n      <td>53.8</td>\n      <td>63.60</td>\n      <td>193.68</td>\n      <td>69.43</td>\n      <td>True</td>\n      <td>...</td>\n      <td>65.56</td>\n      <td>66.41</td>\n      <td>3.47</td>\n      <td>25.04</td>\n      <td>66.69</td>\n      <td>7.83</td>\n      <td>45.40</td>\n      <td>1.689165e+09</td>\n      <td>64.80</td>\n      <td>64.88</td>\n    </tr>\n    <tr>\n      <th>6</th>\n      <td>17925308.73</td>\n      <td>67.26</td>\n      <td>12609679.80</td>\n      <td>49.00</td>\n      <td>84.31</td>\n      <td>53.8</td>\n      <td>83.09</td>\n      <td>215.23</td>\n      <td>83.85</td>\n      <td>True</td>\n      <td>...</td>\n      <td>83.51</td>\n      <td>82.99</td>\n      <td>3.48</td>\n      <td>25.47</td>\n      <td>81.68</td>\n      <td>7.96</td>\n      <td>51.21</td>\n      <td>1.689165e+09</td>\n      <td>83.53</td>\n      <td>81.32</td>\n    </tr>\n    <tr>\n      <th>7</th>\n      <td>22335678.27</td>\n      <td>67.00</td>\n      <td>17088251.00</td>\n      <td>49.20</td>\n      <td>73.71</td>\n      <td>53.8</td>\n      <td>73.39</td>\n      <td>214.40</td>\n      <td>72.95</td>\n      <td>True</td>\n      <td>...</td>\n      <td>76.77</td>\n      <td>75.39</td>\n      <td>3.48</td>\n      <td>25.29</td>\n      <td>75.11</td>\n      <td>7.90</td>\n      <td>51.03</td>\n      <td>1.689165e+09</td>\n      <td>72.73</td>\n      <td>75.13</td>\n    </tr>\n    <tr>\n      <th>8</th>\n      <td>26026454.47</td>\n      <td>61.69</td>\n      <td>20479838.20</td>\n      <td>50.00</td>\n      <td>70.43</td>\n      <td>53.8</td>\n      <td>68.55</td>\n      <td>197.40</td>\n      <td>69.57</td>\n      <td>True</td>\n      <td>...</td>\n      <td>69.05</td>\n      <td>69.97</td>\n      <td>3.48</td>\n      <td>25.09</td>\n      <td>67.29</td>\n      <td>7.84</td>\n      <td>45.63</td>\n      <td>1.689165e+09</td>\n      <td>69.23</td>\n      <td>67.99</td>\n    </tr>\n    <tr>\n      <th>9</th>\n      <td>29374512.80</td>\n      <td>64.72</td>\n      <td>22879239.47</td>\n      <td>50.00</td>\n      <td>87.50</td>\n      <td>53.8</td>\n      <td>89.46</td>\n      <td>207.06</td>\n      <td>87.24</td>\n      <td>True</td>\n      <td>...</td>\n      <td>87.35</td>\n      <td>87.33</td>\n      <td>3.48</td>\n      <td>25.47</td>\n      <td>85.38</td>\n      <td>7.96</td>\n      <td>54.45</td>\n      <td>1.689165e+09</td>\n      <td>86.69</td>\n      <td>89.31</td>\n    </tr>\n    <tr>\n      <th>10</th>\n      <td>33404541.07</td>\n      <td>58.98</td>\n      <td>27927849.47</td>\n      <td>50.00</td>\n      <td>66.26</td>\n      <td>53.8</td>\n      <td>68.88</td>\n      <td>188.76</td>\n      <td>67.67</td>\n      <td>True</td>\n      <td>...</td>\n      <td>67.48</td>\n      <td>67.31</td>\n      <td>3.48</td>\n      <td>25.01</td>\n      <td>66.68</td>\n      <td>7.82</td>\n      <td>47.36</td>\n      <td>1.689165e+09</td>\n      <td>65.92</td>\n      <td>66.97</td>\n    </tr>\n    <tr>\n      <th>11</th>\n      <td>35349058.13</td>\n      <td>58.57</td>\n      <td>30499253.27</td>\n      <td>50.00</td>\n      <td>63.90</td>\n      <td>53.8</td>\n      <td>65.46</td>\n      <td>187.42</td>\n      <td>66.53</td>\n      <td>True</td>\n      <td>...</td>\n      <td>63.45</td>\n      <td>64.99</td>\n      <td>3.48</td>\n      <td>25.01</td>\n      <td>66.91</td>\n      <td>7.82</td>\n      <td>45.71</td>\n      <td>1.689165e+09</td>\n      <td>68.81</td>\n      <td>66.07</td>\n    </tr>\n    <tr>\n      <th>12</th>\n      <td>39035221.93</td>\n      <td>66.59</td>\n      <td>33664360.47</td>\n      <td>50.00</td>\n      <td>89.27</td>\n      <td>53.8</td>\n      <td>88.12</td>\n      <td>213.08</td>\n      <td>88.99</td>\n      <td>True</td>\n      <td>...</td>\n      <td>89.03</td>\n      <td>90.29</td>\n      <td>3.49</td>\n      <td>25.36</td>\n      <td>87.56</td>\n      <td>7.93</td>\n      <td>56.41</td>\n      <td>1.689165e+09</td>\n      <td>89.53</td>\n      <td>88.38</td>\n    </tr>\n    <tr>\n      <th>13</th>\n      <td>43065951.53</td>\n      <td>59.36</td>\n      <td>38071380.20</td>\n      <td>50.00</td>\n      <td>65.04</td>\n      <td>53.8</td>\n      <td>68.45</td>\n      <td>189.95</td>\n      <td>64.15</td>\n      <td>True</td>\n      <td>...</td>\n      <td>65.83</td>\n      <td>65.74</td>\n      <td>3.49</td>\n      <td>24.98</td>\n      <td>62.02</td>\n      <td>7.81</td>\n      <td>45.51</td>\n      <td>1.689165e+09</td>\n      <td>66.79</td>\n      <td>63.37</td>\n    </tr>\n    <tr>\n      <th>14</th>\n      <td>45702854.93</td>\n      <td>63.15</td>\n      <td>40120974.27</td>\n      <td>50.00</td>\n      <td>82.65</td>\n      <td>53.8</td>\n      <td>82.83</td>\n      <td>202.08</td>\n      <td>83.13</td>\n      <td>True</td>\n      <td>...</td>\n      <td>84.82</td>\n      <td>83.75</td>\n      <td>3.49</td>\n      <td>25.36</td>\n      <td>81.56</td>\n      <td>7.92</td>\n      <td>50.36</td>\n      <td>1.689165e+09</td>\n      <td>81.34</td>\n      <td>82.45</td>\n    </tr>\n    <tr>\n      <th>15</th>\n      <td>50097888.73</td>\n      <td>65.80</td>\n      <td>44690692.67</td>\n      <td>50.60</td>\n      <td>75.40</td>\n      <td>53.8</td>\n      <td>76.88</td>\n      <td>210.69</td>\n      <td>78.41</td>\n      <td>True</td>\n      <td>...</td>\n      <td>75.67</td>\n      <td>74.43</td>\n      <td>3.49</td>\n      <td>25.51</td>\n      <td>75.94</td>\n      <td>7.97</td>\n      <td>52.76</td>\n      <td>1.689165e+09</td>\n      <td>76.44</td>\n      <td>74.87</td>\n    </tr>\n    <tr>\n      <th>16</th>\n      <td>53758088.20</td>\n      <td>59.48</td>\n      <td>48122858.27</td>\n      <td>51.00</td>\n      <td>63.51</td>\n      <td>53.8</td>\n      <td>64.37</td>\n      <td>190.33</td>\n      <td>63.31</td>\n      <td>True</td>\n      <td>...</td>\n      <td>60.51</td>\n      <td>61.59</td>\n      <td>3.49</td>\n      <td>25.10</td>\n      <td>64.08</td>\n      <td>7.84</td>\n      <td>44.57</td>\n      <td>1.689165e+09</td>\n      <td>62.70</td>\n      <td>63.51</td>\n    </tr>\n    <tr>\n      <th>17</th>\n      <td>55684128.07</td>\n      <td>67.52</td>\n      <td>50354085.33</td>\n      <td>51.00</td>\n      <td>91.05</td>\n      <td>53.8</td>\n      <td>91.09</td>\n      <td>216.07</td>\n      <td>89.78</td>\n      <td>True</td>\n      <td>...</td>\n      <td>90.60</td>\n      <td>90.49</td>\n      <td>3.49</td>\n      <td>25.73</td>\n      <td>91.29</td>\n      <td>8.04</td>\n      <td>54.96</td>\n      <td>1.689166e+09</td>\n      <td>90.53</td>\n      <td>90.03</td>\n    </tr>\n    <tr>\n      <th>18</th>\n      <td>61526734.86</td>\n      <td>44.04</td>\n      <td>56063815.14</td>\n      <td>51.00</td>\n      <td>9.27</td>\n      <td>53.8</td>\n      <td>7.96</td>\n      <td>140.92</td>\n      <td>12.56</td>\n      <td>True</td>\n      <td>...</td>\n      <td>4.83</td>\n      <td>7.17</td>\n      <td>3.55</td>\n      <td>24.48</td>\n      <td>11.84</td>\n      <td>7.65</td>\n      <td>31.45</td>\n      <td>1.689166e+09</td>\n      <td>10.57</td>\n      <td>8.47</td>\n    </tr>\n  </tbody>\n</table>\n<p>19 rows × 40 columns</p>\n</div>"
     },
     "execution_count": 163,
     "metadata": {},
     "output_type": "execute_result"
    }
   ],
   "source": [
    "system_metrics"
   ],
   "metadata": {
    "collapsed": false,
    "ExecuteTime": {
     "end_time": "2023-07-19T09:09:54.175595300Z",
     "start_time": "2023-07-19T09:09:54.140711500Z"
    }
   }
  },
  {
   "cell_type": "code",
   "execution_count": 168,
   "outputs": [
    {
     "ename": "AttributeError",
     "evalue": "'DataFrame' object has no attribute 'setm'",
     "output_type": "error",
     "traceback": [
      "\u001B[1;31m---------------------------------------------------------------------------\u001B[0m",
      "\u001B[1;31mAttributeError\u001B[0m                            Traceback (most recent call last)",
      "\u001B[1;32m~\\AppData\\Local\\Temp\\ipykernel_23008\\11760575.py\u001B[0m in \u001B[0;36m?\u001B[1;34m()\u001B[0m\n\u001B[0;32m      4\u001B[0m \u001B[0mgpu\u001B[0m \u001B[1;33m=\u001B[0m \u001B[0mgpu\u001B[0m\u001B[1;33m.\u001B[0m\u001B[0mdropna\u001B[0m\u001B[1;33m(\u001B[0m\u001B[1;33m)\u001B[0m \u001B[1;31m# remove system errors\u001B[0m\u001B[1;33m\u001B[0m\u001B[1;33m\u001B[0m\u001B[0m\n\u001B[0;32m      5\u001B[0m \u001B[1;31m# gpu = gpu.values.tolist()\u001B[0m\u001B[1;33m\u001B[0m\u001B[1;33m\u001B[0m\u001B[0m\n\u001B[0;32m      6\u001B[0m \u001B[1;33m\u001B[0m\u001B[0m\n\u001B[0;32m      7\u001B[0m \u001B[0mgpu\u001B[0m\u001B[1;33m.\u001B[0m\u001B[0mmean\u001B[0m\u001B[1;33m(\u001B[0m\u001B[1;33m)\u001B[0m\u001B[1;33m.\u001B[0m\u001B[0mvalues\u001B[0m\u001B[1;33m.\u001B[0m\u001B[0mtolist\u001B[0m\u001B[1;33m(\u001B[0m\u001B[1;33m)\u001B[0m\u001B[1;33m[\u001B[0m\u001B[1;36m0\u001B[0m\u001B[1;33m]\u001B[0m\u001B[1;33m\u001B[0m\u001B[1;33m\u001B[0m\u001B[0m\n\u001B[1;32m----> 8\u001B[1;33m \u001B[0mgpu\u001B[0m\u001B[1;33m.\u001B[0m\u001B[0msetm\u001B[0m\u001B[1;33m(\u001B[0m\u001B[1;33m)\u001B[0m\u001B[1;33m\u001B[0m\u001B[1;33m\u001B[0m\u001B[0m\n\u001B[0m",
      "\u001B[1;32m~\\anaconda3\\envs\\ds\\lib\\site-packages\\pandas\\core\\generic.py\u001B[0m in \u001B[0;36m?\u001B[1;34m(self, name)\u001B[0m\n\u001B[0;32m   5985\u001B[0m             \u001B[1;32mand\u001B[0m \u001B[0mname\u001B[0m \u001B[1;32mnot\u001B[0m \u001B[1;32min\u001B[0m \u001B[0mself\u001B[0m\u001B[1;33m.\u001B[0m\u001B[0m_accessors\u001B[0m\u001B[1;33m\u001B[0m\u001B[1;33m\u001B[0m\u001B[0m\n\u001B[0;32m   5986\u001B[0m             \u001B[1;32mand\u001B[0m \u001B[0mself\u001B[0m\u001B[1;33m.\u001B[0m\u001B[0m_info_axis\u001B[0m\u001B[1;33m.\u001B[0m\u001B[0m_can_hold_identifiers_and_holds_name\u001B[0m\u001B[1;33m(\u001B[0m\u001B[0mname\u001B[0m\u001B[1;33m)\u001B[0m\u001B[1;33m\u001B[0m\u001B[1;33m\u001B[0m\u001B[0m\n\u001B[0;32m   5987\u001B[0m         ):\n\u001B[0;32m   5988\u001B[0m             \u001B[1;32mreturn\u001B[0m \u001B[0mself\u001B[0m\u001B[1;33m[\u001B[0m\u001B[0mname\u001B[0m\u001B[1;33m]\u001B[0m\u001B[1;33m\u001B[0m\u001B[1;33m\u001B[0m\u001B[0m\n\u001B[1;32m-> 5989\u001B[1;33m         \u001B[1;32mreturn\u001B[0m \u001B[0mobject\u001B[0m\u001B[1;33m.\u001B[0m\u001B[0m__getattribute__\u001B[0m\u001B[1;33m(\u001B[0m\u001B[0mself\u001B[0m\u001B[1;33m,\u001B[0m \u001B[0mname\u001B[0m\u001B[1;33m)\u001B[0m\u001B[1;33m\u001B[0m\u001B[1;33m\u001B[0m\u001B[0m\n\u001B[0m",
      "\u001B[1;31mAttributeError\u001B[0m: 'DataFrame' object has no attribute 'setm'"
     ]
    }
   ],
   "source": [
    "import numpy as np\n",
    "\n",
    "gpu = system_metrics[(list(system_metrics.filter(regex='system.gpu.0.gpu$')))]\n",
    "gpu = gpu.dropna() # remove system errors\n",
    "# gpu = gpu.values.tolist()\n",
    "\n",
    "gpu.mean().values.tolist()[0]\n"
   ],
   "metadata": {
    "collapsed": false,
    "ExecuteTime": {
     "end_time": "2023-07-19T09:11:50.938663300Z",
     "start_time": "2023-07-19T09:11:50.877386100Z"
    }
   }
  },
  {
   "cell_type": "code",
   "execution_count": 169,
   "outputs": [
    {
     "data": {
      "text/plain": "7.318377214930811"
     },
     "execution_count": 169,
     "metadata": {},
     "output_type": "execute_result"
    }
   ],
   "source": [
    "gpu.sem().values.tolist()[0]"
   ],
   "metadata": {
    "collapsed": false,
    "ExecuteTime": {
     "end_time": "2023-07-19T09:12:14.572922800Z",
     "start_time": "2023-07-19T09:12:14.527015500Z"
    }
   }
  },
  {
   "cell_type": "code",
   "execution_count": null,
   "outputs": [],
   "source": [
    "max_gpu = np.max(gpu)\n",
    "min_gpu = np.min(gpu)\n",
    "mean_gpu = np.mean(gpu)"
   ],
   "metadata": {
    "collapsed": false
   }
  },
  {
   "cell_type": "code",
   "execution_count": 158,
   "outputs": [
    {
     "data": {
      "text/plain": "[48.265, 2711.4999999999995, 0]"
     },
     "execution_count": 158,
     "metadata": {},
     "output_type": "execute_result"
    }
   ],
   "source": [
    "import numpy as np\n",
    "\n",
    "max_gpu = np.max(gpu)\n",
    "min_gpu = np.min(gpu)\n",
    "# mean_gpu = mean(gpu.values.tolist())\n",
    "mean_gpu = np.mean(gpu)\n",
    "range_gpu = (max_gpu - min_gpu) / 2\n",
    "mean_ram = system_metrics['system.gpu.0.memoryAllocated'].mean() / 100 * 10000\n",
    "max_ram = system_metrics['system.gpu.0.memoryAllocated'].max() / 100 * 10000\n",
    "min_ram = system_metrics['system.gpu.0.memoryAllocated'].min() / 100 * 10000\n",
    "range_ram = (max_ram - min_ram) / 2\n",
    "bytes_sent_mb = system_metrics['system.network.sent'].mean() / pow(1000,2)\n",
    "agg_metrics = [mean_gpu, mean_ram, bytes_sent_mb]\n",
    "agg_range = [range_gpu, range_ram, 0]\n",
    "\n",
    "agg_range"
   ],
   "metadata": {
    "collapsed": false,
    "ExecuteTime": {
     "end_time": "2023-07-19T08:43:26.867180100Z",
     "start_time": "2023-07-19T08:43:26.854754400Z"
    }
   }
  },
  {
   "cell_type": "code",
   "execution_count": 119,
   "outputs": [
    {
     "name": "stderr",
     "output_type": "stream",
     "text": [
      "C:\\Users\\janos.LAPTOP-42CLK60G\\AppData\\Local\\Temp\\ipykernel_23008\\2334910246.py:4: UserWarning: Matplotlib is currently using module://matplotlib_inline.backend_inline, which is a non-GUI backend, so cannot show the figure.\n",
      "  fig.show()\n",
      "C:\\Users\\janos.LAPTOP-42CLK60G\\AppData\\Local\\Temp\\ipykernel_23008\\2334910246.py:4: UserWarning: Matplotlib is currently using module://matplotlib_inline.backend_inline, which is a non-GUI backend, so cannot show the figure.\n",
      "  fig.show()\n",
      "C:\\Users\\janos.LAPTOP-42CLK60G\\AppData\\Local\\Temp\\ipykernel_23008\\2334910246.py:4: UserWarning: Matplotlib is currently using module://matplotlib_inline.backend_inline, which is a non-GUI backend, so cannot show the figure.\n",
      "  fig.show()\n"
     ]
    }
   ],
   "source": [
    "for col in final_metrics.columns:\n",
    "    ax = final_metrics.plot.bar(y='CPU Max', rot=0)\n",
    "    fig = ax.get_figure()\n",
    "    fig.show()\n",
    "    plt.savefig(os.path.join(SAVE_PATH, file_name), dpi=600, bbox_inches='tight')"
   ],
   "metadata": {
    "collapsed": false,
    "ExecuteTime": {
     "end_time": "2023-07-18T14:45:01.400602200Z",
     "start_time": "2023-07-18T14:45:00.023966100Z"
    }
   }
  },
  {
   "cell_type": "code",
   "execution_count": 120,
   "outputs": [],
   "source": [
    "df = pd.DataFrame({'lab':['A', 'B', 'C'], 'val':[10, 30, 20]})\n",
    "ax = df.plot.bar(x='lab', y='val', rot=0)\n",
    "plt.savefig(os.path.join(SAVE_PATH, file_name), dpi=600, bbox_inches='tight')"
   ],
   "metadata": {
    "collapsed": false,
    "ExecuteTime": {
     "end_time": "2023-07-18T14:45:07.453212800Z",
     "start_time": "2023-07-18T14:45:06.970825800Z"
    }
   }
  },
  {
   "cell_type": "code",
   "execution_count": null,
   "outputs": [],
   "source": [],
   "metadata": {
    "collapsed": false
   }
  }
 ],
 "metadata": {
  "kernelspec": {
   "display_name": "Python 3",
   "language": "python",
   "name": "python3"
  },
  "language_info": {
   "codemirror_mode": {
    "name": "ipython",
    "version": 2
   },
   "file_extension": ".py",
   "mimetype": "text/x-python",
   "name": "python",
   "nbconvert_exporter": "python",
   "pygments_lexer": "ipython2",
   "version": "2.7.6"
  }
 },
 "nbformat": 4,
 "nbformat_minor": 0
}
