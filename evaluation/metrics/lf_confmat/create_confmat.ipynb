{
 "cells": [
  {
   "cell_type": "code",
   "execution_count": 4,
   "metadata": {
    "collapsed": true,
    "ExecuteTime": {
     "end_time": "2023-07-17T13:30:13.405292500Z",
     "start_time": "2023-07-17T13:30:12.467438200Z"
    }
   },
   "outputs": [
    {
     "name": "stdout",
     "output_type": "stream",
     "text": [
      "6\n",
      "participant_0\n"
     ]
    },
    {
     "ename": "CommError",
     "evalue": "It appears that you do not have permission to access the requested resource. Please reach out to the project owner to grant you access. If you have the correct permissions, verify that there are no issues with your networking setup.(Error 404: Not Found)",
     "output_type": "error",
     "traceback": [
      "\u001B[1;31m---------------------------------------------------------------------------\u001B[0m",
      "\u001B[1;31mHTTPError\u001B[0m                                 Traceback (most recent call last)",
      "File \u001B[1;32m~\\anaconda3\\envs\\ds\\lib\\site-packages\\wandb\\sdk\\lib\\retry.py:131\u001B[0m, in \u001B[0;36mRetry.__call__\u001B[1;34m(self, *args, **kwargs)\u001B[0m\n\u001B[0;32m    130\u001B[0m \u001B[38;5;28;01mtry\u001B[39;00m:\n\u001B[1;32m--> 131\u001B[0m     result \u001B[38;5;241m=\u001B[39m \u001B[38;5;28mself\u001B[39m\u001B[38;5;241m.\u001B[39m_call_fn(\u001B[38;5;241m*\u001B[39margs, \u001B[38;5;241m*\u001B[39m\u001B[38;5;241m*\u001B[39mkwargs)\n\u001B[0;32m    132\u001B[0m     \u001B[38;5;66;03m# Only print resolved attempts once every minute\u001B[39;00m\n",
      "File \u001B[1;32m~\\anaconda3\\envs\\ds\\lib\\site-packages\\wandb\\apis\\public.py:211\u001B[0m, in \u001B[0;36mRetryingClient.execute\u001B[1;34m(self, *args, **kwargs)\u001B[0m\n\u001B[0;32m    210\u001B[0m \u001B[38;5;28;01mtry\u001B[39;00m:\n\u001B[1;32m--> 211\u001B[0m     \u001B[38;5;28;01mreturn\u001B[39;00m \u001B[38;5;28mself\u001B[39m\u001B[38;5;241m.\u001B[39m_client\u001B[38;5;241m.\u001B[39mexecute(\u001B[38;5;241m*\u001B[39margs, \u001B[38;5;241m*\u001B[39m\u001B[38;5;241m*\u001B[39mkwargs)\n\u001B[0;32m    212\u001B[0m \u001B[38;5;28;01mexcept\u001B[39;00m requests\u001B[38;5;241m.\u001B[39mexceptions\u001B[38;5;241m.\u001B[39mReadTimeout:\n",
      "File \u001B[1;32m~\\anaconda3\\envs\\ds\\lib\\site-packages\\wandb\\vendor\\gql-0.2.0\\wandb_gql\\client.py:52\u001B[0m, in \u001B[0;36mClient.execute\u001B[1;34m(self, document, *args, **kwargs)\u001B[0m\n\u001B[0;32m     50\u001B[0m     \u001B[38;5;28mself\u001B[39m\u001B[38;5;241m.\u001B[39mvalidate(document)\n\u001B[1;32m---> 52\u001B[0m result \u001B[38;5;241m=\u001B[39m \u001B[38;5;28mself\u001B[39m\u001B[38;5;241m.\u001B[39m_get_result(document, \u001B[38;5;241m*\u001B[39margs, \u001B[38;5;241m*\u001B[39m\u001B[38;5;241m*\u001B[39mkwargs)\n\u001B[0;32m     53\u001B[0m \u001B[38;5;28;01mif\u001B[39;00m result\u001B[38;5;241m.\u001B[39merrors:\n",
      "File \u001B[1;32m~\\anaconda3\\envs\\ds\\lib\\site-packages\\wandb\\vendor\\gql-0.2.0\\wandb_gql\\client.py:60\u001B[0m, in \u001B[0;36mClient._get_result\u001B[1;34m(self, document, *args, **kwargs)\u001B[0m\n\u001B[0;32m     59\u001B[0m \u001B[38;5;28;01mif\u001B[39;00m \u001B[38;5;129;01mnot\u001B[39;00m \u001B[38;5;28mself\u001B[39m\u001B[38;5;241m.\u001B[39mretries:\n\u001B[1;32m---> 60\u001B[0m     \u001B[38;5;28;01mreturn\u001B[39;00m \u001B[38;5;28mself\u001B[39m\u001B[38;5;241m.\u001B[39mtransport\u001B[38;5;241m.\u001B[39mexecute(document, \u001B[38;5;241m*\u001B[39margs, \u001B[38;5;241m*\u001B[39m\u001B[38;5;241m*\u001B[39mkwargs)\n\u001B[0;32m     62\u001B[0m last_exception \u001B[38;5;241m=\u001B[39m \u001B[38;5;28;01mNone\u001B[39;00m\n",
      "File \u001B[1;32m~\\anaconda3\\envs\\ds\\lib\\site-packages\\wandb\\sdk\\lib\\gql_request.py:56\u001B[0m, in \u001B[0;36mGraphQLSession.execute\u001B[1;34m(self, document, variable_values, timeout)\u001B[0m\n\u001B[0;32m     55\u001B[0m request \u001B[38;5;241m=\u001B[39m \u001B[38;5;28mself\u001B[39m\u001B[38;5;241m.\u001B[39msession\u001B[38;5;241m.\u001B[39mpost(\u001B[38;5;28mself\u001B[39m\u001B[38;5;241m.\u001B[39murl, \u001B[38;5;241m*\u001B[39m\u001B[38;5;241m*\u001B[39mpost_args)\n\u001B[1;32m---> 56\u001B[0m \u001B[43mrequest\u001B[49m\u001B[38;5;241;43m.\u001B[39;49m\u001B[43mraise_for_status\u001B[49m\u001B[43m(\u001B[49m\u001B[43m)\u001B[49m\n\u001B[0;32m     58\u001B[0m result \u001B[38;5;241m=\u001B[39m request\u001B[38;5;241m.\u001B[39mjson()\n",
      "File \u001B[1;32m~\\anaconda3\\envs\\ds\\lib\\site-packages\\requests\\models.py:1021\u001B[0m, in \u001B[0;36mResponse.raise_for_status\u001B[1;34m(self)\u001B[0m\n\u001B[0;32m   1020\u001B[0m \u001B[38;5;28;01mif\u001B[39;00m http_error_msg:\n\u001B[1;32m-> 1021\u001B[0m     \u001B[38;5;28;01mraise\u001B[39;00m HTTPError(http_error_msg, response\u001B[38;5;241m=\u001B[39m\u001B[38;5;28mself\u001B[39m)\n",
      "\u001B[1;31mHTTPError\u001B[0m: 404 Client Error: Not Found for url: https://api.wandb.ai/graphql",
      "\nDuring handling of the above exception, another exception occurred:\n",
      "\u001B[1;31mCommError\u001B[0m                                 Traceback (most recent call last)",
      "Cell \u001B[1;32mIn[4], line 39\u001B[0m\n\u001B[0;32m     37\u001B[0m     \u001B[38;5;28;01mif\u001B[39;00m \u001B[38;5;124m\"\u001B[39m\u001B[38;5;124mTestdataConfusionMatrixTable\u001B[39m\u001B[38;5;124m\"\u001B[39m \u001B[38;5;129;01min\u001B[39;00m artifact\u001B[38;5;241m.\u001B[39mname:\n\u001B[0;32m     38\u001B[0m         lf_cm_artifact \u001B[38;5;241m=\u001B[39m artifact\n\u001B[1;32m---> 39\u001B[0m         cm \u001B[38;5;241m=\u001B[39m \u001B[43mlf_cm_artifact\u001B[49m\u001B[38;5;241;43m.\u001B[39;49m\u001B[43mdownload\u001B[49m\u001B[43m(\u001B[49m\u001B[43m)\u001B[49m\n\u001B[0;32m     40\u001B[0m         \u001B[38;5;28mprint\u001B[39m(cm)\n\u001B[0;32m     41\u001B[0m \u001B[38;5;28mprint\u001B[39m(lf_cm_name)\n",
      "File \u001B[1;32m~\\anaconda3\\envs\\ds\\lib\\site-packages\\wandb\\sdk\\artifacts\\public_artifact.py:634\u001B[0m, in \u001B[0;36mArtifact.download\u001B[1;34m(self, root, recursive)\u001B[0m\n\u001B[0;32m    632\u001B[0m dirpath \u001B[38;5;241m=\u001B[39m root \u001B[38;5;129;01mor\u001B[39;00m \u001B[38;5;28mself\u001B[39m\u001B[38;5;241m.\u001B[39m_default_root()\n\u001B[0;32m    633\u001B[0m \u001B[38;5;28mself\u001B[39m\u001B[38;5;241m.\u001B[39m_add_download_root(dirpath)\n\u001B[1;32m--> 634\u001B[0m manifest \u001B[38;5;241m=\u001B[39m \u001B[38;5;28;43mself\u001B[39;49m\u001B[38;5;241;43m.\u001B[39;49m\u001B[43m_load_manifest\u001B[49m\u001B[43m(\u001B[49m\u001B[43m)\u001B[49m\n\u001B[0;32m    635\u001B[0m nfiles \u001B[38;5;241m=\u001B[39m \u001B[38;5;28mlen\u001B[39m(manifest\u001B[38;5;241m.\u001B[39mentries)\n\u001B[0;32m    636\u001B[0m size \u001B[38;5;241m=\u001B[39m \u001B[38;5;28msum\u001B[39m(e\u001B[38;5;241m.\u001B[39msize \u001B[38;5;129;01mor\u001B[39;00m \u001B[38;5;241m0\u001B[39m \u001B[38;5;28;01mfor\u001B[39;00m e \u001B[38;5;129;01min\u001B[39;00m manifest\u001B[38;5;241m.\u001B[39mentries\u001B[38;5;241m.\u001B[39mvalues())\n",
      "File \u001B[1;32m~\\anaconda3\\envs\\ds\\lib\\site-packages\\wandb\\sdk\\artifacts\\public_artifact.py:1041\u001B[0m, in \u001B[0;36mArtifact._load_manifest\u001B[1;34m(self)\u001B[0m\n\u001B[0;32m   1019\u001B[0m \u001B[38;5;28;01mif\u001B[39;00m \u001B[38;5;28mself\u001B[39m\u001B[38;5;241m.\u001B[39m_manifest \u001B[38;5;129;01mis\u001B[39;00m \u001B[38;5;28;01mNone\u001B[39;00m:\n\u001B[0;32m   1020\u001B[0m     query \u001B[38;5;241m=\u001B[39m gql(\n\u001B[0;32m   1021\u001B[0m \u001B[38;5;250m        \u001B[39m\u001B[38;5;124;03m\"\"\"\u001B[39;00m\n\u001B[0;32m   1022\u001B[0m \u001B[38;5;124;03m    query ArtifactManifest(\u001B[39;00m\n\u001B[1;32m   (...)\u001B[0m\n\u001B[0;32m   1039\u001B[0m \u001B[38;5;124;03m    \"\"\"\u001B[39;00m\n\u001B[0;32m   1040\u001B[0m     )\n\u001B[1;32m-> 1041\u001B[0m     response \u001B[38;5;241m=\u001B[39m \u001B[38;5;28;43mself\u001B[39;49m\u001B[38;5;241;43m.\u001B[39;49m\u001B[43mclient\u001B[49m\u001B[38;5;241;43m.\u001B[39;49m\u001B[43mexecute\u001B[49m\u001B[43m(\u001B[49m\n\u001B[0;32m   1042\u001B[0m \u001B[43m        \u001B[49m\u001B[43mquery\u001B[49m\u001B[43m,\u001B[49m\n\u001B[0;32m   1043\u001B[0m \u001B[43m        \u001B[49m\u001B[43mvariable_values\u001B[49m\u001B[38;5;241;43m=\u001B[39;49m\u001B[43m{\u001B[49m\n\u001B[0;32m   1044\u001B[0m \u001B[43m            \u001B[49m\u001B[38;5;124;43m\"\u001B[39;49m\u001B[38;5;124;43mentityName\u001B[39;49m\u001B[38;5;124;43m\"\u001B[39;49m\u001B[43m:\u001B[49m\u001B[43m \u001B[49m\u001B[38;5;28;43mself\u001B[39;49m\u001B[38;5;241;43m.\u001B[39;49m\u001B[43mentity\u001B[49m\u001B[43m,\u001B[49m\n\u001B[0;32m   1045\u001B[0m \u001B[43m            \u001B[49m\u001B[38;5;124;43m\"\u001B[39;49m\u001B[38;5;124;43mprojectName\u001B[39;49m\u001B[38;5;124;43m\"\u001B[39;49m\u001B[43m:\u001B[49m\u001B[43m \u001B[49m\u001B[38;5;28;43mself\u001B[39;49m\u001B[38;5;241;43m.\u001B[39;49m\u001B[43mproject\u001B[49m\u001B[43m,\u001B[49m\n\u001B[0;32m   1046\u001B[0m \u001B[43m            \u001B[49m\u001B[38;5;124;43m\"\u001B[39;49m\u001B[38;5;124;43mname\u001B[39;49m\u001B[38;5;124;43m\"\u001B[39;49m\u001B[43m:\u001B[49m\u001B[43m \u001B[49m\u001B[38;5;28;43mself\u001B[39;49m\u001B[38;5;241;43m.\u001B[39;49m\u001B[43mname\u001B[49m\u001B[43m,\u001B[49m\n\u001B[0;32m   1047\u001B[0m \u001B[43m        \u001B[49m\u001B[43m}\u001B[49m\u001B[43m,\u001B[49m\n\u001B[0;32m   1048\u001B[0m \u001B[43m    \u001B[49m\u001B[43m)\u001B[49m\n\u001B[0;32m   1050\u001B[0m     index_file_url \u001B[38;5;241m=\u001B[39m response[\u001B[38;5;124m\"\u001B[39m\u001B[38;5;124mproject\u001B[39m\u001B[38;5;124m\"\u001B[39m][\u001B[38;5;124m\"\u001B[39m\u001B[38;5;124martifact\u001B[39m\u001B[38;5;124m\"\u001B[39m][\u001B[38;5;124m\"\u001B[39m\u001B[38;5;124mcurrentManifest\u001B[39m\u001B[38;5;124m\"\u001B[39m][\u001B[38;5;124m\"\u001B[39m\u001B[38;5;124mfile\u001B[39m\u001B[38;5;124m\"\u001B[39m][\n\u001B[0;32m   1051\u001B[0m         \u001B[38;5;124m\"\u001B[39m\u001B[38;5;124mdirectUrl\u001B[39m\u001B[38;5;124m\"\u001B[39m\n\u001B[0;32m   1052\u001B[0m     ]\n\u001B[0;32m   1053\u001B[0m     \u001B[38;5;28;01mwith\u001B[39;00m requests\u001B[38;5;241m.\u001B[39mget(index_file_url) \u001B[38;5;28;01mas\u001B[39;00m req:\n",
      "File \u001B[1;32m~\\anaconda3\\envs\\ds\\lib\\site-packages\\wandb\\sdk\\lib\\retry.py:212\u001B[0m, in \u001B[0;36mretriable.<locals>.decorator.<locals>.wrapped_fn\u001B[1;34m(*args, **kargs)\u001B[0m\n\u001B[0;32m    210\u001B[0m \u001B[38;5;129m@functools\u001B[39m\u001B[38;5;241m.\u001B[39mwraps(fn)\n\u001B[0;32m    211\u001B[0m \u001B[38;5;28;01mdef\u001B[39;00m \u001B[38;5;21mwrapped_fn\u001B[39m(\u001B[38;5;241m*\u001B[39margs: Any, \u001B[38;5;241m*\u001B[39m\u001B[38;5;241m*\u001B[39mkargs: Any) \u001B[38;5;241m-\u001B[39m\u001B[38;5;241m>\u001B[39m Any:\n\u001B[1;32m--> 212\u001B[0m     \u001B[38;5;28;01mreturn\u001B[39;00m retrier(\u001B[38;5;241m*\u001B[39margs, \u001B[38;5;241m*\u001B[39m\u001B[38;5;241m*\u001B[39mkargs)\n",
      "File \u001B[1;32m~\\anaconda3\\envs\\ds\\lib\\site-packages\\wandb\\sdk\\lib\\retry.py:147\u001B[0m, in \u001B[0;36mRetry.__call__\u001B[1;34m(self, *args, **kwargs)\u001B[0m\n\u001B[0;32m    144\u001B[0m     \u001B[38;5;28;01mreturn\u001B[39;00m result\n\u001B[0;32m    145\u001B[0m \u001B[38;5;28;01mexcept\u001B[39;00m \u001B[38;5;28mself\u001B[39m\u001B[38;5;241m.\u001B[39m_retryable_exceptions \u001B[38;5;28;01mas\u001B[39;00m e:\n\u001B[0;32m    146\u001B[0m     \u001B[38;5;66;03m# if the secondary check fails, re-raise\u001B[39;00m\n\u001B[1;32m--> 147\u001B[0m     retry_timedelta_triggered \u001B[38;5;241m=\u001B[39m \u001B[43mcheck_retry_fn\u001B[49m\u001B[43m(\u001B[49m\u001B[43me\u001B[49m\u001B[43m)\u001B[49m\n\u001B[0;32m    148\u001B[0m     \u001B[38;5;28;01mif\u001B[39;00m \u001B[38;5;129;01mnot\u001B[39;00m retry_timedelta_triggered:\n\u001B[0;32m    149\u001B[0m         \u001B[38;5;28;01mraise\u001B[39;00m\n",
      "File \u001B[1;32m~\\anaconda3\\envs\\ds\\lib\\site-packages\\wandb\\util.py:850\u001B[0m, in \u001B[0;36mno_retry_auth\u001B[1;34m(e)\u001B[0m\n\u001B[0;32m    848\u001B[0m     \u001B[38;5;28;01mraise\u001B[39;00m CommError(\u001B[38;5;124mf\u001B[39m\u001B[38;5;124m\"\u001B[39m\u001B[38;5;124mPermission denied to access \u001B[39m\u001B[38;5;132;01m{\u001B[39;00mwandb\u001B[38;5;241m.\u001B[39mrun\u001B[38;5;241m.\u001B[39mpath\u001B[38;5;132;01m}\u001B[39;00m\u001B[38;5;124m\"\u001B[39m)\n\u001B[0;32m    849\u001B[0m \u001B[38;5;28;01melse\u001B[39;00m:\n\u001B[1;32m--> 850\u001B[0m     \u001B[38;5;28;01mraise\u001B[39;00m CommError(\n\u001B[0;32m    851\u001B[0m         \u001B[38;5;124m\"\u001B[39m\u001B[38;5;124mIt appears that you do not have permission to access the requested resource. \u001B[39m\u001B[38;5;124m\"\u001B[39m\n\u001B[0;32m    852\u001B[0m         \u001B[38;5;124m\"\u001B[39m\u001B[38;5;124mPlease reach out to the project owner to grant you access. \u001B[39m\u001B[38;5;124m\"\u001B[39m\n\u001B[0;32m    853\u001B[0m         \u001B[38;5;124m\"\u001B[39m\u001B[38;5;124mIf you have the correct permissions, verify that there are no issues with your networking setup.\u001B[39m\u001B[38;5;124m\"\u001B[39m\n\u001B[0;32m    854\u001B[0m         \u001B[38;5;124mf\u001B[39m\u001B[38;5;124m\"\u001B[39m\u001B[38;5;124m(Error \u001B[39m\u001B[38;5;132;01m{\u001B[39;00me\u001B[38;5;241m.\u001B[39mresponse\u001B[38;5;241m.\u001B[39mstatus_code\u001B[38;5;132;01m}\u001B[39;00m\u001B[38;5;124m: \u001B[39m\u001B[38;5;132;01m{\u001B[39;00me\u001B[38;5;241m.\u001B[39mresponse\u001B[38;5;241m.\u001B[39mreason\u001B[38;5;132;01m}\u001B[39;00m\u001B[38;5;124m)\u001B[39m\u001B[38;5;124m\"\u001B[39m\n\u001B[0;32m    855\u001B[0m     )\n",
      "\u001B[1;31mCommError\u001B[0m: It appears that you do not have permission to access the requested resource. Please reach out to the project owner to grant you access. If you have the correct permissions, verify that there are no issues with your networking setup.(Error 404: Not Found)"
     ]
    }
   ],
   "source": [
    "import wandb\n",
    "import pandas as pd\n",
    "import math\n",
    "import matplotlib.pyplot as plt\n",
    "import os\n",
    "from matplotlib.lines import Line2D\n",
    "api = wandb.Api()\n",
    "\n",
    "FONT_SIZE = 12\n",
    "\n",
    "metric_name = \"val_loss\"\n",
    "metric_label = \"Validation Loss\"\n",
    "entity = \"janousy\"\n",
    "project = \"fedstellar-fashionmnist-lf-targeted\"\n",
    "# group = \"FASHIONMNIST_1_MLP_Sentinel_fully_ModelPoisoning_0_N50-S0_R80_salt_20230710_084210\"\n",
    "SAVE_PATH = os.path.join(os.getcwd(), \"tmp_figures\")\n",
    "# print(\"Writing figure to: \" + SAVE_PATH)\n",
    "file_name = metric_label\n",
    "\n",
    "isExist = os.path.exists(SAVE_PATH)\n",
    "if not isExist:\n",
    "    os.makedirs(SAVE_PATH)\n",
    "\n",
    "# find p0 with lowest port\n",
    "cm_sentinelglobal = cm_lf_targeted_SentinelGlobal.csv\n"
   ]
  },
  {
   "cell_type": "markdown",
   "source": [],
   "metadata": {
    "collapsed": false
   }
  },
  {
   "cell_type": "code",
   "execution_count": 6,
   "outputs": [
    {
     "ename": "AttributeError",
     "evalue": "'Api' object has no attribute 'download'",
     "output_type": "error",
     "traceback": [
      "\u001B[1;31m---------------------------------------------------------------------------\u001B[0m",
      "\u001B[1;31mAttributeError\u001B[0m                            Traceback (most recent call last)",
      "Cell \u001B[1;32mIn[6], line 3\u001B[0m\n\u001B[0;32m      1\u001B[0m artifact_name \u001B[38;5;241m=\u001B[39m\u001B[38;5;124m\"\u001B[39m\u001B[38;5;124mrun-ya5m0wwp-TestdataConfusionMatrixTable:v0\u001B[39m\u001B[38;5;124m\"\u001B[39m\n\u001B[0;32m      2\u001B[0m \u001B[38;5;28mdir\u001B[39m \u001B[38;5;241m=\u001B[39m \u001B[38;5;124mf\u001B[39m\u001B[38;5;124m'\u001B[39m\u001B[38;5;132;01m{\u001B[39;00mentity\u001B[38;5;132;01m}\u001B[39;00m\u001B[38;5;124m/\u001B[39m\u001B[38;5;132;01m{\u001B[39;00mproject\u001B[38;5;132;01m}\u001B[39;00m\u001B[38;5;124m/\u001B[39m\u001B[38;5;132;01m{\u001B[39;00martifact_name\u001B[38;5;132;01m}\u001B[39;00m\u001B[38;5;124m'\u001B[39m\n\u001B[1;32m----> 3\u001B[0m cm \u001B[38;5;241m=\u001B[39m \u001B[43mapi\u001B[49m\u001B[38;5;241;43m.\u001B[39;49m\u001B[43mdownload\u001B[49m(artifact_name)\n",
      "\u001B[1;31mAttributeError\u001B[0m: 'Api' object has no attribute 'download'"
     ]
    }
   ],
   "source": [
    "artifact_name =\"run-ya5m0wwp-TestdataConfusionMatrixTable:v0\"\n",
    "dir = f'{entity}/{project}/{artifact_name}'\n",
    "cm = api.download(artifact_name)\n"
   ],
   "metadata": {
    "collapsed": false,
    "ExecuteTime": {
     "end_time": "2023-07-17T15:46:25.135739500Z",
     "start_time": "2023-07-17T15:46:25.110161400Z"
    }
   }
  },
  {
   "cell_type": "code",
   "execution_count": 8,
   "outputs": [],
   "source": [
    "# runs = api.runs(f'{entity}/{project}',)\n",
    "addresses = []\n",
    "benign = []\n",
    "malicious = []\n",
    "for run in runs:\n",
    "    print(run.description)\n",
    "    ip = run.config[\"network_args\"]\n",
    "    attack = run.config[\"adversarial_args\"][\"attacks\"]\n",
    "    addresses.append(ip)\n",
    "    if attack == 'No Attack': benign.append(ip)\n",
    "    else: malicious.append(ip)\n",
    "\n",
    "for i, add in enumerate(addresses):\n",
    "    if not \":\" in add:\n",
    "        print(add)\n",
    "        split = add.split(\".\")\n",
    "        ip = split[0:len(split)-1]\n",
    "        ip = (\".\").join(ip)\n",
    "        port = split[-1]\n",
    "        last_ip = port[0:1]\n",
    "        port = port[2:len(port)]\n",
    "        ip = ip + \".\" + last_ip\n",
    "        add_alt = ip + \":\" + port\n",
    "        addresses[i] = add_alt"
   ],
   "metadata": {
    "collapsed": false,
    "ExecuteTime": {
     "end_time": "2023-07-17T12:34:25.655847100Z",
     "start_time": "2023-07-17T12:34:25.634764500Z"
    }
   }
  },
  {
   "cell_type": "code",
   "execution_count": 21,
   "outputs": [
    {
     "name": "stdout",
     "output_type": "stream",
     "text": [
      "192.168.50.84\n",
      "6516\n",
      "192.168.50.84:6516\n"
     ]
    }
   ],
   "source": [
    "split = add.split(\".\")\n",
    "ip = split[0:len(split)-1]\n",
    "ip = (\".\").join(ip)\n",
    "port = split[-1]\n",
    "last_ip = port[0:2]\n",
    "port = port[2:len(port)]\n",
    "ip = ip + \".\" + last_ip\n",
    "add_alt = ip + \":\" + port"
   ],
   "metadata": {
    "collapsed": false,
    "ExecuteTime": {
     "end_time": "2023-07-17T12:43:54.485822800Z",
     "start_time": "2023-07-17T12:43:54.438766600Z"
    }
   }
  },
  {
   "cell_type": "code",
   "execution_count": null,
   "outputs": [],
   "source": [],
   "metadata": {
    "collapsed": false
   }
  }
 ],
 "metadata": {
  "kernelspec": {
   "display_name": "Python 3",
   "language": "python",
   "name": "python3"
  },
  "language_info": {
   "codemirror_mode": {
    "name": "ipython",
    "version": 2
   },
   "file_extension": ".py",
   "mimetype": "text/x-python",
   "name": "python",
   "nbconvert_exporter": "python",
   "pygments_lexer": "ipython2",
   "version": "2.7.6"
  }
 },
 "nbformat": 4,
 "nbformat_minor": 0
}
