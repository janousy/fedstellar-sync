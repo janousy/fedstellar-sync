{
 "cells": [
  {
   "cell_type": "code",
   "execution_count": 44,
   "metadata": {
    "collapsed": true,
    "ExecuteTime": {
     "end_time": "2023-07-06T06:27:50.784618100Z",
     "start_time": "2023-07-06T06:27:50.777845700Z"
    }
   },
   "outputs": [],
   "source": [
    "import pandas as pd\n",
    "import numpy as np"
   ]
  },
  {
   "cell_type": "code",
   "execution_count": 75,
   "outputs": [
    {
     "name": "stdout",
     "output_type": "stream",
     "text": [
      "     0    1    2    3    4    5    6    7    8    9\n",
      "0  204    1    0    0    0    0    1    0    0    0\n",
      "1    0  228    0    0    0    0    0    0    0    0\n",
      "2    3    1  188    1    0    0    0    1    2    0\n",
      "3    0    0    0  205    0    0    0    0    0    0\n",
      "4    1    1    0    0  189    0    0    0    0    1\n",
      "5    1    0    0    1    0  163    1    0    1    0\n",
      "6    0    0    0    1    0    0  198    0    1    0\n",
      "7    0    0    4    0    0    0    0  210    0    0\n",
      "8    1    0    0    0    0    1    2    0  182    0\n",
      "9    0    0    0    0    1    0    0    0    0  189\n",
      "-------------\n",
      "3\n",
      "1779\n",
      "0.0016863406408094434\n"
     ]
    }
   ],
   "source": [
    "cm = pd.read_csv(\"confmat_benign.csv\")\n",
    "print(cm)\n",
    "\n",
    "target_label = 3\n",
    "num_predicted_target = cm.sum(axis=0)[3] - cm.iat[3,3]\n",
    "num_samples = cm.to_numpy().sum() - cm.iat[3,3]\n",
    "print(\"-------------\")\n",
    "print(num_predicted_target)\n",
    "print(num_samples)\n",
    "\n",
    "print(num_predicted_target / num_samples)"
   ],
   "metadata": {
    "collapsed": false,
    "ExecuteTime": {
     "end_time": "2023-07-06T11:07:59.260142800Z",
     "start_time": "2023-07-06T11:07:59.239386200Z"
    }
   }
  },
  {
   "cell_type": "code",
   "execution_count": 64,
   "outputs": [
    {
     "name": "stdout",
     "output_type": "stream",
     "text": [
      "    0  1   2    3   4   5   6   7  8  9\n",
      "0  42  0   0  165   0   0   0   0  0  0\n",
      "1   0  0   0  230   0   0   0   0  0  0\n",
      "2   0  0  11  187   0   0   0   0  0  0\n",
      "3   0  0   0  207   0   0   0   0  0  0\n",
      "4   0  0   0  180  14   0   0   0  0  0\n",
      "5   0  0   0  151   0  18   0   0  0  0\n",
      "6   0  0   0  157   0   0  45   0  0  0\n",
      "7   0  0   0  200   0   0   0  15  0  0\n",
      "8   0  0   0  187   0   0   0   0  0  0\n",
      "9   0  0   0  191   0   0   0   0  0  0\n",
      "-------------\n",
      "1648\n",
      "1793\n",
      "0.9191299498047965\n"
     ]
    }
   ],
   "source": [
    "cm = pd.read_csv(\"confmat_malicious.csv\")\n",
    "print(cm)\n",
    "\n",
    "target_label = 3\n",
    "num_predicted_target = cm.sum(axis=0)[3] - cm.iat[3,3]\n",
    "num_samples = cm.to_numpy().sum() - cm.iat[3,3]\n",
    "print(\"-------------\")\n",
    "print(num_predicted_target)\n",
    "print(num_samples)\n",
    "\n",
    "print(num_predicted_target / num_samples)"
   ],
   "metadata": {
    "collapsed": false,
    "ExecuteTime": {
     "end_time": "2023-07-06T06:32:45.722512900Z",
     "start_time": "2023-07-06T06:32:45.707233700Z"
    }
   }
  },
  {
   "cell_type": "code",
   "execution_count": 69,
   "outputs": [
    {
     "name": "stdout",
     "output_type": "stream",
     "text": [
      "     0    1    2      3    4    5    6    7    8    9\n",
      "0  0.0  0.0  0.0  100.0  0.0  0.0  0.0  0.0  0.0  0.0\n",
      "1  0.0  0.0  0.0  100.0  0.0  0.0  0.0  0.0  0.0  0.0\n",
      "2  0.0  0.0  0.0  100.0  0.0  0.0  0.0  0.0  0.0  0.0\n",
      "3  0.0  0.0  0.0  100.0  0.0  0.0  0.0  0.0  0.0  0.0\n",
      "4  0.0  0.0  0.0  100.0  0.0  0.0  0.0  0.0  0.0  0.0\n",
      "5  0.0  0.0  0.0  100.0  0.0  0.0  0.0  0.0  0.0  0.0\n",
      "6  0.0  0.0  0.0  100.0  0.0  0.0  0.0  0.0  0.0  0.0\n",
      "7  0.0  0.0  0.0  100.0  0.0  0.0  0.0  0.0  0.0  0.0\n",
      "8  0.0  0.0  0.0  100.0  0.0  0.0  0.0  0.0  0.0  0.0\n",
      "9  0.0  0.0  0.0  100.0  0.0  0.0  0.0  0.0  0.0  0.0\n",
      "-------------\n",
      "900.0\n",
      "900.0\n",
      "1.0\n"
     ]
    }
   ],
   "source": [
    "cm = np.zeros((10, 10))\n",
    "cm[:, 3] =  100\n",
    "cm = pd.DataFrame(cm)\n",
    "\n",
    "print(cm)\n",
    "\n",
    "target_label = 3\n",
    "num_predicted_target = cm.sum(axis=0)[3] - cm.iat[3,3]\n",
    "num_samples = cm.to_numpy().sum() - cm.iat[3,3]\n",
    "print(\"-------------\")\n",
    "print(num_predicted_target)\n",
    "print(num_samples)\n",
    "\n",
    "print(num_predicted_target / num_samples)"
   ],
   "metadata": {
    "collapsed": false,
    "ExecuteTime": {
     "end_time": "2023-07-06T10:36:10.818315200Z",
     "start_time": "2023-07-06T10:36:10.801998900Z"
    }
   }
  },
  {
   "cell_type": "code",
   "execution_count": 76,
   "outputs": [
    {
     "name": "stdout",
     "output_type": "stream",
     "text": [
      "       0      1      2      3      4      5      6      7      8      9\n",
      "0  100.0    0.0    0.0    0.0    0.0    0.0    0.0    0.0    0.0    0.0\n",
      "1    0.0  100.0    0.0    0.0    0.0    0.0    0.0    0.0    0.0    0.0\n",
      "2    0.0    0.0  100.0    0.0    0.0    0.0    0.0    0.0    0.0    0.0\n",
      "3    0.0    0.0    0.0  100.0    0.0    0.0    0.0    0.0    0.0    0.0\n",
      "4    0.0    0.0    0.0    0.0  100.0    0.0    0.0    0.0    0.0    0.0\n",
      "5    0.0    0.0    0.0    0.0    0.0  100.0    0.0    0.0    0.0    0.0\n",
      "6    0.0    0.0    0.0    0.0    0.0    0.0  100.0    0.0    0.0    0.0\n",
      "7    0.0    0.0    0.0    0.0    0.0    0.0    0.0  100.0    0.0    0.0\n",
      "8    0.0    0.0    0.0    0.0    0.0    0.0    0.0    0.0  100.0    0.0\n",
      "9    0.0    0.0    0.0    0.0    0.0    0.0    0.0    0.0    0.0  100.0\n",
      "-------------\n",
      "0.0\n",
      "900.0\n",
      "0.0\n"
     ]
    }
   ],
   "source": [
    "cm = np.zeros((10, 10))\n",
    "for i in range(10):\n",
    "    cm[i, i] =  100\n",
    "cm = pd.DataFrame(cm)\n",
    "\n",
    "print(cm)\n",
    "\n",
    "target_label = 3\n",
    "num_predicted_target = cm.sum(axis=0)[3] - cm.iat[3,3]\n",
    "num_samples = cm.to_numpy().sum() - cm.iat[3,3]\n",
    "# num_predicted_target = cm.sum(axis=0)[3]\n",
    "# cm.to_numpy().sum()\n",
    "\n",
    "print(\"-------------\")\n",
    "print(num_predicted_target)\n",
    "print(num_samples)\n",
    "\n",
    "print(num_predicted_target / num_samples)"
   ],
   "metadata": {
    "collapsed": false,
    "ExecuteTime": {
     "end_time": "2023-07-06T11:09:46.459648300Z",
     "start_time": "2023-07-06T11:09:46.444389800Z"
    }
   }
  },
  {
   "cell_type": "code",
   "execution_count": null,
   "outputs": [],
   "source": [
    "num_target_changed_predicted = confmat[target_label][target_changed_label]\n",
    "num_target_samples = confmat.sum(axis=1)[target_label]\n",
    "attacker_success = num_target_changed_predicted / num_target_samples\n",
    "self.logger.log_metrics({\"Test/ASR-targeted\": attacker_success}, step=self.logger.local_step)\n",
    "logging.info(\"Computed ASR Test: {}\".format(attacker_success))"
   ],
   "metadata": {
    "collapsed": false
   }
  }
 ],
 "metadata": {
  "kernelspec": {
   "display_name": "Python 3",
   "language": "python",
   "name": "python3"
  },
  "language_info": {
   "codemirror_mode": {
    "name": "ipython",
    "version": 2
   },
   "file_extension": ".py",
   "mimetype": "text/x-python",
   "name": "python",
   "nbconvert_exporter": "python",
   "pygments_lexer": "ipython2",
   "version": "2.7.6"
  }
 },
 "nbformat": 4,
 "nbformat_minor": 0
}
