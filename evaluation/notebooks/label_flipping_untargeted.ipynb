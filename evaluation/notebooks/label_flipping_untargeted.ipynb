{
 "cells": [
  {
   "cell_type": "code",
   "execution_count": null,
   "outputs": [],
   "source": [
    "# !pip install dataframe_image"
   ],
   "metadata": {
    "collapsed": false
   }
  },
  {
   "cell_type": "code",
   "execution_count": 1,
   "outputs": [],
   "source": [
    "import pandas as pd\n",
    "from scripts import helper\n",
    "import matplotlib.pyplot as plt\n",
    "import dataframe_image as dfi\n",
    "import numpy as np\n",
    "\n",
    "pd.set_option('display.max_columns', None)"
   ],
   "metadata": {
    "collapsed": false,
    "ExecuteTime": {
     "end_time": "2023-06-18T19:57:56.610864200Z",
     "start_time": "2023-06-18T19:57:55.331145100Z"
    }
   }
  },
  {
   "cell_type": "code",
   "execution_count": 2,
   "outputs": [],
   "source": [
    "def highlight_max(s):\n",
    "    is_max = s == s.max()\n",
    "    return ['background-color: yellow' if v else '' for v in is_max]"
   ],
   "metadata": {
    "collapsed": false,
    "ExecuteTime": {
     "end_time": "2023-06-18T19:57:56.626125500Z",
     "start_time": "2023-06-18T19:57:56.610864200Z"
    }
   }
  },
  {
   "cell_type": "code",
   "execution_count": 3,
   "outputs": [],
   "source": [
    "mnist_lf_unt = pd.read_csv('wandb_export_2023-06-14_lf_untargeted.csv')"
   ],
   "metadata": {
    "collapsed": false,
    "ExecuteTime": {
     "end_time": "2023-06-18T19:57:56.660841300Z",
     "start_time": "2023-06-18T19:57:56.630634900Z"
    }
   }
  },
  {
   "cell_type": "code",
   "execution_count": 4,
   "outputs": [
    {
     "name": "stdout",
     "output_type": "stream",
     "text": [
      "[ 30  50 100]\n",
      "[10 50 80]\n"
     ]
    }
   ],
   "source": [
    "# Fix missing attack_env\n",
    "mnist_lf_unt['adversarial_args.attack_env.poisoned_sample_percent'] = mnist_lf_unt['Group'].str.extract(r'-S(.*)_R')\n",
    "mnist_lf_unt['adversarial_args.attack_env.poisoned_sample_percent'].unique()\n",
    "mnist_lf_unt = mnist_lf_unt.astype({'adversarial_args.attack_env.poisoned_sample_percent': 'int64'})\n",
    "# Sanity check\n",
    "print(mnist_lf_unt[\"adversarial_args.attack_env.poisoned_sample_percent\"].unique())\n",
    "print(mnist_lf_unt[\"adversarial_args.attack_env.poisoned_node_percent\"].unique())"
   ],
   "metadata": {
    "collapsed": false,
    "ExecuteTime": {
     "end_time": "2023-06-18T19:57:57.611036Z",
     "start_time": "2023-06-18T19:57:57.551198300Z"
    }
   }
  },
  {
   "cell_type": "code",
   "execution_count": 27,
   "outputs": [
    {
     "data": {
      "text/plain": "   aggregator_args.algorithm adversarial_args.attack_env.attack  \\\n                                                                  \n0                     FedAvg                     Label Flipping   \n1                     FedAvg                     Label Flipping   \n2                     FedAvg                     Label Flipping   \n3                     FedAvg                     Label Flipping   \n4                     FedAvg                     Label Flipping   \n5                     FedAvg                     Label Flipping   \n6                     FedAvg                     Label Flipping   \n7                     FedAvg                     Label Flipping   \n8                     FedAvg                     Label Flipping   \n9                    FlTrust                     Label Flipping   \n10                   FlTrust                     Label Flipping   \n11                   FlTrust                     Label Flipping   \n12                   FlTrust                     Label Flipping   \n13                   FlTrust                     Label Flipping   \n14                   FlTrust                     Label Flipping   \n15                   FlTrust                     Label Flipping   \n16                   FlTrust                     Label Flipping   \n17                   FlTrust                     Label Flipping   \n18                      Krum                     Label Flipping   \n19                      Krum                     Label Flipping   \n20                      Krum                     Label Flipping   \n21                      Krum                     Label Flipping   \n22                      Krum                     Label Flipping   \n23                      Krum                     Label Flipping   \n24                      Krum                     Label Flipping   \n25                      Krum                     Label Flipping   \n26                      Krum                     Label Flipping   \n27                  Sentinel                     Label Flipping   \n28                  Sentinel                     Label Flipping   \n29                  Sentinel                     Label Flipping   \n30                  Sentinel                     Label Flipping   \n31                  Sentinel                     Label Flipping   \n32                  Sentinel                     Label Flipping   \n33                  Sentinel                     Label Flipping   \n34                  Sentinel                     Label Flipping   \n35                  Sentinel                     Label Flipping   \n36               TrimmedMean                     Label Flipping   \n37               TrimmedMean                     Label Flipping   \n38               TrimmedMean                     Label Flipping   \n39               TrimmedMean                     Label Flipping   \n40               TrimmedMean                     Label Flipping   \n41               TrimmedMean                     Label Flipping   \n42               TrimmedMean                     Label Flipping   \n43               TrimmedMean                     Label Flipping   \n44               TrimmedMean                     Label Flipping   \n\n   adversarial_args.attack_env.poisoned_node_percent  \\\n                                                       \n0                                                 10   \n1                                                 10   \n2                                                 10   \n3                                                 50   \n4                                                 50   \n5                                                 50   \n6                                                 80   \n7                                                 80   \n8                                                 80   \n9                                                 10   \n10                                                10   \n11                                                10   \n12                                                50   \n13                                                50   \n14                                                50   \n15                                                80   \n16                                                80   \n17                                                80   \n18                                                10   \n19                                                10   \n20                                                10   \n21                                                50   \n22                                                50   \n23                                                50   \n24                                                80   \n25                                                80   \n26                                                80   \n27                                                10   \n28                                                10   \n29                                                10   \n30                                                50   \n31                                                50   \n32                                                50   \n33                                                80   \n34                                                80   \n35                                                80   \n36                                                10   \n37                                                10   \n38                                                10   \n39                                                50   \n40                                                50   \n41                                                50   \n42                                                80   \n43                                                80   \n44                                                80   \n\n   adversarial_args.attack_env.poisoned_sample_percent         mean  \\\n                                                       Test/F1Score   \n0                                                  30      0.954829   \n1                                                  50      0.950430   \n2                                                 100      0.953764   \n3                                                  30      0.948337   \n4                                                  50      0.947347   \n5                                                 100      0.860022   \n6                                                  30      0.923028   \n7                                                  50      0.902630   \n8                                                 100      0.038232   \n9                                                  30      0.906115   \n10                                                 50      0.912504   \n11                                                100      0.911289   \n12                                                 30      0.869992   \n13                                                 50      0.832675   \n14                                                100      0.516400   \n15                                                 30      0.604557   \n16                                                 50      0.441452   \n17                                                100      0.054334   \n18                                                 30      0.934473   \n19                                                 50      0.934826   \n20                                                100      0.926513   \n21                                                 30      0.949704   \n22                                                 50      0.936512   \n23                                                100      0.906773   \n24                                                 30      0.957719   \n25                                                 50      0.839455   \n26                                                100      0.001471   \n27                                                 30      0.956336   \n28                                                 50      0.956465   \n29                                                100      0.952044   \n30                                                 30      0.950644   \n31                                                 50      0.944992   \n32                                                100      0.954307   \n33                                                 30      0.953668   \n34                                                 50      0.921161   \n35                                                100      0.946253   \n36                                                 30      0.949602   \n37                                                 50      0.952404   \n38                                                100      0.948034   \n39                                                 30      0.970341   \n40                                                 50      0.956882   \n41                                                100      0.772362   \n42                                                 30      0.947220   \n43                                                 50      0.922005   \n44                                                100      0.024926   \n\n            std  \n   Test/F1Score  \n0      0.027438  \n1      0.028073  \n2      0.026557  \n3      0.030843  \n4      0.038274  \n5      0.042343  \n6      0.035246  \n7      0.011685  \n8      0.004945  \n9      0.038667  \n10     0.039319  \n11     0.040610  \n12     0.028436  \n13     0.023528  \n14     0.014962  \n15     0.006028  \n16     0.011073  \n17     0.006598  \n18     0.028737  \n19     0.031655  \n20     0.033225  \n21     0.035171  \n22     0.029075  \n23     0.041801  \n24     0.014250  \n25     0.011733  \n26     0.001251  \n27     0.025342  \n28     0.022741  \n29     0.029171  \n30     0.031834  \n31     0.032882  \n32     0.035591  \n33     0.012968  \n34     0.013915  \n35     0.031787  \n36     0.024608  \n37     0.028295  \n38     0.025610  \n39     0.014898  \n40     0.019210  \n41     0.023156  \n42     0.040909  \n43     0.045618  \n44     0.018559  ",
      "text/html": "<div>\n<style scoped>\n    .dataframe tbody tr th:only-of-type {\n        vertical-align: middle;\n    }\n\n    .dataframe tbody tr th {\n        vertical-align: top;\n    }\n\n    .dataframe thead tr th {\n        text-align: left;\n    }\n</style>\n<table border=\"1\" class=\"dataframe\">\n  <thead>\n    <tr>\n      <th></th>\n      <th>aggregator_args.algorithm</th>\n      <th>adversarial_args.attack_env.attack</th>\n      <th>adversarial_args.attack_env.poisoned_node_percent</th>\n      <th>adversarial_args.attack_env.poisoned_sample_percent</th>\n      <th>mean</th>\n      <th>std</th>\n    </tr>\n    <tr>\n      <th></th>\n      <th></th>\n      <th></th>\n      <th></th>\n      <th></th>\n      <th>Test/F1Score</th>\n      <th>Test/F1Score</th>\n    </tr>\n  </thead>\n  <tbody>\n    <tr>\n      <th>0</th>\n      <td>FedAvg</td>\n      <td>Label Flipping</td>\n      <td>10</td>\n      <td>30</td>\n      <td>0.954829</td>\n      <td>0.027438</td>\n    </tr>\n    <tr>\n      <th>1</th>\n      <td>FedAvg</td>\n      <td>Label Flipping</td>\n      <td>10</td>\n      <td>50</td>\n      <td>0.950430</td>\n      <td>0.028073</td>\n    </tr>\n    <tr>\n      <th>2</th>\n      <td>FedAvg</td>\n      <td>Label Flipping</td>\n      <td>10</td>\n      <td>100</td>\n      <td>0.953764</td>\n      <td>0.026557</td>\n    </tr>\n    <tr>\n      <th>3</th>\n      <td>FedAvg</td>\n      <td>Label Flipping</td>\n      <td>50</td>\n      <td>30</td>\n      <td>0.948337</td>\n      <td>0.030843</td>\n    </tr>\n    <tr>\n      <th>4</th>\n      <td>FedAvg</td>\n      <td>Label Flipping</td>\n      <td>50</td>\n      <td>50</td>\n      <td>0.947347</td>\n      <td>0.038274</td>\n    </tr>\n    <tr>\n      <th>5</th>\n      <td>FedAvg</td>\n      <td>Label Flipping</td>\n      <td>50</td>\n      <td>100</td>\n      <td>0.860022</td>\n      <td>0.042343</td>\n    </tr>\n    <tr>\n      <th>6</th>\n      <td>FedAvg</td>\n      <td>Label Flipping</td>\n      <td>80</td>\n      <td>30</td>\n      <td>0.923028</td>\n      <td>0.035246</td>\n    </tr>\n    <tr>\n      <th>7</th>\n      <td>FedAvg</td>\n      <td>Label Flipping</td>\n      <td>80</td>\n      <td>50</td>\n      <td>0.902630</td>\n      <td>0.011685</td>\n    </tr>\n    <tr>\n      <th>8</th>\n      <td>FedAvg</td>\n      <td>Label Flipping</td>\n      <td>80</td>\n      <td>100</td>\n      <td>0.038232</td>\n      <td>0.004945</td>\n    </tr>\n    <tr>\n      <th>9</th>\n      <td>FlTrust</td>\n      <td>Label Flipping</td>\n      <td>10</td>\n      <td>30</td>\n      <td>0.906115</td>\n      <td>0.038667</td>\n    </tr>\n    <tr>\n      <th>10</th>\n      <td>FlTrust</td>\n      <td>Label Flipping</td>\n      <td>10</td>\n      <td>50</td>\n      <td>0.912504</td>\n      <td>0.039319</td>\n    </tr>\n    <tr>\n      <th>11</th>\n      <td>FlTrust</td>\n      <td>Label Flipping</td>\n      <td>10</td>\n      <td>100</td>\n      <td>0.911289</td>\n      <td>0.040610</td>\n    </tr>\n    <tr>\n      <th>12</th>\n      <td>FlTrust</td>\n      <td>Label Flipping</td>\n      <td>50</td>\n      <td>30</td>\n      <td>0.869992</td>\n      <td>0.028436</td>\n    </tr>\n    <tr>\n      <th>13</th>\n      <td>FlTrust</td>\n      <td>Label Flipping</td>\n      <td>50</td>\n      <td>50</td>\n      <td>0.832675</td>\n      <td>0.023528</td>\n    </tr>\n    <tr>\n      <th>14</th>\n      <td>FlTrust</td>\n      <td>Label Flipping</td>\n      <td>50</td>\n      <td>100</td>\n      <td>0.516400</td>\n      <td>0.014962</td>\n    </tr>\n    <tr>\n      <th>15</th>\n      <td>FlTrust</td>\n      <td>Label Flipping</td>\n      <td>80</td>\n      <td>30</td>\n      <td>0.604557</td>\n      <td>0.006028</td>\n    </tr>\n    <tr>\n      <th>16</th>\n      <td>FlTrust</td>\n      <td>Label Flipping</td>\n      <td>80</td>\n      <td>50</td>\n      <td>0.441452</td>\n      <td>0.011073</td>\n    </tr>\n    <tr>\n      <th>17</th>\n      <td>FlTrust</td>\n      <td>Label Flipping</td>\n      <td>80</td>\n      <td>100</td>\n      <td>0.054334</td>\n      <td>0.006598</td>\n    </tr>\n    <tr>\n      <th>18</th>\n      <td>Krum</td>\n      <td>Label Flipping</td>\n      <td>10</td>\n      <td>30</td>\n      <td>0.934473</td>\n      <td>0.028737</td>\n    </tr>\n    <tr>\n      <th>19</th>\n      <td>Krum</td>\n      <td>Label Flipping</td>\n      <td>10</td>\n      <td>50</td>\n      <td>0.934826</td>\n      <td>0.031655</td>\n    </tr>\n    <tr>\n      <th>20</th>\n      <td>Krum</td>\n      <td>Label Flipping</td>\n      <td>10</td>\n      <td>100</td>\n      <td>0.926513</td>\n      <td>0.033225</td>\n    </tr>\n    <tr>\n      <th>21</th>\n      <td>Krum</td>\n      <td>Label Flipping</td>\n      <td>50</td>\n      <td>30</td>\n      <td>0.949704</td>\n      <td>0.035171</td>\n    </tr>\n    <tr>\n      <th>22</th>\n      <td>Krum</td>\n      <td>Label Flipping</td>\n      <td>50</td>\n      <td>50</td>\n      <td>0.936512</td>\n      <td>0.029075</td>\n    </tr>\n    <tr>\n      <th>23</th>\n      <td>Krum</td>\n      <td>Label Flipping</td>\n      <td>50</td>\n      <td>100</td>\n      <td>0.906773</td>\n      <td>0.041801</td>\n    </tr>\n    <tr>\n      <th>24</th>\n      <td>Krum</td>\n      <td>Label Flipping</td>\n      <td>80</td>\n      <td>30</td>\n      <td>0.957719</td>\n      <td>0.014250</td>\n    </tr>\n    <tr>\n      <th>25</th>\n      <td>Krum</td>\n      <td>Label Flipping</td>\n      <td>80</td>\n      <td>50</td>\n      <td>0.839455</td>\n      <td>0.011733</td>\n    </tr>\n    <tr>\n      <th>26</th>\n      <td>Krum</td>\n      <td>Label Flipping</td>\n      <td>80</td>\n      <td>100</td>\n      <td>0.001471</td>\n      <td>0.001251</td>\n    </tr>\n    <tr>\n      <th>27</th>\n      <td>Sentinel</td>\n      <td>Label Flipping</td>\n      <td>10</td>\n      <td>30</td>\n      <td>0.956336</td>\n      <td>0.025342</td>\n    </tr>\n    <tr>\n      <th>28</th>\n      <td>Sentinel</td>\n      <td>Label Flipping</td>\n      <td>10</td>\n      <td>50</td>\n      <td>0.956465</td>\n      <td>0.022741</td>\n    </tr>\n    <tr>\n      <th>29</th>\n      <td>Sentinel</td>\n      <td>Label Flipping</td>\n      <td>10</td>\n      <td>100</td>\n      <td>0.952044</td>\n      <td>0.029171</td>\n    </tr>\n    <tr>\n      <th>30</th>\n      <td>Sentinel</td>\n      <td>Label Flipping</td>\n      <td>50</td>\n      <td>30</td>\n      <td>0.950644</td>\n      <td>0.031834</td>\n    </tr>\n    <tr>\n      <th>31</th>\n      <td>Sentinel</td>\n      <td>Label Flipping</td>\n      <td>50</td>\n      <td>50</td>\n      <td>0.944992</td>\n      <td>0.032882</td>\n    </tr>\n    <tr>\n      <th>32</th>\n      <td>Sentinel</td>\n      <td>Label Flipping</td>\n      <td>50</td>\n      <td>100</td>\n      <td>0.954307</td>\n      <td>0.035591</td>\n    </tr>\n    <tr>\n      <th>33</th>\n      <td>Sentinel</td>\n      <td>Label Flipping</td>\n      <td>80</td>\n      <td>30</td>\n      <td>0.953668</td>\n      <td>0.012968</td>\n    </tr>\n    <tr>\n      <th>34</th>\n      <td>Sentinel</td>\n      <td>Label Flipping</td>\n      <td>80</td>\n      <td>50</td>\n      <td>0.921161</td>\n      <td>0.013915</td>\n    </tr>\n    <tr>\n      <th>35</th>\n      <td>Sentinel</td>\n      <td>Label Flipping</td>\n      <td>80</td>\n      <td>100</td>\n      <td>0.946253</td>\n      <td>0.031787</td>\n    </tr>\n    <tr>\n      <th>36</th>\n      <td>TrimmedMean</td>\n      <td>Label Flipping</td>\n      <td>10</td>\n      <td>30</td>\n      <td>0.949602</td>\n      <td>0.024608</td>\n    </tr>\n    <tr>\n      <th>37</th>\n      <td>TrimmedMean</td>\n      <td>Label Flipping</td>\n      <td>10</td>\n      <td>50</td>\n      <td>0.952404</td>\n      <td>0.028295</td>\n    </tr>\n    <tr>\n      <th>38</th>\n      <td>TrimmedMean</td>\n      <td>Label Flipping</td>\n      <td>10</td>\n      <td>100</td>\n      <td>0.948034</td>\n      <td>0.025610</td>\n    </tr>\n    <tr>\n      <th>39</th>\n      <td>TrimmedMean</td>\n      <td>Label Flipping</td>\n      <td>50</td>\n      <td>30</td>\n      <td>0.970341</td>\n      <td>0.014898</td>\n    </tr>\n    <tr>\n      <th>40</th>\n      <td>TrimmedMean</td>\n      <td>Label Flipping</td>\n      <td>50</td>\n      <td>50</td>\n      <td>0.956882</td>\n      <td>0.019210</td>\n    </tr>\n    <tr>\n      <th>41</th>\n      <td>TrimmedMean</td>\n      <td>Label Flipping</td>\n      <td>50</td>\n      <td>100</td>\n      <td>0.772362</td>\n      <td>0.023156</td>\n    </tr>\n    <tr>\n      <th>42</th>\n      <td>TrimmedMean</td>\n      <td>Label Flipping</td>\n      <td>80</td>\n      <td>30</td>\n      <td>0.947220</td>\n      <td>0.040909</td>\n    </tr>\n    <tr>\n      <th>43</th>\n      <td>TrimmedMean</td>\n      <td>Label Flipping</td>\n      <td>80</td>\n      <td>50</td>\n      <td>0.922005</td>\n      <td>0.045618</td>\n    </tr>\n    <tr>\n      <th>44</th>\n      <td>TrimmedMean</td>\n      <td>Label Flipping</td>\n      <td>80</td>\n      <td>100</td>\n      <td>0.024926</td>\n      <td>0.018559</td>\n    </tr>\n  </tbody>\n</table>\n</div>"
     },
     "execution_count": 27,
     "metadata": {},
     "output_type": "execute_result"
    }
   ],
   "source": [
    "benign = mnist_lf_unt[mnist_lf_unt['adversarial_args.attacks'] == 'No Attack']\n",
    "\n",
    "mean_benign = pd.pivot_table(benign, index=[\"aggregator_args.algorithm\",\n",
    "                                         \"adversarial_args.attack_env.attack\",\n",
    "                                         \"adversarial_args.attack_env.poisoned_node_percent\",\n",
    "                                         \"adversarial_args.attack_env.poisoned_sample_percent\",],\n",
    "                          values=[\"Test/F1Score\"], aggfunc = ['mean', 'std'], dropna=False)\n",
    "mean_benign = mean_benign.reset_index()\n",
    "mean_benign\n",
    "# mean_benign.columns = mean_benign.columns.map(str.replace(\"\\n\", \"_\"))"
   ],
   "metadata": {
    "collapsed": false,
    "ExecuteTime": {
     "end_time": "2023-06-18T20:17:13.972438700Z",
     "start_time": "2023-06-18T20:17:13.916344200Z"
    }
   }
  },
  {
   "cell_type": "code",
   "execution_count": null,
   "outputs": [],
   "source": [
    "# Sanity check\n",
    "num_attack_configs = len(mean_benign.index)\n",
    "assert num_attack_configs == 45"
   ],
   "metadata": {
    "collapsed": false
   }
  },
  {
   "cell_type": "markdown",
   "source": [],
   "metadata": {
    "collapsed": false
   }
  },
  {
   "cell_type": "code",
   "execution_count": 31,
   "outputs": [
    {
     "data": {
      "text/plain": "<pandas.io.formats.style.Styler at 0x1f568031030>",
      "text/html": "<style type=\"text/css\">\n#T_dddc5_row0_col2, #T_dddc5_row2_col6, #T_dddc5_row3_col0, #T_dddc5_row3_col1, #T_dddc5_row3_col5, #T_dddc5_row3_col8, #T_dddc5_row4_col3, #T_dddc5_row4_col4, #T_dddc5_row4_col7 {\n  background-color: yellow;\n}\n</style>\n<table id=\"T_dddc5\">\n  <caption>Label Flipping Untargeted: F1 Score</caption>\n  <thead>\n    <tr>\n      <th class=\"blank level0\" >&nbsp;</th>\n      <th id=\"T_dddc5_level0_col0\" class=\"col_heading level0 col0\" colspan=\"9\">Avg. benign</th>\n    </tr>\n    <tr>\n      <th class=\"index_name level1\" >adversarial_args.attack_env.poisoned_node_percent</th>\n      <th id=\"T_dddc5_level1_col0\" class=\"col_heading level1 col0\" colspan=\"3\">10</th>\n      <th id=\"T_dddc5_level1_col3\" class=\"col_heading level1 col3\" colspan=\"3\">50</th>\n      <th id=\"T_dddc5_level1_col6\" class=\"col_heading level1 col6\" colspan=\"3\">80</th>\n    </tr>\n    <tr>\n      <th class=\"index_name level2\" >adversarial_args.attack_env.poisoned_sample_percent</th>\n      <th id=\"T_dddc5_level2_col0\" class=\"col_heading level2 col0\" >30</th>\n      <th id=\"T_dddc5_level2_col1\" class=\"col_heading level2 col1\" >50</th>\n      <th id=\"T_dddc5_level2_col2\" class=\"col_heading level2 col2\" >100</th>\n      <th id=\"T_dddc5_level2_col3\" class=\"col_heading level2 col3\" >30</th>\n      <th id=\"T_dddc5_level2_col4\" class=\"col_heading level2 col4\" >50</th>\n      <th id=\"T_dddc5_level2_col5\" class=\"col_heading level2 col5\" >100</th>\n      <th id=\"T_dddc5_level2_col6\" class=\"col_heading level2 col6\" >30</th>\n      <th id=\"T_dddc5_level2_col7\" class=\"col_heading level2 col7\" >50</th>\n      <th id=\"T_dddc5_level2_col8\" class=\"col_heading level2 col8\" >100</th>\n    </tr>\n    <tr>\n      <th class=\"index_name level0\" >aggregator_args.algorithm</th>\n      <th class=\"blank col0\" >&nbsp;</th>\n      <th class=\"blank col1\" >&nbsp;</th>\n      <th class=\"blank col2\" >&nbsp;</th>\n      <th class=\"blank col3\" >&nbsp;</th>\n      <th class=\"blank col4\" >&nbsp;</th>\n      <th class=\"blank col5\" >&nbsp;</th>\n      <th class=\"blank col6\" >&nbsp;</th>\n      <th class=\"blank col7\" >&nbsp;</th>\n      <th class=\"blank col8\" >&nbsp;</th>\n    </tr>\n  </thead>\n  <tbody>\n    <tr>\n      <th id=\"T_dddc5_level0_row0\" class=\"row_heading level0 row0\" >FedAvg</th>\n      <td id=\"T_dddc5_row0_col0\" class=\"data row0 col0\" >0.954829</td>\n      <td id=\"T_dddc5_row0_col1\" class=\"data row0 col1\" >0.950430</td>\n      <td id=\"T_dddc5_row0_col2\" class=\"data row0 col2\" >0.953764</td>\n      <td id=\"T_dddc5_row0_col3\" class=\"data row0 col3\" >0.948337</td>\n      <td id=\"T_dddc5_row0_col4\" class=\"data row0 col4\" >0.947347</td>\n      <td id=\"T_dddc5_row0_col5\" class=\"data row0 col5\" >0.860022</td>\n      <td id=\"T_dddc5_row0_col6\" class=\"data row0 col6\" >0.923028</td>\n      <td id=\"T_dddc5_row0_col7\" class=\"data row0 col7\" >0.902630</td>\n      <td id=\"T_dddc5_row0_col8\" class=\"data row0 col8\" >0.038232</td>\n    </tr>\n    <tr>\n      <th id=\"T_dddc5_level0_row1\" class=\"row_heading level0 row1\" >FlTrust</th>\n      <td id=\"T_dddc5_row1_col0\" class=\"data row1 col0\" >0.906115</td>\n      <td id=\"T_dddc5_row1_col1\" class=\"data row1 col1\" >0.912504</td>\n      <td id=\"T_dddc5_row1_col2\" class=\"data row1 col2\" >0.911289</td>\n      <td id=\"T_dddc5_row1_col3\" class=\"data row1 col3\" >0.869992</td>\n      <td id=\"T_dddc5_row1_col4\" class=\"data row1 col4\" >0.832675</td>\n      <td id=\"T_dddc5_row1_col5\" class=\"data row1 col5\" >0.516400</td>\n      <td id=\"T_dddc5_row1_col6\" class=\"data row1 col6\" >0.604557</td>\n      <td id=\"T_dddc5_row1_col7\" class=\"data row1 col7\" >0.441452</td>\n      <td id=\"T_dddc5_row1_col8\" class=\"data row1 col8\" >0.054334</td>\n    </tr>\n    <tr>\n      <th id=\"T_dddc5_level0_row2\" class=\"row_heading level0 row2\" >Krum</th>\n      <td id=\"T_dddc5_row2_col0\" class=\"data row2 col0\" >0.934473</td>\n      <td id=\"T_dddc5_row2_col1\" class=\"data row2 col1\" >0.934826</td>\n      <td id=\"T_dddc5_row2_col2\" class=\"data row2 col2\" >0.926513</td>\n      <td id=\"T_dddc5_row2_col3\" class=\"data row2 col3\" >0.949704</td>\n      <td id=\"T_dddc5_row2_col4\" class=\"data row2 col4\" >0.936512</td>\n      <td id=\"T_dddc5_row2_col5\" class=\"data row2 col5\" >0.906773</td>\n      <td id=\"T_dddc5_row2_col6\" class=\"data row2 col6\" >0.957719</td>\n      <td id=\"T_dddc5_row2_col7\" class=\"data row2 col7\" >0.839455</td>\n      <td id=\"T_dddc5_row2_col8\" class=\"data row2 col8\" >0.001471</td>\n    </tr>\n    <tr>\n      <th id=\"T_dddc5_level0_row3\" class=\"row_heading level0 row3\" >Sentinel</th>\n      <td id=\"T_dddc5_row3_col0\" class=\"data row3 col0\" >0.956336</td>\n      <td id=\"T_dddc5_row3_col1\" class=\"data row3 col1\" >0.956465</td>\n      <td id=\"T_dddc5_row3_col2\" class=\"data row3 col2\" >0.952044</td>\n      <td id=\"T_dddc5_row3_col3\" class=\"data row3 col3\" >0.950644</td>\n      <td id=\"T_dddc5_row3_col4\" class=\"data row3 col4\" >0.944992</td>\n      <td id=\"T_dddc5_row3_col5\" class=\"data row3 col5\" >0.954307</td>\n      <td id=\"T_dddc5_row3_col6\" class=\"data row3 col6\" >0.953668</td>\n      <td id=\"T_dddc5_row3_col7\" class=\"data row3 col7\" >0.921161</td>\n      <td id=\"T_dddc5_row3_col8\" class=\"data row3 col8\" >0.946253</td>\n    </tr>\n    <tr>\n      <th id=\"T_dddc5_level0_row4\" class=\"row_heading level0 row4\" >TrimmedMean</th>\n      <td id=\"T_dddc5_row4_col0\" class=\"data row4 col0\" >0.949602</td>\n      <td id=\"T_dddc5_row4_col1\" class=\"data row4 col1\" >0.952404</td>\n      <td id=\"T_dddc5_row4_col2\" class=\"data row4 col2\" >0.948034</td>\n      <td id=\"T_dddc5_row4_col3\" class=\"data row4 col3\" >0.970341</td>\n      <td id=\"T_dddc5_row4_col4\" class=\"data row4 col4\" >0.956882</td>\n      <td id=\"T_dddc5_row4_col5\" class=\"data row4 col5\" >0.772362</td>\n      <td id=\"T_dddc5_row4_col6\" class=\"data row4 col6\" >0.947220</td>\n      <td id=\"T_dddc5_row4_col7\" class=\"data row4 col7\" >0.922005</td>\n      <td id=\"T_dddc5_row4_col8\" class=\"data row4 col8\" >0.024926</td>\n    </tr>\n  </tbody>\n</table>\n"
     },
     "execution_count": 31,
     "metadata": {},
     "output_type": "execute_result"
    }
   ],
   "source": [
    "overview_f1 = mean_benign.pivot(columns=[\"adversarial_args.attack_env.poisoned_node_percent\", \"adversarial_args.attack_env.poisoned_sample_percent\"],\n",
    "                               index=[\"aggregator_args.algorithm\"],\n",
    "                               values=[\"mean\"])\n",
    "\n",
    "overview_f1 = overview_f1.rename(columns={'adversarial_args.attack_env.poisoned_node_percent': 'poisoned_node_percent',})\n",
    "overview_f1_style = overview_f1.style.set_caption(\"Label Flipping Untargeted: F1 Score\")\n",
    "overview_f1_style.highlight_max()\n",
    "dfi.export(overview_f1_style,\"overview_f1.png\")\n",
    "overview_f1_style"
   ],
   "metadata": {
    "collapsed": false,
    "ExecuteTime": {
     "end_time": "2023-06-18T20:19:32.135800800Z",
     "start_time": "2023-06-18T20:19:31.646219400Z"
    }
   }
  },
  {
   "cell_type": "code",
   "execution_count": null,
   "outputs": [],
   "source": [
    "overview_acc = mean_benign.pivot(columns=[\"adversarial_args.attack_env.poisoned_node_percent\", \"adversarial_args.attack_env.poisoned_sample_percent\"],\n",
    "                                index=[\"aggregator_args.algorithm\"],\n",
    "                                values=\"Test/Accuracy\")\n",
    "\n",
    "overview_acc = overview_acc.rename(columns={'adversarial_args.attack_env.poisoned_node_percent': 'poisoned_node_percent'})\n",
    "overview_acc_style = overview_acc.style.set_caption(\"Label Flipping Untargeted: Accuracy\")\n",
    "overview_acc_style.highlight_max()\n",
    "dfi.export(overview_acc_style,\"overview_acc.png\")\n",
    "overview_acc_style"
   ],
   "metadata": {
    "collapsed": false
   }
  },
  {
   "cell_type": "code",
   "execution_count": 33,
   "outputs": [],
   "source": [
    "def get_plot_by_node_percent(data=None, fig=None, y_col=None, y_err=None, plt_title='No Title'):\n",
    "\n",
    "    df = data[['aggregator_args.algorithm', 'adversarial_args.attack_env.poisoned_node_percent', y_col]]\n",
    "    #fig = plt.figure(figsize=(8, 6))\n",
    "    fig = plt.figure()\n",
    "    marker_styles = ['+', 'x', 'o']\n",
    "    line_styles = ['-', '--', '-.', ':', '-']\n",
    "    ax = None\n",
    "\n",
    "    # Plot each aggregator's data\n",
    "    for i, (aggregator, data) in enumerate(df.groupby('aggregator_args.algorithm')):\n",
    "        df_agg = df[df['aggregator_args.algorithm'] == aggregator]\n",
    "        ax = df_agg.plot(x='adversarial_args.attack_env.poisoned_node_percent',\n",
    "                         y=y_col,\n",
    "                         errorbar=y_err,\n",
    "                         marker=marker_styles[i % len(marker_styles)],\n",
    "                         markersize=6,\n",
    "                         linestyle=line_styles[i % len(line_styles)],\n",
    "                         linewidth=1,\n",
    "                         label=aggregator,\n",
    "                         ax=ax)\n",
    "\n",
    "    # Set plot title and labels\n",
    "    plt.title(plt_title, fontsize=10)\n",
    "    plt.xlabel(\"Poisoned Node Percent\", fontsize=10)\n",
    "    plt.ylabel(y_col, fontsize=10)\n",
    "    plt.ylim(0,1)\n",
    "\n",
    "    # Set legend\n",
    "    plt.legend(fontsize=10)\n",
    "\n",
    "    # Set grid\n",
    "    plt.grid(True, linestyle='--', alpha=0.5)\n",
    "\n",
    "    # Increase tick font sizes\n",
    "    plt.xticks(fontsize=10)\n",
    "    plt.yticks(fontsize=10)\n",
    "\n",
    "    return fig\n"
   ],
   "metadata": {
    "collapsed": false,
    "ExecuteTime": {
     "end_time": "2023-06-18T20:26:32.414323800Z",
     "start_time": "2023-06-18T20:26:32.394234300Z"
    }
   }
  },
  {
   "cell_type": "code",
   "execution_count": 34,
   "outputs": [
    {
     "ename": "ValueError",
     "evalue": "label should be list-like and same length as y",
     "output_type": "error",
     "traceback": [
      "\u001B[1;31m---------------------------------------------------------------------------\u001B[0m",
      "\u001B[1;31mValueError\u001B[0m                                Traceback (most recent call last)",
      "Cell \u001B[1;32mIn[34], line 8\u001B[0m\n\u001B[0;32m      5\u001B[0m plt_title \u001B[38;5;241m=\u001B[39m \u001B[38;5;124m\"\u001B[39m\u001B[38;5;124mPoisoned Sample Percent: \u001B[39m\u001B[38;5;124m\"\u001B[39m \u001B[38;5;241m+\u001B[39m \u001B[38;5;28mstr\u001B[39m(percent)\n\u001B[0;32m      7\u001B[0m \u001B[38;5;66;03m# percent_f1 = helper.get_plot_by_node_percent(data=data_by_percent, y_col='Test/F1Score', plt_title=str(percent))\u001B[39;00m\n\u001B[1;32m----> 8\u001B[0m percent_acc \u001B[38;5;241m=\u001B[39m \u001B[43mget_plot_by_node_percent\u001B[49m\u001B[43m(\u001B[49m\u001B[43mdata\u001B[49m\u001B[38;5;241;43m=\u001B[39;49m\u001B[43mdata_by_percent\u001B[49m\u001B[43m,\u001B[49m\u001B[43m \u001B[49m\u001B[43my_col\u001B[49m\u001B[38;5;241;43m=\u001B[39;49m\u001B[38;5;124;43m'\u001B[39;49m\u001B[38;5;124;43mmean\u001B[39;49m\u001B[38;5;124;43m'\u001B[39;49m\u001B[43m,\u001B[49m\u001B[43m \u001B[49m\u001B[43my_err\u001B[49m\u001B[38;5;241;43m=\u001B[39;49m\u001B[38;5;124;43m'\u001B[39;49m\u001B[38;5;124;43mstd\u001B[39;49m\u001B[38;5;124;43m'\u001B[39;49m\u001B[43m,\u001B[49m\u001B[43m \u001B[49m\u001B[43mplt_title\u001B[49m\u001B[38;5;241;43m=\u001B[39;49m\u001B[43mplt_title\u001B[49m\u001B[43m)\u001B[49m\n\u001B[0;32m      9\u001B[0m plt\u001B[38;5;241m.\u001B[39msavefig(\u001B[38;5;124mf\u001B[39m\u001B[38;5;124m'\u001B[39m\u001B[38;5;124mlf-plot-\u001B[39m\u001B[38;5;132;01m{\u001B[39;00mpercent\u001B[38;5;132;01m}\u001B[39;00m\u001B[38;5;124m.png\u001B[39m\u001B[38;5;124m'\u001B[39m)\n",
      "Cell \u001B[1;32mIn[33], line 13\u001B[0m, in \u001B[0;36mget_plot_by_node_percent\u001B[1;34m(data, fig, y_col, y_err, plt_title)\u001B[0m\n\u001B[0;32m     11\u001B[0m \u001B[38;5;28;01mfor\u001B[39;00m i, (aggregator, data) \u001B[38;5;129;01min\u001B[39;00m \u001B[38;5;28menumerate\u001B[39m(df\u001B[38;5;241m.\u001B[39mgroupby(\u001B[38;5;124m'\u001B[39m\u001B[38;5;124maggregator_args.algorithm\u001B[39m\u001B[38;5;124m'\u001B[39m)):\n\u001B[0;32m     12\u001B[0m     df_agg \u001B[38;5;241m=\u001B[39m df[df[\u001B[38;5;124m'\u001B[39m\u001B[38;5;124maggregator_args.algorithm\u001B[39m\u001B[38;5;124m'\u001B[39m] \u001B[38;5;241m==\u001B[39m aggregator]\n\u001B[1;32m---> 13\u001B[0m     ax \u001B[38;5;241m=\u001B[39m \u001B[43mdf_agg\u001B[49m\u001B[38;5;241;43m.\u001B[39;49m\u001B[43mplot\u001B[49m\u001B[43m(\u001B[49m\u001B[43mx\u001B[49m\u001B[38;5;241;43m=\u001B[39;49m\u001B[38;5;124;43m'\u001B[39;49m\u001B[38;5;124;43madversarial_args.attack_env.poisoned_node_percent\u001B[39;49m\u001B[38;5;124;43m'\u001B[39;49m\u001B[43m,\u001B[49m\n\u001B[0;32m     14\u001B[0m \u001B[43m                     \u001B[49m\u001B[43my\u001B[49m\u001B[38;5;241;43m=\u001B[39;49m\u001B[43my_col\u001B[49m\u001B[43m,\u001B[49m\n\u001B[0;32m     15\u001B[0m \u001B[43m                     \u001B[49m\u001B[43merrorbar\u001B[49m\u001B[38;5;241;43m=\u001B[39;49m\u001B[43my_err\u001B[49m\u001B[43m,\u001B[49m\n\u001B[0;32m     16\u001B[0m \u001B[43m                     \u001B[49m\u001B[43mmarker\u001B[49m\u001B[38;5;241;43m=\u001B[39;49m\u001B[43mmarker_styles\u001B[49m\u001B[43m[\u001B[49m\u001B[43mi\u001B[49m\u001B[43m \u001B[49m\u001B[38;5;241;43m%\u001B[39;49m\u001B[43m \u001B[49m\u001B[38;5;28;43mlen\u001B[39;49m\u001B[43m(\u001B[49m\u001B[43mmarker_styles\u001B[49m\u001B[43m)\u001B[49m\u001B[43m]\u001B[49m\u001B[43m,\u001B[49m\n\u001B[0;32m     17\u001B[0m \u001B[43m                     \u001B[49m\u001B[43mmarkersize\u001B[49m\u001B[38;5;241;43m=\u001B[39;49m\u001B[38;5;241;43m6\u001B[39;49m\u001B[43m,\u001B[49m\n\u001B[0;32m     18\u001B[0m \u001B[43m                     \u001B[49m\u001B[43mlinestyle\u001B[49m\u001B[38;5;241;43m=\u001B[39;49m\u001B[43mline_styles\u001B[49m\u001B[43m[\u001B[49m\u001B[43mi\u001B[49m\u001B[43m \u001B[49m\u001B[38;5;241;43m%\u001B[39;49m\u001B[43m \u001B[49m\u001B[38;5;28;43mlen\u001B[39;49m\u001B[43m(\u001B[49m\u001B[43mline_styles\u001B[49m\u001B[43m)\u001B[49m\u001B[43m]\u001B[49m\u001B[43m,\u001B[49m\n\u001B[0;32m     19\u001B[0m \u001B[43m                     \u001B[49m\u001B[43mlinewidth\u001B[49m\u001B[38;5;241;43m=\u001B[39;49m\u001B[38;5;241;43m1\u001B[39;49m\u001B[43m,\u001B[49m\n\u001B[0;32m     20\u001B[0m \u001B[43m                     \u001B[49m\u001B[43mlabel\u001B[49m\u001B[38;5;241;43m=\u001B[39;49m\u001B[43maggregator\u001B[49m\u001B[43m,\u001B[49m\n\u001B[0;32m     21\u001B[0m \u001B[43m                     \u001B[49m\u001B[43max\u001B[49m\u001B[38;5;241;43m=\u001B[39;49m\u001B[43max\u001B[49m\u001B[43m)\u001B[49m\n\u001B[0;32m     23\u001B[0m \u001B[38;5;66;03m# Set plot title and labels\u001B[39;00m\n\u001B[0;32m     24\u001B[0m plt\u001B[38;5;241m.\u001B[39mtitle(plt_title, fontsize\u001B[38;5;241m=\u001B[39m\u001B[38;5;241m10\u001B[39m)\n",
      "File \u001B[1;32m~\\anaconda3\\envs\\ds\\lib\\site-packages\\pandas\\plotting\\_core.py:969\u001B[0m, in \u001B[0;36mPlotAccessor.__call__\u001B[1;34m(self, *args, **kwargs)\u001B[0m\n\u001B[0;32m    967\u001B[0m match \u001B[38;5;241m=\u001B[39m is_list_like(label_kw) \u001B[38;5;129;01mand\u001B[39;00m \u001B[38;5;28mlen\u001B[39m(label_kw) \u001B[38;5;241m==\u001B[39m \u001B[38;5;28mlen\u001B[39m(y)\n\u001B[0;32m    968\u001B[0m \u001B[38;5;28;01mif\u001B[39;00m label_kw \u001B[38;5;129;01mand\u001B[39;00m \u001B[38;5;129;01mnot\u001B[39;00m match:\n\u001B[1;32m--> 969\u001B[0m     \u001B[38;5;28;01mraise\u001B[39;00m \u001B[38;5;167;01mValueError\u001B[39;00m(\n\u001B[0;32m    970\u001B[0m         \u001B[38;5;124m\"\u001B[39m\u001B[38;5;124mlabel should be list-like and same length as y\u001B[39m\u001B[38;5;124m\"\u001B[39m\n\u001B[0;32m    971\u001B[0m     )\n\u001B[0;32m    972\u001B[0m label_name \u001B[38;5;241m=\u001B[39m label_kw \u001B[38;5;129;01mor\u001B[39;00m data\u001B[38;5;241m.\u001B[39mcolumns\n\u001B[0;32m    973\u001B[0m data\u001B[38;5;241m.\u001B[39mcolumns \u001B[38;5;241m=\u001B[39m label_name\n",
      "\u001B[1;31mValueError\u001B[0m: label should be list-like and same length as y"
     ]
    },
    {
     "data": {
      "text/plain": "<Figure size 640x480 with 0 Axes>"
     },
     "metadata": {},
     "output_type": "display_data"
    }
   ],
   "source": [
    "sample_percents = mean_benign['adversarial_args.attack_env.poisoned_sample_percent'].unique()\n",
    "\n",
    "for percent in sample_percents:\n",
    "    data_by_percent = mean_benign[mean_benign['adversarial_args.attack_env.poisoned_sample_percent'] == percent]\n",
    "    plt_title = \"Poisoned Sample Percent: \" + str(percent)\n",
    "\n",
    "    # percent_f1 = helper.get_plot_by_node_percent(data=data_by_percent, y_col='Test/F1Score', plt_title=str(percent))\n",
    "    percent_acc = get_plot_by_node_percent(data=data_by_percent, y_col='mean', y_err='std', plt_title=plt_title)\n",
    "    plt.savefig(f'lf-plot-{percent}.png')"
   ],
   "metadata": {
    "collapsed": false,
    "ExecuteTime": {
     "end_time": "2023-06-18T20:26:32.846264600Z",
     "start_time": "2023-06-18T20:26:32.681290900Z"
    }
   }
  },
  {
   "cell_type": "code",
   "execution_count": null,
   "outputs": [],
   "source": [],
   "metadata": {
    "collapsed": false
   }
  }
 ],
 "metadata": {
  "kernelspec": {
   "display_name": "Python 3",
   "language": "python",
   "name": "python3"
  },
  "language_info": {
   "codemirror_mode": {
    "name": "ipython",
    "version": 2
   },
   "file_extension": ".py",
   "mimetype": "text/x-python",
   "name": "python",
   "nbconvert_exporter": "python",
   "pygments_lexer": "ipython2",
   "version": "2.7.6"
  }
 },
 "nbformat": 4,
 "nbformat_minor": 0
}
