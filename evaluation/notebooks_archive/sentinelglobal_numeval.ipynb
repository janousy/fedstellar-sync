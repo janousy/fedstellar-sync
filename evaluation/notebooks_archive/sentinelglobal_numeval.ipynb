{
 "cells": [
  {
   "cell_type": "code",
   "execution_count": 5,
   "metadata": {
    "collapsed": true,
    "ExecuteTime": {
     "end_time": "2023-08-03T12:00:34.233607700Z",
     "start_time": "2023-08-03T12:00:34.224098200Z"
    }
   },
   "outputs": [],
   "source": [
    "import pandas as pd\n",
    "import wandb\n",
    "import os\n",
    "import matplotlib.pyplot as plt"
   ]
  },
  {
   "cell_type": "code",
   "execution_count": 6,
   "outputs": [],
   "source": [
    "_project = \"fedstellar-fmnist-sentinelglobal-eval\"\n",
    "\n",
    "benign_filter = {\n",
    "    'config.adversarial_args.attacks': 'No Attack',\n",
    "    'description': 'participant_0'\n",
    "}\n",
    "api = wandb.Api(timeout=60)\n",
    "runs = api.runs(f'janousy/{_project}', filters=benign_filter)\n",
    "keys = [\"PNR\", \"PSR\", \"Attack\", \"Evaluations\"]\n",
    "data = pd.DataFrame(columns=keys)\n",
    "\n",
    "for run in runs:\n",
    "    # .summary contains the output keys/values for metrics like accuracy.\n",
    "    #  We call ._json_dict to omit large files\n",
    "    row = dict.fromkeys(keys)\n",
    "    attack = run.config[\"attack_env\"][\"attack\"]\n",
    "    targeted = run.config[\"attack_env\"][\"targeted\"]\n",
    "    if attack == 'Label Flipping':\n",
    "        if targeted: attack = 'Label Flipping Targeted'\n",
    "        else: attack = 'Label Flipping Untargeted'\n",
    "    elif attack == 'Sample Poisoning':\n",
    "        attack = 'Backdoor'\n",
    "    row[\"Attack\"] = attack\n",
    "    row[\"PSR\"] = run.config[\"attack_env\"][\"poisoned_sample_percent\"]\n",
    "    row[\"PNR\"] = run.config[\"attack_env\"][\"poisoned_node_percent\"]\n",
    "    row[\"Evaluations\"] = run.summary[\"num_evals\"]\n",
    "\n",
    "    df_dict = pd.DataFrame.from_dict([row])\n",
    "    data = pd.concat([data, df_dict])\n",
    "\n",
    "data.to_csv(\"csv/sentinelglobal_numeval.csv\")\n"
   ],
   "metadata": {
    "collapsed": false,
    "ExecuteTime": {
     "end_time": "2023-08-03T12:00:35.221677800Z",
     "start_time": "2023-08-03T12:00:34.458591500Z"
    }
   }
  },
  {
   "cell_type": "code",
   "execution_count": 7,
   "outputs": [
    {
     "data": {
      "text/plain": "                          Evaluations                                       \\\nPNR                                10                       50               \nPSR                               0     30     50    100   0     30    50    \nAttack                                                                       \nBackdoor                          NaN  93.0  100.0  93.0   NaN  65.0  65.0   \nLabel Flipping Targeted           NaN  93.0   93.0  93.0   NaN  65.0  65.0   \nLabel Flipping Untargeted         NaN  94.0   93.0  93.0   NaN  65.0  65.0   \nModel Poisoning                  93.0   NaN    NaN   NaN  65.0   NaN   NaN   \n\n                                                         \nPNR                                80                    \nPSR                         100   0     30    50    100  \nAttack                                                   \nBackdoor                   65.0   NaN  45.0  53.0  44.0  \nLabel Flipping Targeted    65.0   NaN  44.0  44.0  44.0  \nLabel Flipping Untargeted  65.0   NaN  71.0  44.0  44.0  \nModel Poisoning             NaN  44.0   NaN   NaN   NaN  ",
      "text/html": "<div>\n<style scoped>\n    .dataframe tbody tr th:only-of-type {\n        vertical-align: middle;\n    }\n\n    .dataframe tbody tr th {\n        vertical-align: top;\n    }\n\n    .dataframe thead tr th {\n        text-align: left;\n    }\n\n    .dataframe thead tr:last-of-type th {\n        text-align: right;\n    }\n</style>\n<table border=\"1\" class=\"dataframe\">\n  <thead>\n    <tr>\n      <th></th>\n      <th colspan=\"12\" halign=\"left\">Evaluations</th>\n    </tr>\n    <tr>\n      <th>PNR</th>\n      <th colspan=\"4\" halign=\"left\">10</th>\n      <th colspan=\"4\" halign=\"left\">50</th>\n      <th colspan=\"4\" halign=\"left\">80</th>\n    </tr>\n    <tr>\n      <th>PSR</th>\n      <th>0</th>\n      <th>30</th>\n      <th>50</th>\n      <th>100</th>\n      <th>0</th>\n      <th>30</th>\n      <th>50</th>\n      <th>100</th>\n      <th>0</th>\n      <th>30</th>\n      <th>50</th>\n      <th>100</th>\n    </tr>\n    <tr>\n      <th>Attack</th>\n      <th></th>\n      <th></th>\n      <th></th>\n      <th></th>\n      <th></th>\n      <th></th>\n      <th></th>\n      <th></th>\n      <th></th>\n      <th></th>\n      <th></th>\n      <th></th>\n    </tr>\n  </thead>\n  <tbody>\n    <tr>\n      <th>Backdoor</th>\n      <td>NaN</td>\n      <td>93.0</td>\n      <td>100.0</td>\n      <td>93.0</td>\n      <td>NaN</td>\n      <td>65.0</td>\n      <td>65.0</td>\n      <td>65.0</td>\n      <td>NaN</td>\n      <td>45.0</td>\n      <td>53.0</td>\n      <td>44.0</td>\n    </tr>\n    <tr>\n      <th>Label Flipping Targeted</th>\n      <td>NaN</td>\n      <td>93.0</td>\n      <td>93.0</td>\n      <td>93.0</td>\n      <td>NaN</td>\n      <td>65.0</td>\n      <td>65.0</td>\n      <td>65.0</td>\n      <td>NaN</td>\n      <td>44.0</td>\n      <td>44.0</td>\n      <td>44.0</td>\n    </tr>\n    <tr>\n      <th>Label Flipping Untargeted</th>\n      <td>NaN</td>\n      <td>94.0</td>\n      <td>93.0</td>\n      <td>93.0</td>\n      <td>NaN</td>\n      <td>65.0</td>\n      <td>65.0</td>\n      <td>65.0</td>\n      <td>NaN</td>\n      <td>71.0</td>\n      <td>44.0</td>\n      <td>44.0</td>\n    </tr>\n    <tr>\n      <th>Model Poisoning</th>\n      <td>93.0</td>\n      <td>NaN</td>\n      <td>NaN</td>\n      <td>NaN</td>\n      <td>65.0</td>\n      <td>NaN</td>\n      <td>NaN</td>\n      <td>NaN</td>\n      <td>44.0</td>\n      <td>NaN</td>\n      <td>NaN</td>\n      <td>NaN</td>\n    </tr>\n  </tbody>\n</table>\n</div>"
     },
     "execution_count": 7,
     "metadata": {},
     "output_type": "execute_result"
    }
   ],
   "source": [
    "# df_nomp, df_mp = [x for _, x in data.groupby(data['Attack'] == 'Model Poisoning')]\n",
    "pv = data.pivot_table(index=[\"Attack\",\"PSR\", \"PNR\"], columns=[], values='Evaluations', aggfunc='mean')\n",
    "# pv_mp = df_mp.pivot_table(index=[\"Attack\",\"PNR\"], columns=[], values='Evaluations', aggfunc='mean')\n",
    "\n",
    "pv_unstkd = pv.unstack().unstack()\n",
    "# pv_nomp_unstkd = pv_nomp.unstack().unstack()\n",
    "pv_unstkd"
   ],
   "metadata": {
    "collapsed": false,
    "ExecuteTime": {
     "end_time": "2023-08-03T12:00:35.560205500Z",
     "start_time": "2023-08-03T12:00:35.495585900Z"
    }
   }
  },
  {
   "cell_type": "code",
   "execution_count": 8,
   "outputs": [],
   "source": [
    "from scripts import css_helper\n",
    "import dataframe_image as dfi\n",
    "\n",
    "pv_unstkd = pv_unstkd.fillna('-')\n",
    "\n",
    "pv_unstkd.index.name = None\n",
    "\n",
    "pv_unstkd_lv = pv_unstkd.droplevel(0, axis=1)\n",
    "\n",
    "pv_unstkd_lv_style= pv_unstkd_lv.style.format(precision=0)"
   ],
   "metadata": {
    "collapsed": false,
    "ExecuteTime": {
     "end_time": "2023-08-03T12:00:37.201889600Z",
     "start_time": "2023-08-03T12:00:36.555813300Z"
    }
   }
  },
  {
   "cell_type": "code",
   "execution_count": 9,
   "outputs": [],
   "source": [
    "styles = css_helper.get_table_styles()\n",
    "pv_unstkd_lv_style = pv_unstkd_lv_style.set_table_styles(styles)\n",
    "file = \"figures/sentinelglobal_numeval.png\"\n",
    "dfi.export(pv_unstkd_lv_style, file, dpi=600, fontsize=12)"
   ],
   "metadata": {
    "collapsed": false,
    "ExecuteTime": {
     "end_time": "2023-08-03T12:00:41.141071400Z",
     "start_time": "2023-08-03T12:00:37.378310600Z"
    }
   }
  },
  {
   "cell_type": "code",
   "execution_count": null,
   "outputs": [],
   "source": [],
   "metadata": {
    "collapsed": false
   }
  }
 ],
 "metadata": {
  "kernelspec": {
   "display_name": "Python 3",
   "language": "python",
   "name": "python3"
  },
  "language_info": {
   "codemirror_mode": {
    "name": "ipython",
    "version": 2
   },
   "file_extension": ".py",
   "mimetype": "text/x-python",
   "name": "python",
   "nbconvert_exporter": "python",
   "pygments_lexer": "ipython2",
   "version": "2.7.6"
  }
 },
 "nbformat": 4,
 "nbformat_minor": 0
}
