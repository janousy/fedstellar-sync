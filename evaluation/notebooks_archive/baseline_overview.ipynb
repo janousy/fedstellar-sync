{
 "cells": [
  {
   "cell_type": "code",
   "execution_count": 20,
   "outputs": [],
   "source": [
    "N_ROUNDS = 11"
   ],
   "metadata": {
    "collapsed": false,
    "ExecuteTime": {
     "end_time": "2023-07-12T12:21:27.929431Z",
     "start_time": "2023-07-12T12:21:27.906806900Z"
    }
   }
  },
  {
   "cell_type": "code",
   "execution_count": 22,
   "outputs": [],
   "source": [
    "import pandas as pd\n",
    "import matplotlib.pyplot as plt\n",
    "import numpy as np\n",
    "import matplotlib\n",
    "matplotlib.use('Agg')\n",
    "import dataframe_image as dfi\n",
    "from attacks import helper\n",
    "import os\n",
    "from pathlib import Path\n",
    "pd.set_option('display.max_columns', None)\n",
    "\n",
    "fmnist_b = pd.read_csv('data/wandb_export_2023-07-12_baseline_fashionmnist_f1.csv')\n",
    "mnist_b = pd.read_csv('data/wandb_export_2023-07-12_baseline_mnist_f1.csv')\n",
    "cifar10_b = pd.read_csv('data/wandb_export_2023-07-12_baseline_cifar10_f1.csv')"
   ],
   "metadata": {
    "collapsed": false,
    "ExecuteTime": {
     "end_time": "2023-07-12T12:21:45.397064900Z",
     "start_time": "2023-07-12T12:21:45.377361200Z"
    }
   }
  },
  {
   "cell_type": "code",
   "execution_count": 23,
   "outputs": [],
   "source": [
    "aggregation_list = [\"Krum\", \"FedAvg\", \"TrimmedMean\", \"FlTrust\", \"Sentinel\", \"SentinelGlobal\"]\n",
    "aggregation_list.sort()\n",
    "dataset_list = [\"MNIST\", \"FashionMNIST\", \"CIFAR10\"]\n",
    "overview = pd.DataFrame(data=None, index=aggregation_list, columns=dataset_list, dtype=None, copy=None)"
   ],
   "metadata": {
    "collapsed": false,
    "ExecuteTime": {
     "end_time": "2023-07-12T12:21:45.912927500Z",
     "start_time": "2023-07-12T12:21:45.897018Z"
    }
   }
  },
  {
   "cell_type": "code",
   "execution_count": 24,
   "outputs": [],
   "source": [
    "fmnist_f1 = fmnist_b[fmnist_b.columns.drop(list(fmnist_b.filter(regex='__MAX')))]\n",
    "fmnist_f1 = fmnist_b[fmnist_b.columns.drop(list(fmnist_b.filter(regex='__MIN')))]\n",
    "\n",
    "tmp = pd.DataFrame(index=range(0,N_ROUNDS), columns=aggregation_list)\n",
    "for aggregator in aggregation_list:\n",
    "    vals = fmnist_b.filter(regex=(f'{aggregator}_')).dropna()\n",
    "    vals = vals.reset_index().iloc[:, 1]\n",
    "    tmp[aggregator] = vals\n",
    "    assert len(vals) == N_ROUNDS\n",
    "tmp = tmp.reindex(sorted(tmp.columns), axis=1)\n",
    "tmp = tmp.transpose()\n",
    "overview['FashionMNIST'] = tmp[10]"
   ],
   "metadata": {
    "collapsed": false,
    "ExecuteTime": {
     "end_time": "2023-07-12T12:21:46.436901400Z",
     "start_time": "2023-07-12T12:21:46.406763900Z"
    }
   }
  },
  {
   "cell_type": "code",
   "execution_count": 25,
   "outputs": [],
   "source": [
    "mnist_f1 = mnist_b[mnist_b.columns.drop(list(mnist_b.filter(regex='__MAX')))]\n",
    "mnist_f1 = mnist_f1[mnist_f1.columns.drop(list(mnist_f1.filter(regex='__MIN')))]\n",
    "\n",
    "tmp = pd.DataFrame(index=range(0,N_ROUNDS), columns=aggregation_list)\n",
    "for aggregator in aggregation_list:\n",
    "    vals = mnist_f1.filter(regex=(f'{aggregator}_')).dropna()\n",
    "    vals = vals.reset_index().iloc[:, 1]\n",
    "    assert len(vals) == N_ROUNDS\n",
    "    tmp[aggregator] = vals\n",
    "tmp = tmp.reindex(sorted(tmp.columns), axis=1)\n",
    "tmp = tmp.transpose()\n",
    "overview['MNIST'] = tmp[10]"
   ],
   "metadata": {
    "collapsed": false,
    "ExecuteTime": {
     "end_time": "2023-07-12T12:21:46.931137Z",
     "start_time": "2023-07-12T12:21:46.916417Z"
    }
   }
  },
  {
   "cell_type": "code",
   "execution_count": 26,
   "outputs": [],
   "source": [
    "cifar10_f1 = cifar10_b[cifar10_b.columns.drop(list(cifar10_b.filter(regex='__MAX')))]\n",
    "cifar10_f1 = cifar10_f1[cifar10_f1.columns.drop(list(cifar10_f1.filter(regex='__MIN')))]\n",
    "\n",
    "tmp = pd.DataFrame(index=range(0,N_ROUNDS), columns=aggregation_list)\n",
    "for aggregator in aggregation_list:\n",
    "    vals = cifar10_f1.filter(regex=(f'{aggregator}_')).dropna()\n",
    "    vals = vals.reset_index().iloc[:, 1]\n",
    "    assert len(vals) == N_ROUNDS\n",
    "    tmp[aggregator] = vals\n",
    "tmp = tmp.reindex(sorted(tmp.columns), axis=1)\n",
    "tmp = tmp.transpose()\n",
    "overview['CIFAR10'] = tmp[10]"
   ],
   "metadata": {
    "collapsed": false,
    "ExecuteTime": {
     "end_time": "2023-07-12T12:21:47.411621200Z",
     "start_time": "2023-07-12T12:21:47.376795800Z"
    }
   }
  },
  {
   "cell_type": "code",
   "execution_count": 27,
   "outputs": [
    {
     "data": {
      "text/plain": "                   MNIST  FashionMNIST   CIFAR10\nFedAvg          0.952733      0.837768  0.764270\nFlTrust         0.952309      0.837385  0.764245\nKrum            0.935353      0.822143  0.671111\nSentinel        0.951335      0.833987  0.753640\nSentinelGlobal  0.953639      0.832156  0.753487\nTrimmedMean     0.951521      0.835301  0.762286",
      "text/html": "<div>\n<style scoped>\n    .dataframe tbody tr th:only-of-type {\n        vertical-align: middle;\n    }\n\n    .dataframe tbody tr th {\n        vertical-align: top;\n    }\n\n    .dataframe thead th {\n        text-align: right;\n    }\n</style>\n<table border=\"1\" class=\"dataframe\">\n  <thead>\n    <tr style=\"text-align: right;\">\n      <th></th>\n      <th>MNIST</th>\n      <th>FashionMNIST</th>\n      <th>CIFAR10</th>\n    </tr>\n  </thead>\n  <tbody>\n    <tr>\n      <th>FedAvg</th>\n      <td>0.952733</td>\n      <td>0.837768</td>\n      <td>0.764270</td>\n    </tr>\n    <tr>\n      <th>FlTrust</th>\n      <td>0.952309</td>\n      <td>0.837385</td>\n      <td>0.764245</td>\n    </tr>\n    <tr>\n      <th>Krum</th>\n      <td>0.935353</td>\n      <td>0.822143</td>\n      <td>0.671111</td>\n    </tr>\n    <tr>\n      <th>Sentinel</th>\n      <td>0.951335</td>\n      <td>0.833987</td>\n      <td>0.753640</td>\n    </tr>\n    <tr>\n      <th>SentinelGlobal</th>\n      <td>0.953639</td>\n      <td>0.832156</td>\n      <td>0.753487</td>\n    </tr>\n    <tr>\n      <th>TrimmedMean</th>\n      <td>0.951521</td>\n      <td>0.835301</td>\n      <td>0.762286</td>\n    </tr>\n  </tbody>\n</table>\n</div>"
     },
     "execution_count": 27,
     "metadata": {},
     "output_type": "execute_result"
    }
   ],
   "source": [
    "overview\n",
    "\n",
    "overview = overview.sort_index()\n",
    "overview"
   ],
   "metadata": {
    "collapsed": false,
    "ExecuteTime": {
     "end_time": "2023-07-12T12:21:48.156567600Z",
     "start_time": "2023-07-12T12:21:48.136833900Z"
    }
   }
  },
  {
   "cell_type": "code",
   "execution_count": 31,
   "outputs": [],
   "source": [
    "pd.set_option('colheader_justify', 'center')\n",
    "overview_style = overview.style.set_caption(f'F1-Score\\n')\n",
    "#overview_style.highlight_max(props='font-weight: bold')\n",
    "#tbl_style = overview_style.set_table_styles([dict(selector='th', props=[('text-align', 'center')])])\n",
    "#tbl_style.set_properties(**{'text-align': 'center'}).hide_index()\n",
    "dfi.export(overview_style, \"figures/baseline_overview_f1.png\", dpi=300)"
   ],
   "metadata": {
    "collapsed": false,
    "ExecuteTime": {
     "end_time": "2023-07-12T12:22:13.793592700Z",
     "start_time": "2023-07-12T12:22:13.286805100Z"
    }
   }
  }
 ],
 "metadata": {
  "kernelspec": {
   "display_name": "Python 3",
   "language": "python",
   "name": "python3"
  },
  "language_info": {
   "codemirror_mode": {
    "name": "ipython",
    "version": 2
   },
   "file_extension": ".py",
   "mimetype": "text/x-python",
   "name": "python",
   "nbconvert_exporter": "python",
   "pygments_lexer": "ipython2",
   "version": "2.7.6"
  }
 },
 "nbformat": 4,
 "nbformat_minor": 0
}
