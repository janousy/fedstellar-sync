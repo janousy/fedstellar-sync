{
 "cells": [
  {
   "cell_type": "code",
   "execution_count": 1,
   "metadata": {},
   "outputs": [
    {
     "name": "stderr",
     "output_type": "stream",
     "text": [
      "d:\\git\\fedstellar-venv\\lib\\site-packages\\tqdm\\auto.py:22: TqdmWarning: IProgress not found. Please update jupyter and ipywidgets. See https://ipywidgets.readthedocs.io/en/stable/user_install.html\n",
      "  from .autonotebook import tqdm as notebook_tqdm\n"
     ]
    }
   ],
   "source": [
    "import os\n",
    "import sys\n",
    "from math import floor\n",
    "\n",
    "# To Avoid Crashes with a lot of nodes\n",
    "import torch.multiprocessing\n",
    "from pytorch_lightning import LightningDataModule\n",
    "from torch.utils.data import DataLoader, Subset, random_split\n",
    "from torchvision import transforms\n",
    "from torchvision.datasets import MNIST\n",
    "import copy\n",
    "import random"
   ]
  },
  {
   "cell_type": "code",
   "execution_count": 2,
   "metadata": {},
   "outputs": [],
   "source": [
    "sys.path.append(os.path.join(os.path.dirname('__file__'),'../../../..'))  # Parent directory where is the fedstellar module"
   ]
  },
  {
   "cell_type": "code",
   "execution_count": 3,
   "metadata": {},
   "outputs": [],
   "source": [
    "from fedstellar import learning"
   ]
  },
  {
   "cell_type": "code",
   "execution_count": 4,
   "metadata": {},
   "outputs": [],
   "source": [
    "import copy\n",
    "import random"
   ]
  },
  {
   "cell_type": "code",
   "execution_count": 5,
   "metadata": {},
   "outputs": [],
   "source": [
    "model_path = 'D:/git/fedstellar-venv/fedstellar/app/models/fedstellar_DFL_20_03_2023_10_58_56/'"
   ]
  },
  {
   "cell_type": "code",
   "execution_count": 6,
   "metadata": {},
   "outputs": [],
   "source": [
    "import pickle as pk"
   ]
  },
  {
   "cell_type": "code",
   "execution_count": 7,
   "metadata": {},
   "outputs": [],
   "source": [
    "model_file_0=model_path+'participant_0_model.pk'\n",
    "model_file_1=model_path+'participant_1_model.pk'"
   ]
  },
  {
   "cell_type": "code",
   "execution_count": 8,
   "metadata": {},
   "outputs": [],
   "source": [
    "with open(model_file_0, 'rb') as f0:\n",
    "    model0 = pk.load(f0)"
   ]
  },
  {
   "cell_type": "code",
   "execution_count": 9,
   "metadata": {},
   "outputs": [],
   "source": [
    "with open(model_file_1, 'rb') as f1:\n",
    "    model1 = pk.load(f1)"
   ]
  },
  {
   "cell_type": "code",
   "execution_count": 25,
   "metadata": {},
   "outputs": [],
   "source": [
    "param1 = model0.state_dict()\n",
    "\n",
    "param2 = model1.state_dict()\n"
   ]
  },
  {
   "cell_type": "code",
   "execution_count": 31,
   "metadata": {},
   "outputs": [
    {
     "name": "stdout",
     "output_type": "stream",
     "text": [
      "True\n",
      "True\n",
      "True\n",
      "True\n",
      "True\n",
      "True\n"
     ]
    }
   ],
   "source": [
    "for layer in param1:\n",
    "    p1 = param1[layer]\n",
    "    p2 = param2[layer]\n",
    "    print(torch.equal(p1, p2))"
   ]
  },
  {
   "cell_type": "code",
   "execution_count": 8,
   "metadata": {},
   "outputs": [],
   "source": [
    "def label_flipping(dataset, indices, flippingPersent):\n",
    "    \"\"\"\n",
    "    \n",
    "    \"\"\"\n",
    "    new_dataset = dataset\n",
    "    targets = new_dataset.targets.detach().clone()\n",
    "    num_indices = len(indices)\n",
    "    classes = new_dataset.classes\n",
    "    class_to_idx = new_dataset.class_to_idx\n",
    "    class_list = [class_to_idx[i] for i in classes]\n",
    "\n",
    "    num_flipped = int(flippingPersent*num_indices)\n",
    "    if num_indices == 0:\n",
    "        return new_dataset\n",
    "    if num_flipped > num_indices:\n",
    "        return new_dataset\n",
    "    flipped_indice = random.sample(indices, num_flipped)\n",
    "    \n",
    "    for i in flipped_indice:\n",
    "        t = targets[i]\n",
    "        flipped = torch.tensor(random.sample(class_list, 1)[0])        \n",
    "        while t == flipped:\n",
    "            flipped = torch.tensor(random.sample(class_list, 1)[0])\n",
    "        targets[i] = flipped\n",
    "    new_dataset.targets = targets\n",
    "    return new_dataset\n"
   ]
  },
  {
   "cell_type": "code",
   "execution_count": 20,
   "metadata": {},
   "outputs": [],
   "source": [
    "from skimage.util import random_noise"
   ]
  },
  {
   "cell_type": "code",
   "execution_count": 31,
   "metadata": {},
   "outputs": [],
   "source": [
    "def datapoison(dataset, indices, poisoned_persent, poisoned_ratio, noise_type=\"salt\"):\n",
    "    \"\"\"\n",
    "    \"\"\"\n",
    "    new_dataset = copy.copy(dataset)\n",
    "    train_data = new_dataset.data.detach().clone()\n",
    "    num_indices = len(indices)\n",
    "\n",
    "    num_poisoned = int(poisoned_persent*num_indices)\n",
    "    if num_indices == 0:\n",
    "        return new_dataset\n",
    "    if num_poisoned > num_indices:\n",
    "        return new_dataset\n",
    "    poisoned_indice = random.sample(indices, num_poisoned)\n",
    "    \n",
    "    for i in poisoned_indice:\n",
    "        t = train_data[i]\n",
    "        if noise_type == \"salt\":\n",
    "            poisoned = torch.tensor(random_noise(t, mode=noise_type, amount=poisoned_ratio))\n",
    "        elif noise_type == \"gaussian\":\n",
    "            poisoned = torch.tensor(random_noise(t, mode=noise_type, mean=0, var=poisoned_ratio, clip=True))\n",
    "        elif noise_type == \"speckle\":\n",
    "            poisoned = torch.tensor(random_noise(t, mode=noise_type, mean=0, var=poisoned_ratio, clip=True))\n",
    "        else:\n",
    "            print(\"ERROR: poison attack type not supported.\")\n",
    "            poisoned = t\n",
    "        train_data[i] = poisoned\n",
    "    new_dataset.targets = train_data\n",
    "    return new_dataset"
   ]
  },
  {
   "cell_type": "code",
   "execution_count": 2,
   "metadata": {},
   "outputs": [],
   "source": [
    "mnist_train = MNIST(f\"{sys.path[0]}/data\", train=True, download=False, transform=transforms.ToTensor())"
   ]
  },
  {
   "cell_type": "code",
   "execution_count": 3,
   "metadata": {},
   "outputs": [],
   "source": [
    "rows_by_sub = floor(len(mnist_train) / 3)"
   ]
  },
  {
   "cell_type": "code",
   "execution_count": 4,
   "metadata": {},
   "outputs": [],
   "source": [
    "trainset = tr_subset = Subset(\n",
    "            mnist_train, range(0 * rows_by_sub, (0 + 1) * rows_by_sub))"
   ]
  },
  {
   "cell_type": "code",
   "execution_count": 5,
   "metadata": {},
   "outputs": [
    {
     "data": {
      "text/plain": [
       "range(0, 20000)"
      ]
     },
     "execution_count": 5,
     "metadata": {},
     "output_type": "execute_result"
    }
   ],
   "source": [
    "trainset.indices"
   ]
  },
  {
   "cell_type": "code",
   "execution_count": 6,
   "metadata": {},
   "outputs": [],
   "source": [
    "mnist_train, mnist_val = random_split(\n",
    "            tr_subset,\n",
    "            [\n",
    "                round(len(tr_subset) * (1 - 0.2)),\n",
    "                round(len(tr_subset) * 0.2),\n",
    "            ],\n",
    "        )\n"
   ]
  },
  {
   "cell_type": "code",
   "execution_count": 26,
   "metadata": {},
   "outputs": [
    {
     "data": {
      "text/plain": [
       "tensor([[0, 0, 0, 0, 0, 0, 0, 0, 0, 0, 0, 0, 0, 0, 0, 0, 0, 0, 0, 0, 0, 0, 0, 0,\n",
       "         0, 0, 0, 0],\n",
       "        [0, 0, 0, 0, 0, 0, 0, 0, 0, 0, 0, 0, 0, 0, 0, 0, 0, 0, 0, 0, 0, 0, 0, 0,\n",
       "         0, 0, 0, 0],\n",
       "        [0, 0, 0, 0, 0, 0, 0, 0, 0, 0, 0, 0, 0, 0, 0, 0, 0, 0, 0, 0, 0, 0, 0, 0,\n",
       "         0, 0, 0, 0],\n",
       "        [0, 0, 0, 0, 0, 0, 0, 0, 0, 0, 0, 0, 0, 0, 0, 0, 0, 0, 0, 0, 0, 0, 0, 0,\n",
       "         0, 0, 0, 0],\n",
       "        [0, 0, 0, 0, 0, 0, 0, 0, 0, 0, 0, 0, 0, 0, 0, 0, 0, 0, 0, 0, 0, 0, 0, 0,\n",
       "         0, 0, 0, 0]], dtype=torch.uint8)"
      ]
     },
     "execution_count": 26,
     "metadata": {},
     "output_type": "execute_result"
    }
   ],
   "source": [
    "a = mnist_train.data[0][0:5]\n",
    "a"
   ]
  },
  {
   "cell_type": "code",
   "execution_count": 52,
   "metadata": {},
   "outputs": [],
   "source": [
    "noise_type = \"s&p\""
   ]
  },
  {
   "cell_type": "code",
   "execution_count": 56,
   "metadata": {},
   "outputs": [
    {
     "data": {
      "text/plain": [
       "tensor([[0., 0., 0., 0., 0., 0., 0., 0., 0., 0., 0., 0., 0., 0., 0., 0., 0., 0.,\n",
       "         0., 0., 0., 0., 0., 0., 0., 0., 0., 0.],\n",
       "        [0., 1., 0., 0., 0., 0., 0., 0., 0., 0., 0., 0., 0., 0., 0., 0., 1., 0.,\n",
       "         0., 0., 0., 0., 0., 0., 0., 0., 0., 0.],\n",
       "        [0., 0., 0., 0., 0., 0., 0., 0., 0., 0., 0., 0., 0., 0., 0., 0., 0., 0.,\n",
       "         0., 0., 0., 0., 0., 0., 0., 0., 0., 0.],\n",
       "        [0., 0., 0., 0., 0., 0., 0., 0., 0., 0., 0., 0., 0., 0., 1., 0., 0., 0.,\n",
       "         0., 0., 0., 0., 0., 0., 0., 0., 0., 0.],\n",
       "        [0., 0., 0., 0., 0., 0., 0., 0., 0., 0., 0., 0., 0., 0., 0., 0., 0., 1.,\n",
       "         0., 0., 0., 0., 0., 0., 0., 0., 0., 0.]], dtype=torch.float64)"
      ]
     },
     "execution_count": 56,
     "metadata": {},
     "output_type": "execute_result"
    }
   ],
   "source": [
    "poisoned = torch.tensor(random_noise(a, mode=noise_type,amount=0.1 ))\n",
    "poisoned"
   ]
  },
  {
   "cell_type": "code",
   "execution_count": 16,
   "metadata": {},
   "outputs": [],
   "source": [
    "class ChangeableSubset(Subset):\n",
    "    \"\"\"\n",
    "    Could change the elements in Subset Class\n",
    "    \"\"\"\n",
    "    def __init__(self, dataset, indices, label_flpping=False, data_change=False, flippingPersent=0, dataChangePersent=0):\n",
    "        new_dataset = copy.copy(dataset)\n",
    "        self.dataset = new_dataset\n",
    "        self.indices = indices\n",
    "        self.label_flpping = label_flpping\n",
    "        self.flippingPersent = flippingPersent\n",
    "        self.data_change = data_change\n",
    "        self.dataChangePersent = dataChangePersent\n",
    "\n",
    "        if self.label_flpping == True:\n",
    "            self.dataset = label_flipping(self.dataset, self.indices, self.flippingPersent)\n",
    "        # if data_change:\n",
    "    \n",
    "    def __getitem__(self, idx):\n",
    "        if isinstance(idx, list):\n",
    "            return self.dataset[[self.indices[i] for i in idx]]\n",
    "        return self.dataset[self.indices[idx]]\n",
    "    \n",
    "    def __len__(self):\n",
    "        return len(self.indices)\n"
   ]
  },
  {
   "cell_type": "code",
   "execution_count": 19,
   "metadata": {},
   "outputs": [
    {
     "data": {
      "text/plain": [
       "torch.Size([60000, 28, 28])"
      ]
     },
     "execution_count": 19,
     "metadata": {},
     "output_type": "execute_result"
    }
   ],
   "source": [
    "mnist_train.data.shape\n"
   ]
  },
  {
   "cell_type": "code",
   "execution_count": 17,
   "metadata": {},
   "outputs": [],
   "source": [
    "tr_subset = ChangeableSubset(\n",
    "            mnist_train, range(0, 100), label_flpping=False\n",
    "        )"
   ]
  }
 ],
 "metadata": {
  "kernelspec": {
   "display_name": "Python 3",
   "language": "python",
   "name": "python3"
  },
  "language_info": {
   "codemirror_mode": {
    "name": "ipython",
    "version": 3
   },
   "file_extension": ".py",
   "mimetype": "text/x-python",
   "name": "python",
   "nbconvert_exporter": "python",
   "pygments_lexer": "ipython3",
   "version": "3.9.6"
  },
  "orig_nbformat": 4,
  "vscode": {
   "interpreter": {
    "hash": "81794d4967e6c3204c66dcd87b604927b115b27c00565d3d43f05ba2f3a2cb0d"
   }
  }
 },
 "nbformat": 4,
 "nbformat_minor": 2
}
